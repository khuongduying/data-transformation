{
  "nbformat": 4,
  "nbformat_minor": 0,
  "metadata": {
    "colab": {
      "provenance": [],
      "authorship_tag": "ABX9TyNuuX10VDGzTVwnk+1FEmar",
      "include_colab_link": true
    },
    "kernelspec": {
      "name": "ir",
      "display_name": "R"
    },
    "language_info": {
      "name": "R"
    }
  },
  "cells": [
    {
      "cell_type": "markdown",
      "metadata": {
        "id": "view-in-github",
        "colab_type": "text"
      },
      "source": [
        "<a href=\"https://colab.research.google.com/github/khuongduying/data-transformation/blob/main/Data_tidying.ipynb\" target=\"_parent\"><img src=\"https://colab.research.google.com/assets/colab-badge.svg\" alt=\"Open In Colab\"/></a>"
      ]
    },
    {
      "cell_type": "markdown",
      "source": [
        "Getting your data into this format requires some work up front, but that work pays off in the long term."
      ],
      "metadata": {
        "id": "1ZFPV78QjsMC"
      }
    },
    {
      "cell_type": "markdown",
      "source": [
        "Pivoting allows you to change the form of your data without changing any of the values."
      ],
      "metadata": {
        "id": "0l9GjkRhlWGt"
      }
    },
    {
      "cell_type": "markdown",
      "source": [
        "### Prerequisites"
      ],
      "metadata": {
        "id": "sWbKgOOdlqn8"
      }
    },
    {
      "cell_type": "code",
      "source": [
        "library(tidyverse)"
      ],
      "metadata": {
        "colab": {
          "base_uri": "https://localhost:8080/"
        },
        "id": "5_H8X7Dxlt0k",
        "outputId": "f2310e85-b6a5-4899-87dc-684721578bea"
      },
      "execution_count": 1,
      "outputs": [
        {
          "output_type": "stream",
          "name": "stderr",
          "text": [
            "── \u001b[1mAttaching core tidyverse packages\u001b[22m ──────────────────────── tidyverse 2.0.0 ──\n",
            "\u001b[32m✔\u001b[39m \u001b[34mdplyr    \u001b[39m 1.1.4     \u001b[32m✔\u001b[39m \u001b[34mreadr    \u001b[39m 2.1.5\n",
            "\u001b[32m✔\u001b[39m \u001b[34mforcats  \u001b[39m 1.0.0     \u001b[32m✔\u001b[39m \u001b[34mstringr  \u001b[39m 1.5.1\n",
            "\u001b[32m✔\u001b[39m \u001b[34mggplot2  \u001b[39m 3.4.4     \u001b[32m✔\u001b[39m \u001b[34mtibble   \u001b[39m 3.2.1\n",
            "\u001b[32m✔\u001b[39m \u001b[34mlubridate\u001b[39m 1.9.3     \u001b[32m✔\u001b[39m \u001b[34mtidyr    \u001b[39m 1.3.1\n",
            "\u001b[32m✔\u001b[39m \u001b[34mpurrr    \u001b[39m 1.0.2     \n",
            "── \u001b[1mConflicts\u001b[22m ────────────────────────────────────────── tidyverse_conflicts() ──\n",
            "\u001b[31m✖\u001b[39m \u001b[34mpurrr\u001b[39m::\u001b[32m%||%()\u001b[39m   masks \u001b[34mbase\u001b[39m::%||%()\n",
            "\u001b[31m✖\u001b[39m \u001b[34mdplyr\u001b[39m::\u001b[32mfilter()\u001b[39m masks \u001b[34mstats\u001b[39m::filter()\n",
            "\u001b[31m✖\u001b[39m \u001b[34mdplyr\u001b[39m::\u001b[32mlag()\u001b[39m    masks \u001b[34mstats\u001b[39m::lag()\n",
            "\u001b[36mℹ\u001b[39m Use the conflicted package (\u001b[3m\u001b[34m<http://conflicted.r-lib.org/>\u001b[39m\u001b[23m) to force all conflicts to become errors\n"
          ]
        }
      ]
    },
    {
      "cell_type": "markdown",
      "source": [
        "## Tidy Data"
      ],
      "metadata": {
        "id": "-yGB8ZrHlyY9"
      }
    },
    {
      "cell_type": "markdown",
      "source": [
        "You can represent the same underlying data in multiple ways"
      ],
      "metadata": {
        "id": "1C21qxQxl4Ck"
      }
    },
    {
      "cell_type": "markdown",
      "source": [
        "The example below shows the same data organized in three different ways."
      ],
      "metadata": {
        "id": "xsCLbOQpmknF"
      }
    },
    {
      "cell_type": "markdown",
      "source": [
        "Each dataset shows the same values of four variables:\n",
        "- country\n",
        "- year\n",
        "- population\n",
        "- number of documented cases of TB (tuberculosis)\n",
        "\n",
        "but each dataset organizes the values in a different way."
      ],
      "metadata": {
        "id": "0BJYrWppmsiO"
      }
    },
    {
      "cell_type": "code",
      "source": [
        "table1"
      ],
      "metadata": {
        "colab": {
          "base_uri": "https://localhost:8080/",
          "height": 286
        },
        "id": "bvsHOIdFnQM1",
        "outputId": "7daee917-0532-4c1a-c2ee-99f478f189e8"
      },
      "execution_count": null,
      "outputs": [
        {
          "output_type": "display_data",
          "data": {
            "text/html": [
              "<table class=\"dataframe\">\n",
              "<caption>A tibble: 6 × 4</caption>\n",
              "<thead>\n",
              "\t<tr><th scope=col>country</th><th scope=col>year</th><th scope=col>cases</th><th scope=col>population</th></tr>\n",
              "\t<tr><th scope=col>&lt;chr&gt;</th><th scope=col>&lt;dbl&gt;</th><th scope=col>&lt;dbl&gt;</th><th scope=col>&lt;dbl&gt;</th></tr>\n",
              "</thead>\n",
              "<tbody>\n",
              "\t<tr><td>Afghanistan</td><td>1999</td><td>   745</td><td>  19987071</td></tr>\n",
              "\t<tr><td>Afghanistan</td><td>2000</td><td>  2666</td><td>  20595360</td></tr>\n",
              "\t<tr><td>Brazil     </td><td>1999</td><td> 37737</td><td> 172006362</td></tr>\n",
              "\t<tr><td>Brazil     </td><td>2000</td><td> 80488</td><td> 174504898</td></tr>\n",
              "\t<tr><td>China      </td><td>1999</td><td>212258</td><td>1272915272</td></tr>\n",
              "\t<tr><td>China      </td><td>2000</td><td>213766</td><td>1280428583</td></tr>\n",
              "</tbody>\n",
              "</table>\n"
            ],
            "text/markdown": "\nA tibble: 6 × 4\n\n| country &lt;chr&gt; | year &lt;dbl&gt; | cases &lt;dbl&gt; | population &lt;dbl&gt; |\n|---|---|---|---|\n| Afghanistan | 1999 |    745 |   19987071 |\n| Afghanistan | 2000 |   2666 |   20595360 |\n| Brazil      | 1999 |  37737 |  172006362 |\n| Brazil      | 2000 |  80488 |  174504898 |\n| China       | 1999 | 212258 | 1272915272 |\n| China       | 2000 | 213766 | 1280428583 |\n\n",
            "text/latex": "A tibble: 6 × 4\n\\begin{tabular}{llll}\n country & year & cases & population\\\\\n <chr> & <dbl> & <dbl> & <dbl>\\\\\n\\hline\n\t Afghanistan & 1999 &    745 &   19987071\\\\\n\t Afghanistan & 2000 &   2666 &   20595360\\\\\n\t Brazil      & 1999 &  37737 &  172006362\\\\\n\t Brazil      & 2000 &  80488 &  174504898\\\\\n\t China       & 1999 & 212258 & 1272915272\\\\\n\t China       & 2000 & 213766 & 1280428583\\\\\n\\end{tabular}\n",
            "text/plain": [
              "  country     year cases  population\n",
              "1 Afghanistan 1999    745   19987071\n",
              "2 Afghanistan 2000   2666   20595360\n",
              "3 Brazil      1999  37737  172006362\n",
              "4 Brazil      2000  80488  174504898\n",
              "5 China       1999 212258 1272915272\n",
              "6 China       2000 213766 1280428583"
            ]
          },
          "metadata": {}
        }
      ]
    },
    {
      "cell_type": "code",
      "source": [
        "table2"
      ],
      "metadata": {
        "colab": {
          "base_uri": "https://localhost:8080/",
          "height": 474
        },
        "id": "i2pLPgXAnR8G",
        "outputId": "9544cd66-f6d3-4c0a-a1b3-c3b445b01126"
      },
      "execution_count": null,
      "outputs": [
        {
          "output_type": "display_data",
          "data": {
            "text/html": [
              "<table class=\"dataframe\">\n",
              "<caption>A tibble: 12 × 4</caption>\n",
              "<thead>\n",
              "\t<tr><th scope=col>country</th><th scope=col>year</th><th scope=col>type</th><th scope=col>count</th></tr>\n",
              "\t<tr><th scope=col>&lt;chr&gt;</th><th scope=col>&lt;dbl&gt;</th><th scope=col>&lt;chr&gt;</th><th scope=col>&lt;dbl&gt;</th></tr>\n",
              "</thead>\n",
              "<tbody>\n",
              "\t<tr><td>Afghanistan</td><td>1999</td><td>cases     </td><td>       745</td></tr>\n",
              "\t<tr><td>Afghanistan</td><td>1999</td><td>population</td><td>  19987071</td></tr>\n",
              "\t<tr><td>Afghanistan</td><td>2000</td><td>cases     </td><td>      2666</td></tr>\n",
              "\t<tr><td>Afghanistan</td><td>2000</td><td>population</td><td>  20595360</td></tr>\n",
              "\t<tr><td>Brazil     </td><td>1999</td><td>cases     </td><td>     37737</td></tr>\n",
              "\t<tr><td>Brazil     </td><td>1999</td><td>population</td><td> 172006362</td></tr>\n",
              "\t<tr><td>Brazil     </td><td>2000</td><td>cases     </td><td>     80488</td></tr>\n",
              "\t<tr><td>Brazil     </td><td>2000</td><td>population</td><td> 174504898</td></tr>\n",
              "\t<tr><td>China      </td><td>1999</td><td>cases     </td><td>    212258</td></tr>\n",
              "\t<tr><td>China      </td><td>1999</td><td>population</td><td>1272915272</td></tr>\n",
              "\t<tr><td>China      </td><td>2000</td><td>cases     </td><td>    213766</td></tr>\n",
              "\t<tr><td>China      </td><td>2000</td><td>population</td><td>1280428583</td></tr>\n",
              "</tbody>\n",
              "</table>\n"
            ],
            "text/markdown": "\nA tibble: 12 × 4\n\n| country &lt;chr&gt; | year &lt;dbl&gt; | type &lt;chr&gt; | count &lt;dbl&gt; |\n|---|---|---|---|\n| Afghanistan | 1999 | cases      |        745 |\n| Afghanistan | 1999 | population |   19987071 |\n| Afghanistan | 2000 | cases      |       2666 |\n| Afghanistan | 2000 | population |   20595360 |\n| Brazil      | 1999 | cases      |      37737 |\n| Brazil      | 1999 | population |  172006362 |\n| Brazil      | 2000 | cases      |      80488 |\n| Brazil      | 2000 | population |  174504898 |\n| China       | 1999 | cases      |     212258 |\n| China       | 1999 | population | 1272915272 |\n| China       | 2000 | cases      |     213766 |\n| China       | 2000 | population | 1280428583 |\n\n",
            "text/latex": "A tibble: 12 × 4\n\\begin{tabular}{llll}\n country & year & type & count\\\\\n <chr> & <dbl> & <chr> & <dbl>\\\\\n\\hline\n\t Afghanistan & 1999 & cases      &        745\\\\\n\t Afghanistan & 1999 & population &   19987071\\\\\n\t Afghanistan & 2000 & cases      &       2666\\\\\n\t Afghanistan & 2000 & population &   20595360\\\\\n\t Brazil      & 1999 & cases      &      37737\\\\\n\t Brazil      & 1999 & population &  172006362\\\\\n\t Brazil      & 2000 & cases      &      80488\\\\\n\t Brazil      & 2000 & population &  174504898\\\\\n\t China       & 1999 & cases      &     212258\\\\\n\t China       & 1999 & population & 1272915272\\\\\n\t China       & 2000 & cases      &     213766\\\\\n\t China       & 2000 & population & 1280428583\\\\\n\\end{tabular}\n",
            "text/plain": [
              "   country     year type       count     \n",
              "1  Afghanistan 1999 cases             745\n",
              "2  Afghanistan 1999 population   19987071\n",
              "3  Afghanistan 2000 cases            2666\n",
              "4  Afghanistan 2000 population   20595360\n",
              "5  Brazil      1999 cases           37737\n",
              "6  Brazil      1999 population  172006362\n",
              "7  Brazil      2000 cases           80488\n",
              "8  Brazil      2000 population  174504898\n",
              "9  China       1999 cases          212258\n",
              "10 China       1999 population 1272915272\n",
              "11 China       2000 cases          213766\n",
              "12 China       2000 population 1280428583"
            ]
          },
          "metadata": {}
        }
      ]
    },
    {
      "cell_type": "code",
      "source": [
        "table3"
      ],
      "metadata": {
        "colab": {
          "base_uri": "https://localhost:8080/",
          "height": 286
        },
        "id": "9I3swnUnnVbO",
        "outputId": "d07b8030-850f-4bf4-e929-72498c2c22a0"
      },
      "execution_count": null,
      "outputs": [
        {
          "output_type": "display_data",
          "data": {
            "text/html": [
              "<table class=\"dataframe\">\n",
              "<caption>A tibble: 6 × 3</caption>\n",
              "<thead>\n",
              "\t<tr><th scope=col>country</th><th scope=col>year</th><th scope=col>rate</th></tr>\n",
              "\t<tr><th scope=col>&lt;chr&gt;</th><th scope=col>&lt;dbl&gt;</th><th scope=col>&lt;chr&gt;</th></tr>\n",
              "</thead>\n",
              "<tbody>\n",
              "\t<tr><td>Afghanistan</td><td>1999</td><td>745/19987071     </td></tr>\n",
              "\t<tr><td>Afghanistan</td><td>2000</td><td>2666/20595360    </td></tr>\n",
              "\t<tr><td>Brazil     </td><td>1999</td><td>37737/172006362  </td></tr>\n",
              "\t<tr><td>Brazil     </td><td>2000</td><td>80488/174504898  </td></tr>\n",
              "\t<tr><td>China      </td><td>1999</td><td>212258/1272915272</td></tr>\n",
              "\t<tr><td>China      </td><td>2000</td><td>213766/1280428583</td></tr>\n",
              "</tbody>\n",
              "</table>\n"
            ],
            "text/markdown": "\nA tibble: 6 × 3\n\n| country &lt;chr&gt; | year &lt;dbl&gt; | rate &lt;chr&gt; |\n|---|---|---|\n| Afghanistan | 1999 | 745/19987071      |\n| Afghanistan | 2000 | 2666/20595360     |\n| Brazil      | 1999 | 37737/172006362   |\n| Brazil      | 2000 | 80488/174504898   |\n| China       | 1999 | 212258/1272915272 |\n| China       | 2000 | 213766/1280428583 |\n\n",
            "text/latex": "A tibble: 6 × 3\n\\begin{tabular}{lll}\n country & year & rate\\\\\n <chr> & <dbl> & <chr>\\\\\n\\hline\n\t Afghanistan & 1999 & 745/19987071     \\\\\n\t Afghanistan & 2000 & 2666/20595360    \\\\\n\t Brazil      & 1999 & 37737/172006362  \\\\\n\t Brazil      & 2000 & 80488/174504898  \\\\\n\t China       & 1999 & 212258/1272915272\\\\\n\t China       & 2000 & 213766/1280428583\\\\\n\\end{tabular}\n",
            "text/plain": [
              "  country     year rate             \n",
              "1 Afghanistan 1999 745/19987071     \n",
              "2 Afghanistan 2000 2666/20595360    \n",
              "3 Brazil      1999 37737/172006362  \n",
              "4 Brazil      2000 80488/174504898  \n",
              "5 China       1999 212258/1272915272\n",
              "6 China       2000 213766/1280428583"
            ]
          },
          "metadata": {}
        }
      ]
    },
    {
      "cell_type": "markdown",
      "source": [
        "These are all representations of the same underlying data, but they are not equally easy to use.\n",
        "\n",
        "One of them, table1, will be much easier to work with inside the tidyverse because it’s tidy."
      ],
      "metadata": {
        "id": "FQve1FBTnzkm"
      }
    },
    {
      "cell_type": "markdown",
      "source": [
        "There are three interrelated rules that make a dataset tidy:\n",
        "\n",
        "1. Each variable is a column; each column is a variable.\n",
        "2. Each observation is a row; each row is an observation.\n",
        "3. Each value is a cell; each cell is a single value."
      ],
      "metadata": {
        "id": "YTlwbsgqn3BW"
      }
    },
    {
      "cell_type": "markdown",
      "source": [
        "![](https://r4ds.hadley.nz/images/tidy-1.png)"
      ],
      "metadata": {
        "id": "U-qhgM2VoM3e"
      }
    },
    {
      "cell_type": "markdown",
      "source": [
        "> Why ensure that your data is tidy?\n"
      ],
      "metadata": {
        "id": "53POc3vvoZIG"
      }
    },
    {
      "cell_type": "markdown",
      "source": [
        "There are two main advantages:\n",
        "\n",
        "1. There's a general advantage to picking one consistent way of storing data. If you have a consistent data structure, it's easier to learn the tools that work with it because they have an underlying uniformity.\n",
        "2. There's a specific advantage to placing variables in columns because it allows R's vectorized nature to shine. That makes transforming tidy data feel particularly natural."
      ],
      "metadata": {
        "id": "vPwkNdsMo1jP"
      }
    },
    {
      "cell_type": "markdown",
      "source": [
        "Examples:"
      ],
      "metadata": {
        "id": "iPa3PdYhpoHy"
      }
    },
    {
      "cell_type": "code",
      "source": [
        "# Compute rate per 10,000\n",
        "table1 |>\n",
        "  mutate(rate = cases / population * 10000)\n",
        "\n",
        "# Compute total cases per year\n",
        "table1 |>\n",
        "  group_by(year) |>\n",
        "  summarize(total_cases = sum(cases))"
      ],
      "metadata": {
        "colab": {
          "base_uri": "https://localhost:8080/",
          "height": 430
        },
        "id": "VkEityWUps7b",
        "outputId": "875a2d41-e8d1-47eb-a94d-9ca5537b1a82"
      },
      "execution_count": null,
      "outputs": [
        {
          "output_type": "display_data",
          "data": {
            "text/html": [
              "<table class=\"dataframe\">\n",
              "<caption>A tibble: 6 × 5</caption>\n",
              "<thead>\n",
              "\t<tr><th scope=col>country</th><th scope=col>year</th><th scope=col>cases</th><th scope=col>population</th><th scope=col>rate</th></tr>\n",
              "\t<tr><th scope=col>&lt;chr&gt;</th><th scope=col>&lt;dbl&gt;</th><th scope=col>&lt;dbl&gt;</th><th scope=col>&lt;dbl&gt;</th><th scope=col>&lt;dbl&gt;</th></tr>\n",
              "</thead>\n",
              "<tbody>\n",
              "\t<tr><td>Afghanistan</td><td>1999</td><td>   745</td><td>  19987071</td><td>0.372741</td></tr>\n",
              "\t<tr><td>Afghanistan</td><td>2000</td><td>  2666</td><td>  20595360</td><td>1.294466</td></tr>\n",
              "\t<tr><td>Brazil     </td><td>1999</td><td> 37737</td><td> 172006362</td><td>2.193930</td></tr>\n",
              "\t<tr><td>Brazil     </td><td>2000</td><td> 80488</td><td> 174504898</td><td>4.612363</td></tr>\n",
              "\t<tr><td>China      </td><td>1999</td><td>212258</td><td>1272915272</td><td>1.667495</td></tr>\n",
              "\t<tr><td>China      </td><td>2000</td><td>213766</td><td>1280428583</td><td>1.669488</td></tr>\n",
              "</tbody>\n",
              "</table>\n"
            ],
            "text/markdown": "\nA tibble: 6 × 5\n\n| country &lt;chr&gt; | year &lt;dbl&gt; | cases &lt;dbl&gt; | population &lt;dbl&gt; | rate &lt;dbl&gt; |\n|---|---|---|---|---|\n| Afghanistan | 1999 |    745 |   19987071 | 0.372741 |\n| Afghanistan | 2000 |   2666 |   20595360 | 1.294466 |\n| Brazil      | 1999 |  37737 |  172006362 | 2.193930 |\n| Brazil      | 2000 |  80488 |  174504898 | 4.612363 |\n| China       | 1999 | 212258 | 1272915272 | 1.667495 |\n| China       | 2000 | 213766 | 1280428583 | 1.669488 |\n\n",
            "text/latex": "A tibble: 6 × 5\n\\begin{tabular}{lllll}\n country & year & cases & population & rate\\\\\n <chr> & <dbl> & <dbl> & <dbl> & <dbl>\\\\\n\\hline\n\t Afghanistan & 1999 &    745 &   19987071 & 0.372741\\\\\n\t Afghanistan & 2000 &   2666 &   20595360 & 1.294466\\\\\n\t Brazil      & 1999 &  37737 &  172006362 & 2.193930\\\\\n\t Brazil      & 2000 &  80488 &  174504898 & 4.612363\\\\\n\t China       & 1999 & 212258 & 1272915272 & 1.667495\\\\\n\t China       & 2000 & 213766 & 1280428583 & 1.669488\\\\\n\\end{tabular}\n",
            "text/plain": [
              "  country     year cases  population rate    \n",
              "1 Afghanistan 1999    745   19987071 0.372741\n",
              "2 Afghanistan 2000   2666   20595360 1.294466\n",
              "3 Brazil      1999  37737  172006362 2.193930\n",
              "4 Brazil      2000  80488  174504898 4.612363\n",
              "5 China       1999 212258 1272915272 1.667495\n",
              "6 China       2000 213766 1280428583 1.669488"
            ]
          },
          "metadata": {}
        },
        {
          "output_type": "display_data",
          "data": {
            "text/html": [
              "<table class=\"dataframe\">\n",
              "<caption>A tibble: 2 × 2</caption>\n",
              "<thead>\n",
              "\t<tr><th scope=col>year</th><th scope=col>total_cases</th></tr>\n",
              "\t<tr><th scope=col>&lt;dbl&gt;</th><th scope=col>&lt;dbl&gt;</th></tr>\n",
              "</thead>\n",
              "<tbody>\n",
              "\t<tr><td>1999</td><td>250740</td></tr>\n",
              "\t<tr><td>2000</td><td>296920</td></tr>\n",
              "</tbody>\n",
              "</table>\n"
            ],
            "text/markdown": "\nA tibble: 2 × 2\n\n| year &lt;dbl&gt; | total_cases &lt;dbl&gt; |\n|---|---|\n| 1999 | 250740 |\n| 2000 | 296920 |\n\n",
            "text/latex": "A tibble: 2 × 2\n\\begin{tabular}{ll}\n year & total\\_cases\\\\\n <dbl> & <dbl>\\\\\n\\hline\n\t 1999 & 250740\\\\\n\t 2000 & 296920\\\\\n\\end{tabular}\n",
            "text/plain": [
              "  year total_cases\n",
              "1 1999 250740     \n",
              "2 2000 296920     "
            ]
          },
          "metadata": {}
        }
      ]
    },
    {
      "cell_type": "code",
      "source": [
        "# Visualize changes over time\n",
        "ggplot(table1, aes(x = year, y = cases)) +\n",
        "  geom_line(aes(group = country), color = \"grey50\") +\n",
        "  geom_point(aes(color = country, shape = country))+\n",
        "  scale_x_continuous(breaks = c(1999, 2000)) # x-axis breaks at 1999 and 2000"
      ],
      "metadata": {
        "colab": {
          "base_uri": "https://localhost:8080/",
          "height": 437
        },
        "id": "xY0b39BAqEtE",
        "outputId": "a4541de2-8e9c-4296-b15b-771ce0eabccb"
      },
      "execution_count": null,
      "outputs": [
        {
          "output_type": "display_data",
          "data": {
            "text/plain": [
              "plot without title"
            ],
            "image/png": "[encoded data removed]"
          },
          "metadata": {
            "image/png": {
              "width": 420,
              "height": 420
            }
          }
        }
      ]
    },
    {
      "cell_type": "markdown",
      "source": [
        "### Exercises"
      ],
      "metadata": {
        "id": "MyKs2NvpqlVU"
      }
    },
    {
      "cell_type": "markdown",
      "source": [
        "1. For each of the sample tables, describe what each observation and each column represents."
      ],
      "metadata": {
        "id": "THbomUvDqww9"
      }
    },
    {
      "cell_type": "markdown",
      "source": [
        "2. Sketch out the process you'd use to calculate the `rate` for table2 and table3. You will need to perform four operations:"
      ],
      "metadata": {
        "id": "pNsamW5Gq3tk"
      }
    },
    {
      "cell_type": "code",
      "source": [
        "table2"
      ],
      "metadata": {
        "colab": {
          "base_uri": "https://localhost:8080/",
          "height": 474
        },
        "id": "pC_yviwYr1W2",
        "outputId": "f78fb12c-eb3b-4d33-af40-53ab9b891b3b"
      },
      "execution_count": null,
      "outputs": [
        {
          "output_type": "display_data",
          "data": {
            "text/html": [
              "<table class=\"dataframe\">\n",
              "<caption>A tibble: 12 × 4</caption>\n",
              "<thead>\n",
              "\t<tr><th scope=col>country</th><th scope=col>year</th><th scope=col>type</th><th scope=col>count</th></tr>\n",
              "\t<tr><th scope=col>&lt;chr&gt;</th><th scope=col>&lt;dbl&gt;</th><th scope=col>&lt;chr&gt;</th><th scope=col>&lt;dbl&gt;</th></tr>\n",
              "</thead>\n",
              "<tbody>\n",
              "\t<tr><td>Afghanistan</td><td>1999</td><td>cases     </td><td>       745</td></tr>\n",
              "\t<tr><td>Afghanistan</td><td>1999</td><td>population</td><td>  19987071</td></tr>\n",
              "\t<tr><td>Afghanistan</td><td>2000</td><td>cases     </td><td>      2666</td></tr>\n",
              "\t<tr><td>Afghanistan</td><td>2000</td><td>population</td><td>  20595360</td></tr>\n",
              "\t<tr><td>Brazil     </td><td>1999</td><td>cases     </td><td>     37737</td></tr>\n",
              "\t<tr><td>Brazil     </td><td>1999</td><td>population</td><td> 172006362</td></tr>\n",
              "\t<tr><td>Brazil     </td><td>2000</td><td>cases     </td><td>     80488</td></tr>\n",
              "\t<tr><td>Brazil     </td><td>2000</td><td>population</td><td> 174504898</td></tr>\n",
              "\t<tr><td>China      </td><td>1999</td><td>cases     </td><td>    212258</td></tr>\n",
              "\t<tr><td>China      </td><td>1999</td><td>population</td><td>1272915272</td></tr>\n",
              "\t<tr><td>China      </td><td>2000</td><td>cases     </td><td>    213766</td></tr>\n",
              "\t<tr><td>China      </td><td>2000</td><td>population</td><td>1280428583</td></tr>\n",
              "</tbody>\n",
              "</table>\n"
            ],
            "text/markdown": "\nA tibble: 12 × 4\n\n| country &lt;chr&gt; | year &lt;dbl&gt; | type &lt;chr&gt; | count &lt;dbl&gt; |\n|---|---|---|---|\n| Afghanistan | 1999 | cases      |        745 |\n| Afghanistan | 1999 | population |   19987071 |\n| Afghanistan | 2000 | cases      |       2666 |\n| Afghanistan | 2000 | population |   20595360 |\n| Brazil      | 1999 | cases      |      37737 |\n| Brazil      | 1999 | population |  172006362 |\n| Brazil      | 2000 | cases      |      80488 |\n| Brazil      | 2000 | population |  174504898 |\n| China       | 1999 | cases      |     212258 |\n| China       | 1999 | population | 1272915272 |\n| China       | 2000 | cases      |     213766 |\n| China       | 2000 | population | 1280428583 |\n\n",
            "text/latex": "A tibble: 12 × 4\n\\begin{tabular}{llll}\n country & year & type & count\\\\\n <chr> & <dbl> & <chr> & <dbl>\\\\\n\\hline\n\t Afghanistan & 1999 & cases      &        745\\\\\n\t Afghanistan & 1999 & population &   19987071\\\\\n\t Afghanistan & 2000 & cases      &       2666\\\\\n\t Afghanistan & 2000 & population &   20595360\\\\\n\t Brazil      & 1999 & cases      &      37737\\\\\n\t Brazil      & 1999 & population &  172006362\\\\\n\t Brazil      & 2000 & cases      &      80488\\\\\n\t Brazil      & 2000 & population &  174504898\\\\\n\t China       & 1999 & cases      &     212258\\\\\n\t China       & 1999 & population & 1272915272\\\\\n\t China       & 2000 & cases      &     213766\\\\\n\t China       & 2000 & population & 1280428583\\\\\n\\end{tabular}\n",
            "text/plain": [
              "   country     year type       count     \n",
              "1  Afghanistan 1999 cases             745\n",
              "2  Afghanistan 1999 population   19987071\n",
              "3  Afghanistan 2000 cases            2666\n",
              "4  Afghanistan 2000 population   20595360\n",
              "5  Brazil      1999 cases           37737\n",
              "6  Brazil      1999 population  172006362\n",
              "7  Brazil      2000 cases           80488\n",
              "8  Brazil      2000 population  174504898\n",
              "9  China       1999 cases          212258\n",
              "10 China       1999 population 1272915272\n",
              "11 China       2000 cases          213766\n",
              "12 China       2000 population 1280428583"
            ]
          },
          "metadata": {}
        }
      ]
    },
    {
      "cell_type": "code",
      "source": [
        "# a. Extract the number of TB cases per country per year\n",
        "melt(table2)"
      ],
      "metadata": {
        "colab": {
          "base_uri": "https://localhost:8080/",
          "height": 72
        },
        "id": "4_KNXBiqrQIl",
        "outputId": "d91a9345-92dd-41c4-c375-2ab8db8329f3"
      },
      "execution_count": null,
      "outputs": [
        {
          "output_type": "error",
          "ename": "ERROR",
          "evalue": "Error in melt(table2): could not find function \"melt\"\n",
          "traceback": [
            "Error in melt(table2): could not find function \"melt\"\nTraceback:\n"
          ]
        }
      ]
    },
    {
      "cell_type": "markdown",
      "source": [
        "## Lengthening data"
      ],
      "metadata": {
        "id": "NKA8khxuu2N9"
      }
    },
    {
      "cell_type": "markdown",
      "source": [
        "The principles of tidy data might seem so obvious that you wonder if you’ll ever encounter a dataset that isn’t tidy."
      ],
      "metadata": {
        "id": "-GSDGD73u4Y9"
      }
    },
    {
      "cell_type": "markdown",
      "source": [
        "Unfortunately, however, most real data is untidy."
      ],
      "metadata": {
        "id": "VaQEVYlSvGRt"
      }
    },
    {
      "cell_type": "markdown",
      "source": [
        "There are two main reasons:\n",
        "1. Data is often organized to facilitate some goal other than analysis. (For example, it's common for data to be structured to make data entry, not analysis, easy.)\n",
        "2. Most people aren't familiar with the principles of tidy data, and it's hard to derive them yourself unless you spend a lot of time working with data."
      ],
      "metadata": {
        "id": "gAndnOqRvIYF"
      }
    },
    {
      "cell_type": "markdown",
      "source": [
        "> Most real analyses will require at least a little tidying."
      ],
      "metadata": {
        "id": "IC2kItwSvvtF"
      }
    },
    {
      "cell_type": "markdown",
      "source": [
        "> Sometimes this is easy; other times you’ll need to consult with the people who originally generated the data."
      ],
      "metadata": {
        "id": "6-jNdVxFv3ye"
      }
    },
    {
      "cell_type": "markdown",
      "source": [
        "Next, you'll pivot your data into a tidy form, with variables in the columns and observations in the rows."
      ],
      "metadata": {
        "id": "pnG03zkNwQ61"
      }
    },
    {
      "cell_type": "markdown",
      "source": [
        "tidyr provides two functions for pivoting data:\n",
        "- `pivot_longer()`\n",
        "- `pivot_wider()`"
      ],
      "metadata": {
        "id": "UrBpVpcMwYZ0"
      }
    },
    {
      "cell_type": "markdown",
      "source": [
        "### Data in column names"
      ],
      "metadata": {
        "id": "Rwd6XpcLwnKM"
      }
    },
    {
      "cell_type": "code",
      "source": [
        "billboard |> head()"
      ],
      "metadata": {
        "colab": {
          "base_uri": "https://localhost:8080/",
          "height": 462
        },
        "id": "wCSTUj6Xwp-c",
        "outputId": "0fc3c5bb-5c75-4929-9960-09df5fb7aa93"
      },
      "execution_count": null,
      "outputs": [
        {
          "output_type": "display_data",
          "data": {
            "text/html": [
              "<table class=\"dataframe\">\n",
              "<caption>A tibble: 6 × 79</caption>\n",
              "<thead>\n",
              "\t<tr><th scope=col>artist</th><th scope=col>track</th><th scope=col>date.entered</th><th scope=col>wk1</th><th scope=col>wk2</th><th scope=col>wk3</th><th scope=col>wk4</th><th scope=col>wk5</th><th scope=col>wk6</th><th scope=col>wk7</th><th scope=col>⋯</th><th scope=col>wk67</th><th scope=col>wk68</th><th scope=col>wk69</th><th scope=col>wk70</th><th scope=col>wk71</th><th scope=col>wk72</th><th scope=col>wk73</th><th scope=col>wk74</th><th scope=col>wk75</th><th scope=col>wk76</th></tr>\n",
              "\t<tr><th scope=col>&lt;chr&gt;</th><th scope=col>&lt;chr&gt;</th><th scope=col>&lt;date&gt;</th><th scope=col>&lt;dbl&gt;</th><th scope=col>&lt;dbl&gt;</th><th scope=col>&lt;dbl&gt;</th><th scope=col>&lt;dbl&gt;</th><th scope=col>&lt;dbl&gt;</th><th scope=col>&lt;dbl&gt;</th><th scope=col>&lt;dbl&gt;</th><th scope=col>⋯</th><th scope=col>&lt;lgl&gt;</th><th scope=col>&lt;lgl&gt;</th><th scope=col>&lt;lgl&gt;</th><th scope=col>&lt;lgl&gt;</th><th scope=col>&lt;lgl&gt;</th><th scope=col>&lt;lgl&gt;</th><th scope=col>&lt;lgl&gt;</th><th scope=col>&lt;lgl&gt;</th><th scope=col>&lt;lgl&gt;</th><th scope=col>&lt;lgl&gt;</th></tr>\n",
              "</thead>\n",
              "<tbody>\n",
              "\t<tr><td>2 Pac       </td><td>Baby Don't Cry (Keep...</td><td>2000-02-26</td><td>87</td><td>82</td><td>72</td><td>77</td><td>87</td><td>94</td><td>99</td><td>⋯</td><td>NA</td><td>NA</td><td>NA</td><td>NA</td><td>NA</td><td>NA</td><td>NA</td><td>NA</td><td>NA</td><td>NA</td></tr>\n",
              "\t<tr><td>2Ge+her     </td><td>The Hardest Part Of ...</td><td>2000-09-02</td><td>91</td><td>87</td><td>92</td><td>NA</td><td>NA</td><td>NA</td><td>NA</td><td>⋯</td><td>NA</td><td>NA</td><td>NA</td><td>NA</td><td>NA</td><td>NA</td><td>NA</td><td>NA</td><td>NA</td><td>NA</td></tr>\n",
              "\t<tr><td>3 Doors Down</td><td>Kryptonite             </td><td>2000-04-08</td><td>81</td><td>70</td><td>68</td><td>67</td><td>66</td><td>57</td><td>54</td><td>⋯</td><td>NA</td><td>NA</td><td>NA</td><td>NA</td><td>NA</td><td>NA</td><td>NA</td><td>NA</td><td>NA</td><td>NA</td></tr>\n",
              "\t<tr><td>3 Doors Down</td><td>Loser                  </td><td>2000-10-21</td><td>76</td><td>76</td><td>72</td><td>69</td><td>67</td><td>65</td><td>55</td><td>⋯</td><td>NA</td><td>NA</td><td>NA</td><td>NA</td><td>NA</td><td>NA</td><td>NA</td><td>NA</td><td>NA</td><td>NA</td></tr>\n",
              "\t<tr><td>504 Boyz    </td><td>Wobble Wobble          </td><td>2000-04-15</td><td>57</td><td>34</td><td>25</td><td>17</td><td>17</td><td>31</td><td>36</td><td>⋯</td><td>NA</td><td>NA</td><td>NA</td><td>NA</td><td>NA</td><td>NA</td><td>NA</td><td>NA</td><td>NA</td><td>NA</td></tr>\n",
              "\t<tr><td>98^0        </td><td>Give Me Just One Nig...</td><td>2000-08-19</td><td>51</td><td>39</td><td>34</td><td>26</td><td>26</td><td>19</td><td> 2</td><td>⋯</td><td>NA</td><td>NA</td><td>NA</td><td>NA</td><td>NA</td><td>NA</td><td>NA</td><td>NA</td><td>NA</td><td>NA</td></tr>\n",
              "</tbody>\n",
              "</table>\n"
            ],
            "text/markdown": "\nA tibble: 6 × 79\n\n| artist &lt;chr&gt; | track &lt;chr&gt; | date.entered &lt;date&gt; | wk1 &lt;dbl&gt; | wk2 &lt;dbl&gt; | wk3 &lt;dbl&gt; | wk4 &lt;dbl&gt; | wk5 &lt;dbl&gt; | wk6 &lt;dbl&gt; | wk7 &lt;dbl&gt; | ⋯ ⋯ | wk67 &lt;lgl&gt; | wk68 &lt;lgl&gt; | wk69 &lt;lgl&gt; | wk70 &lt;lgl&gt; | wk71 &lt;lgl&gt; | wk72 &lt;lgl&gt; | wk73 &lt;lgl&gt; | wk74 &lt;lgl&gt; | wk75 &lt;lgl&gt; | wk76 &lt;lgl&gt; |\n|---|---|---|---|---|---|---|---|---|---|---|---|---|---|---|---|---|---|---|---|---|\n| 2 Pac        | Baby Don't Cry (Keep... | 2000-02-26 | 87 | 82 | 72 | 77 | 87 | 94 | 99 | ⋯ | NA | NA | NA | NA | NA | NA | NA | NA | NA | NA |\n| 2Ge+her      | The Hardest Part Of ... | 2000-09-02 | 91 | 87 | 92 | NA | NA | NA | NA | ⋯ | NA | NA | NA | NA | NA | NA | NA | NA | NA | NA |\n| 3 Doors Down | Kryptonite              | 2000-04-08 | 81 | 70 | 68 | 67 | 66 | 57 | 54 | ⋯ | NA | NA | NA | NA | NA | NA | NA | NA | NA | NA |\n| 3 Doors Down | Loser                   | 2000-10-21 | 76 | 76 | 72 | 69 | 67 | 65 | 55 | ⋯ | NA | NA | NA | NA | NA | NA | NA | NA | NA | NA |\n| 504 Boyz     | Wobble Wobble           | 2000-04-15 | 57 | 34 | 25 | 17 | 17 | 31 | 36 | ⋯ | NA | NA | NA | NA | NA | NA | NA | NA | NA | NA |\n| 98^0         | Give Me Just One Nig... | 2000-08-19 | 51 | 39 | 34 | 26 | 26 | 19 |  2 | ⋯ | NA | NA | NA | NA | NA | NA | NA | NA | NA | NA |\n\n",
            "text/latex": "A tibble: 6 × 79\n\\begin{tabular}{lllllllllllllllllllll}\n artist & track & date.entered & wk1 & wk2 & wk3 & wk4 & wk5 & wk6 & wk7 & ⋯ & wk67 & wk68 & wk69 & wk70 & wk71 & wk72 & wk73 & wk74 & wk75 & wk76\\\\\n <chr> & <chr> & <date> & <dbl> & <dbl> & <dbl> & <dbl> & <dbl> & <dbl> & <dbl> & ⋯ & <lgl> & <lgl> & <lgl> & <lgl> & <lgl> & <lgl> & <lgl> & <lgl> & <lgl> & <lgl>\\\\\n\\hline\n\t 2 Pac        & Baby Don't Cry (Keep... & 2000-02-26 & 87 & 82 & 72 & 77 & 87 & 94 & 99 & ⋯ & NA & NA & NA & NA & NA & NA & NA & NA & NA & NA\\\\\n\t 2Ge+her      & The Hardest Part Of ... & 2000-09-02 & 91 & 87 & 92 & NA & NA & NA & NA & ⋯ & NA & NA & NA & NA & NA & NA & NA & NA & NA & NA\\\\\n\t 3 Doors Down & Kryptonite              & 2000-04-08 & 81 & 70 & 68 & 67 & 66 & 57 & 54 & ⋯ & NA & NA & NA & NA & NA & NA & NA & NA & NA & NA\\\\\n\t 3 Doors Down & Loser                   & 2000-10-21 & 76 & 76 & 72 & 69 & 67 & 65 & 55 & ⋯ & NA & NA & NA & NA & NA & NA & NA & NA & NA & NA\\\\\n\t 504 Boyz     & Wobble Wobble           & 2000-04-15 & 57 & 34 & 25 & 17 & 17 & 31 & 36 & ⋯ & NA & NA & NA & NA & NA & NA & NA & NA & NA & NA\\\\\n\t 98\\textasciicircum{}0         & Give Me Just One Nig... & 2000-08-19 & 51 & 39 & 34 & 26 & 26 & 19 &  2 & ⋯ & NA & NA & NA & NA & NA & NA & NA & NA & NA & NA\\\\\n\\end{tabular}\n",
            "text/plain": [
              "  artist       track                   date.entered wk1 wk2 wk3 wk4 wk5 wk6 wk7\n",
              "1 2 Pac        Baby Don't Cry (Keep... 2000-02-26   87  82  72  77  87  94  99 \n",
              "2 2Ge+her      The Hardest Part Of ... 2000-09-02   91  87  92  NA  NA  NA  NA \n",
              "3 3 Doors Down Kryptonite              2000-04-08   81  70  68  67  66  57  54 \n",
              "4 3 Doors Down Loser                   2000-10-21   76  76  72  69  67  65  55 \n",
              "5 504 Boyz     Wobble Wobble           2000-04-15   57  34  25  17  17  31  36 \n",
              "6 98^0         Give Me Just One Nig... 2000-08-19   51  39  34  26  26  19   2 \n",
              "  ⋯ wk67 wk68 wk69 wk70 wk71 wk72 wk73 wk74 wk75 wk76\n",
              "1 ⋯ NA   NA   NA   NA   NA   NA   NA   NA   NA   NA  \n",
              "2 ⋯ NA   NA   NA   NA   NA   NA   NA   NA   NA   NA  \n",
              "3 ⋯ NA   NA   NA   NA   NA   NA   NA   NA   NA   NA  \n",
              "4 ⋯ NA   NA   NA   NA   NA   NA   NA   NA   NA   NA  \n",
              "5 ⋯ NA   NA   NA   NA   NA   NA   NA   NA   NA   NA  \n",
              "6 ⋯ NA   NA   NA   NA   NA   NA   NA   NA   NA   NA  "
            ]
          },
          "metadata": {}
        }
      ]
    },
    {
      "cell_type": "markdown",
      "source": [
        "We have 76 columns (wk1-wk76) that describe the rank of the song in each week. Here, the column names are (the week) and the cell values are another (the rank)."
      ],
      "metadata": {
        "id": "2bQiJCs1w53s"
      }
    },
    {
      "cell_type": "markdown",
      "source": [
        "To tidy this data, we'll use `pivot_longer()`"
      ],
      "metadata": {
        "id": "59jm6UZCybaE"
      }
    },
    {
      "cell_type": "code",
      "source": [
        "billboard |>\n",
        "  pivot_longer(\n",
        "    cols = starts_with(\"wk\"),\n",
        "    names_to = \"week\",\n",
        "    values_to = \"rank\"\n",
        "  )"
      ],
      "metadata": {
        "colab": {
          "base_uri": "https://localhost:8080/",
          "height": 1000
        },
        "id": "qquPyfhlgM2X",
        "outputId": "84bb97e8-b9eb-4510-93df-4c97cd4c19a7"
      },
      "execution_count": null,
      "outputs": [
        {
          "output_type": "display_data",
          "data": {
            "text/html": [
              "<table class=\"dataframe\">\n",
              "<caption>A tibble: 24092 × 5</caption>\n",
              "<thead>\n",
              "\t<tr><th scope=col>artist</th><th scope=col>track</th><th scope=col>date.entered</th><th scope=col>week</th><th scope=col>rank</th></tr>\n",
              "\t<tr><th scope=col>&lt;chr&gt;</th><th scope=col>&lt;chr&gt;</th><th scope=col>&lt;date&gt;</th><th scope=col>&lt;chr&gt;</th><th scope=col>&lt;dbl&gt;</th></tr>\n",
              "</thead>\n",
              "<tbody>\n",
              "\t<tr><td>2 Pac</td><td>Baby Don't Cry (Keep...</td><td>2000-02-26</td><td>wk1 </td><td>87</td></tr>\n",
              "\t<tr><td>2 Pac</td><td>Baby Don't Cry (Keep...</td><td>2000-02-26</td><td>wk2 </td><td>82</td></tr>\n",
              "\t<tr><td>2 Pac</td><td>Baby Don't Cry (Keep...</td><td>2000-02-26</td><td>wk3 </td><td>72</td></tr>\n",
              "\t<tr><td>2 Pac</td><td>Baby Don't Cry (Keep...</td><td>2000-02-26</td><td>wk4 </td><td>77</td></tr>\n",
              "\t<tr><td>2 Pac</td><td>Baby Don't Cry (Keep...</td><td>2000-02-26</td><td>wk5 </td><td>87</td></tr>\n",
              "\t<tr><td>2 Pac</td><td>Baby Don't Cry (Keep...</td><td>2000-02-26</td><td>wk6 </td><td>94</td></tr>\n",
              "\t<tr><td>2 Pac</td><td>Baby Don't Cry (Keep...</td><td>2000-02-26</td><td>wk7 </td><td>99</td></tr>\n",
              "\t<tr><td>2 Pac</td><td>Baby Don't Cry (Keep...</td><td>2000-02-26</td><td>wk8 </td><td>NA</td></tr>\n",
              "\t<tr><td>2 Pac</td><td>Baby Don't Cry (Keep...</td><td>2000-02-26</td><td>wk9 </td><td>NA</td></tr>\n",
              "\t<tr><td>2 Pac</td><td>Baby Don't Cry (Keep...</td><td>2000-02-26</td><td>wk10</td><td>NA</td></tr>\n",
              "\t<tr><td>2 Pac</td><td>Baby Don't Cry (Keep...</td><td>2000-02-26</td><td>wk11</td><td>NA</td></tr>\n",
              "\t<tr><td>2 Pac</td><td>Baby Don't Cry (Keep...</td><td>2000-02-26</td><td>wk12</td><td>NA</td></tr>\n",
              "\t<tr><td>2 Pac</td><td>Baby Don't Cry (Keep...</td><td>2000-02-26</td><td>wk13</td><td>NA</td></tr>\n",
              "\t<tr><td>2 Pac</td><td>Baby Don't Cry (Keep...</td><td>2000-02-26</td><td>wk14</td><td>NA</td></tr>\n",
              "\t<tr><td>2 Pac</td><td>Baby Don't Cry (Keep...</td><td>2000-02-26</td><td>wk15</td><td>NA</td></tr>\n",
              "\t<tr><td>2 Pac</td><td>Baby Don't Cry (Keep...</td><td>2000-02-26</td><td>wk16</td><td>NA</td></tr>\n",
              "\t<tr><td>2 Pac</td><td>Baby Don't Cry (Keep...</td><td>2000-02-26</td><td>wk17</td><td>NA</td></tr>\n",
              "\t<tr><td>2 Pac</td><td>Baby Don't Cry (Keep...</td><td>2000-02-26</td><td>wk18</td><td>NA</td></tr>\n",
              "\t<tr><td>2 Pac</td><td>Baby Don't Cry (Keep...</td><td>2000-02-26</td><td>wk19</td><td>NA</td></tr>\n",
              "\t<tr><td>2 Pac</td><td>Baby Don't Cry (Keep...</td><td>2000-02-26</td><td>wk20</td><td>NA</td></tr>\n",
              "\t<tr><td>2 Pac</td><td>Baby Don't Cry (Keep...</td><td>2000-02-26</td><td>wk21</td><td>NA</td></tr>\n",
              "\t<tr><td>2 Pac</td><td>Baby Don't Cry (Keep...</td><td>2000-02-26</td><td>wk22</td><td>NA</td></tr>\n",
              "\t<tr><td>2 Pac</td><td>Baby Don't Cry (Keep...</td><td>2000-02-26</td><td>wk23</td><td>NA</td></tr>\n",
              "\t<tr><td>2 Pac</td><td>Baby Don't Cry (Keep...</td><td>2000-02-26</td><td>wk24</td><td>NA</td></tr>\n",
              "\t<tr><td>2 Pac</td><td>Baby Don't Cry (Keep...</td><td>2000-02-26</td><td>wk25</td><td>NA</td></tr>\n",
              "\t<tr><td>2 Pac</td><td>Baby Don't Cry (Keep...</td><td>2000-02-26</td><td>wk26</td><td>NA</td></tr>\n",
              "\t<tr><td>2 Pac</td><td>Baby Don't Cry (Keep...</td><td>2000-02-26</td><td>wk27</td><td>NA</td></tr>\n",
              "\t<tr><td>2 Pac</td><td>Baby Don't Cry (Keep...</td><td>2000-02-26</td><td>wk28</td><td>NA</td></tr>\n",
              "\t<tr><td>2 Pac</td><td>Baby Don't Cry (Keep...</td><td>2000-02-26</td><td>wk29</td><td>NA</td></tr>\n",
              "\t<tr><td>2 Pac</td><td>Baby Don't Cry (Keep...</td><td>2000-02-26</td><td>wk30</td><td>NA</td></tr>\n",
              "\t<tr><td>⋮</td><td>⋮</td><td>⋮</td><td>⋮</td><td>⋮</td></tr>\n",
              "\t<tr><td>matchbox twenty</td><td>Bent</td><td>2000-04-29</td><td>wk47</td><td>NA</td></tr>\n",
              "\t<tr><td>matchbox twenty</td><td>Bent</td><td>2000-04-29</td><td>wk48</td><td>NA</td></tr>\n",
              "\t<tr><td>matchbox twenty</td><td>Bent</td><td>2000-04-29</td><td>wk49</td><td>NA</td></tr>\n",
              "\t<tr><td>matchbox twenty</td><td>Bent</td><td>2000-04-29</td><td>wk50</td><td>NA</td></tr>\n",
              "\t<tr><td>matchbox twenty</td><td>Bent</td><td>2000-04-29</td><td>wk51</td><td>NA</td></tr>\n",
              "\t<tr><td>matchbox twenty</td><td>Bent</td><td>2000-04-29</td><td>wk52</td><td>NA</td></tr>\n",
              "\t<tr><td>matchbox twenty</td><td>Bent</td><td>2000-04-29</td><td>wk53</td><td>NA</td></tr>\n",
              "\t<tr><td>matchbox twenty</td><td>Bent</td><td>2000-04-29</td><td>wk54</td><td>NA</td></tr>\n",
              "\t<tr><td>matchbox twenty</td><td>Bent</td><td>2000-04-29</td><td>wk55</td><td>NA</td></tr>\n",
              "\t<tr><td>matchbox twenty</td><td>Bent</td><td>2000-04-29</td><td>wk56</td><td>NA</td></tr>\n",
              "\t<tr><td>matchbox twenty</td><td>Bent</td><td>2000-04-29</td><td>wk57</td><td>NA</td></tr>\n",
              "\t<tr><td>matchbox twenty</td><td>Bent</td><td>2000-04-29</td><td>wk58</td><td>NA</td></tr>\n",
              "\t<tr><td>matchbox twenty</td><td>Bent</td><td>2000-04-29</td><td>wk59</td><td>NA</td></tr>\n",
              "\t<tr><td>matchbox twenty</td><td>Bent</td><td>2000-04-29</td><td>wk60</td><td>NA</td></tr>\n",
              "\t<tr><td>matchbox twenty</td><td>Bent</td><td>2000-04-29</td><td>wk61</td><td>NA</td></tr>\n",
              "\t<tr><td>matchbox twenty</td><td>Bent</td><td>2000-04-29</td><td>wk62</td><td>NA</td></tr>\n",
              "\t<tr><td>matchbox twenty</td><td>Bent</td><td>2000-04-29</td><td>wk63</td><td>NA</td></tr>\n",
              "\t<tr><td>matchbox twenty</td><td>Bent</td><td>2000-04-29</td><td>wk64</td><td>NA</td></tr>\n",
              "\t<tr><td>matchbox twenty</td><td>Bent</td><td>2000-04-29</td><td>wk65</td><td>NA</td></tr>\n",
              "\t<tr><td>matchbox twenty</td><td>Bent</td><td>2000-04-29</td><td>wk66</td><td>NA</td></tr>\n",
              "\t<tr><td>matchbox twenty</td><td>Bent</td><td>2000-04-29</td><td>wk67</td><td>NA</td></tr>\n",
              "\t<tr><td>matchbox twenty</td><td>Bent</td><td>2000-04-29</td><td>wk68</td><td>NA</td></tr>\n",
              "\t<tr><td>matchbox twenty</td><td>Bent</td><td>2000-04-29</td><td>wk69</td><td>NA</td></tr>\n",
              "\t<tr><td>matchbox twenty</td><td>Bent</td><td>2000-04-29</td><td>wk70</td><td>NA</td></tr>\n",
              "\t<tr><td>matchbox twenty</td><td>Bent</td><td>2000-04-29</td><td>wk71</td><td>NA</td></tr>\n",
              "\t<tr><td>matchbox twenty</td><td>Bent</td><td>2000-04-29</td><td>wk72</td><td>NA</td></tr>\n",
              "\t<tr><td>matchbox twenty</td><td>Bent</td><td>2000-04-29</td><td>wk73</td><td>NA</td></tr>\n",
              "\t<tr><td>matchbox twenty</td><td>Bent</td><td>2000-04-29</td><td>wk74</td><td>NA</td></tr>\n",
              "\t<tr><td>matchbox twenty</td><td>Bent</td><td>2000-04-29</td><td>wk75</td><td>NA</td></tr>\n",
              "\t<tr><td>matchbox twenty</td><td>Bent</td><td>2000-04-29</td><td>wk76</td><td>NA</td></tr>\n",
              "</tbody>\n",
              "</table>\n"
            ],
            "text/markdown": "\nA tibble: 24092 × 5\n\n| artist &lt;chr&gt; | track &lt;chr&gt; | date.entered &lt;date&gt; | week &lt;chr&gt; | rank &lt;dbl&gt; |\n|---|---|---|---|---|\n| 2 Pac | Baby Don't Cry (Keep... | 2000-02-26 | wk1  | 87 |\n| 2 Pac | Baby Don't Cry (Keep... | 2000-02-26 | wk2  | 82 |\n| 2 Pac | Baby Don't Cry (Keep... | 2000-02-26 | wk3  | 72 |\n| 2 Pac | Baby Don't Cry (Keep... | 2000-02-26 | wk4  | 77 |\n| 2 Pac | Baby Don't Cry (Keep... | 2000-02-26 | wk5  | 87 |\n| 2 Pac | Baby Don't Cry (Keep... | 2000-02-26 | wk6  | 94 |\n| 2 Pac | Baby Don't Cry (Keep... | 2000-02-26 | wk7  | 99 |\n| 2 Pac | Baby Don't Cry (Keep... | 2000-02-26 | wk8  | NA |\n| 2 Pac | Baby Don't Cry (Keep... | 2000-02-26 | wk9  | NA |\n| 2 Pac | Baby Don't Cry (Keep... | 2000-02-26 | wk10 | NA |\n| 2 Pac | Baby Don't Cry (Keep... | 2000-02-26 | wk11 | NA |\n| 2 Pac | Baby Don't Cry (Keep... | 2000-02-26 | wk12 | NA |\n| 2 Pac | Baby Don't Cry (Keep... | 2000-02-26 | wk13 | NA |\n| 2 Pac | Baby Don't Cry (Keep... | 2000-02-26 | wk14 | NA |\n| 2 Pac | Baby Don't Cry (Keep... | 2000-02-26 | wk15 | NA |\n| 2 Pac | Baby Don't Cry (Keep... | 2000-02-26 | wk16 | NA |\n| 2 Pac | Baby Don't Cry (Keep... | 2000-02-26 | wk17 | NA |\n| 2 Pac | Baby Don't Cry (Keep... | 2000-02-26 | wk18 | NA |\n| 2 Pac | Baby Don't Cry (Keep... | 2000-02-26 | wk19 | NA |\n| 2 Pac | Baby Don't Cry (Keep... | 2000-02-26 | wk20 | NA |\n| 2 Pac | Baby Don't Cry (Keep... | 2000-02-26 | wk21 | NA |\n| 2 Pac | Baby Don't Cry (Keep... | 2000-02-26 | wk22 | NA |\n| 2 Pac | Baby Don't Cry (Keep... | 2000-02-26 | wk23 | NA |\n| 2 Pac | Baby Don't Cry (Keep... | 2000-02-26 | wk24 | NA |\n| 2 Pac | Baby Don't Cry (Keep... | 2000-02-26 | wk25 | NA |\n| 2 Pac | Baby Don't Cry (Keep... | 2000-02-26 | wk26 | NA |\n| 2 Pac | Baby Don't Cry (Keep... | 2000-02-26 | wk27 | NA |\n| 2 Pac | Baby Don't Cry (Keep... | 2000-02-26 | wk28 | NA |\n| 2 Pac | Baby Don't Cry (Keep... | 2000-02-26 | wk29 | NA |\n| 2 Pac | Baby Don't Cry (Keep... | 2000-02-26 | wk30 | NA |\n| ⋮ | ⋮ | ⋮ | ⋮ | ⋮ |\n| matchbox twenty | Bent | 2000-04-29 | wk47 | NA |\n| matchbox twenty | Bent | 2000-04-29 | wk48 | NA |\n| matchbox twenty | Bent | 2000-04-29 | wk49 | NA |\n| matchbox twenty | Bent | 2000-04-29 | wk50 | NA |\n| matchbox twenty | Bent | 2000-04-29 | wk51 | NA |\n| matchbox twenty | Bent | 2000-04-29 | wk52 | NA |\n| matchbox twenty | Bent | 2000-04-29 | wk53 | NA |\n| matchbox twenty | Bent | 2000-04-29 | wk54 | NA |\n| matchbox twenty | Bent | 2000-04-29 | wk55 | NA |\n| matchbox twenty | Bent | 2000-04-29 | wk56 | NA |\n| matchbox twenty | Bent | 2000-04-29 | wk57 | NA |\n| matchbox twenty | Bent | 2000-04-29 | wk58 | NA |\n| matchbox twenty | Bent | 2000-04-29 | wk59 | NA |\n| matchbox twenty | Bent | 2000-04-29 | wk60 | NA |\n| matchbox twenty | Bent | 2000-04-29 | wk61 | NA |\n| matchbox twenty | Bent | 2000-04-29 | wk62 | NA |\n| matchbox twenty | Bent | 2000-04-29 | wk63 | NA |\n| matchbox twenty | Bent | 2000-04-29 | wk64 | NA |\n| matchbox twenty | Bent | 2000-04-29 | wk65 | NA |\n| matchbox twenty | Bent | 2000-04-29 | wk66 | NA |\n| matchbox twenty | Bent | 2000-04-29 | wk67 | NA |\n| matchbox twenty | Bent | 2000-04-29 | wk68 | NA |\n| matchbox twenty | Bent | 2000-04-29 | wk69 | NA |\n| matchbox twenty | Bent | 2000-04-29 | wk70 | NA |\n| matchbox twenty | Bent | 2000-04-29 | wk71 | NA |\n| matchbox twenty | Bent | 2000-04-29 | wk72 | NA |\n| matchbox twenty | Bent | 2000-04-29 | wk73 | NA |\n| matchbox twenty | Bent | 2000-04-29 | wk74 | NA |\n| matchbox twenty | Bent | 2000-04-29 | wk75 | NA |\n| matchbox twenty | Bent | 2000-04-29 | wk76 | NA |\n\n",
            "text/latex": "A tibble: 24092 × 5\n\\begin{tabular}{lllll}\n artist & track & date.entered & week & rank\\\\\n <chr> & <chr> & <date> & <chr> & <dbl>\\\\\n\\hline\n\t 2 Pac & Baby Don't Cry (Keep... & 2000-02-26 & wk1  & 87\\\\\n\t 2 Pac & Baby Don't Cry (Keep... & 2000-02-26 & wk2  & 82\\\\\n\t 2 Pac & Baby Don't Cry (Keep... & 2000-02-26 & wk3  & 72\\\\\n\t 2 Pac & Baby Don't Cry (Keep... & 2000-02-26 & wk4  & 77\\\\\n\t 2 Pac & Baby Don't Cry (Keep... & 2000-02-26 & wk5  & 87\\\\\n\t 2 Pac & Baby Don't Cry (Keep... & 2000-02-26 & wk6  & 94\\\\\n\t 2 Pac & Baby Don't Cry (Keep... & 2000-02-26 & wk7  & 99\\\\\n\t 2 Pac & Baby Don't Cry (Keep... & 2000-02-26 & wk8  & NA\\\\\n\t 2 Pac & Baby Don't Cry (Keep... & 2000-02-26 & wk9  & NA\\\\\n\t 2 Pac & Baby Don't Cry (Keep... & 2000-02-26 & wk10 & NA\\\\\n\t 2 Pac & Baby Don't Cry (Keep... & 2000-02-26 & wk11 & NA\\\\\n\t 2 Pac & Baby Don't Cry (Keep... & 2000-02-26 & wk12 & NA\\\\\n\t 2 Pac & Baby Don't Cry (Keep... & 2000-02-26 & wk13 & NA\\\\\n\t 2 Pac & Baby Don't Cry (Keep... & 2000-02-26 & wk14 & NA\\\\\n\t 2 Pac & Baby Don't Cry (Keep... & 2000-02-26 & wk15 & NA\\\\\n\t 2 Pac & Baby Don't Cry (Keep... & 2000-02-26 & wk16 & NA\\\\\n\t 2 Pac & Baby Don't Cry (Keep... & 2000-02-26 & wk17 & NA\\\\\n\t 2 Pac & Baby Don't Cry (Keep... & 2000-02-26 & wk18 & NA\\\\\n\t 2 Pac & Baby Don't Cry (Keep... & 2000-02-26 & wk19 & NA\\\\\n\t 2 Pac & Baby Don't Cry (Keep... & 2000-02-26 & wk20 & NA\\\\\n\t 2 Pac & Baby Don't Cry (Keep... & 2000-02-26 & wk21 & NA\\\\\n\t 2 Pac & Baby Don't Cry (Keep... & 2000-02-26 & wk22 & NA\\\\\n\t 2 Pac & Baby Don't Cry (Keep... & 2000-02-26 & wk23 & NA\\\\\n\t 2 Pac & Baby Don't Cry (Keep... & 2000-02-26 & wk24 & NA\\\\\n\t 2 Pac & Baby Don't Cry (Keep... & 2000-02-26 & wk25 & NA\\\\\n\t 2 Pac & Baby Don't Cry (Keep... & 2000-02-26 & wk26 & NA\\\\\n\t 2 Pac & Baby Don't Cry (Keep... & 2000-02-26 & wk27 & NA\\\\\n\t 2 Pac & Baby Don't Cry (Keep... & 2000-02-26 & wk28 & NA\\\\\n\t 2 Pac & Baby Don't Cry (Keep... & 2000-02-26 & wk29 & NA\\\\\n\t 2 Pac & Baby Don't Cry (Keep... & 2000-02-26 & wk30 & NA\\\\\n\t ⋮ & ⋮ & ⋮ & ⋮ & ⋮\\\\\n\t matchbox twenty & Bent & 2000-04-29 & wk47 & NA\\\\\n\t matchbox twenty & Bent & 2000-04-29 & wk48 & NA\\\\\n\t matchbox twenty & Bent & 2000-04-29 & wk49 & NA\\\\\n\t matchbox twenty & Bent & 2000-04-29 & wk50 & NA\\\\\n\t matchbox twenty & Bent & 2000-04-29 & wk51 & NA\\\\\n\t matchbox twenty & Bent & 2000-04-29 & wk52 & NA\\\\\n\t matchbox twenty & Bent & 2000-04-29 & wk53 & NA\\\\\n\t matchbox twenty & Bent & 2000-04-29 & wk54 & NA\\\\\n\t matchbox twenty & Bent & 2000-04-29 & wk55 & NA\\\\\n\t matchbox twenty & Bent & 2000-04-29 & wk56 & NA\\\\\n\t matchbox twenty & Bent & 2000-04-29 & wk57 & NA\\\\\n\t matchbox twenty & Bent & 2000-04-29 & wk58 & NA\\\\\n\t matchbox twenty & Bent & 2000-04-29 & wk59 & NA\\\\\n\t matchbox twenty & Bent & 2000-04-29 & wk60 & NA\\\\\n\t matchbox twenty & Bent & 2000-04-29 & wk61 & NA\\\\\n\t matchbox twenty & Bent & 2000-04-29 & wk62 & NA\\\\\n\t matchbox twenty & Bent & 2000-04-29 & wk63 & NA\\\\\n\t matchbox twenty & Bent & 2000-04-29 & wk64 & NA\\\\\n\t matchbox twenty & Bent & 2000-04-29 & wk65 & NA\\\\\n\t matchbox twenty & Bent & 2000-04-29 & wk66 & NA\\\\\n\t matchbox twenty & Bent & 2000-04-29 & wk67 & NA\\\\\n\t matchbox twenty & Bent & 2000-04-29 & wk68 & NA\\\\\n\t matchbox twenty & Bent & 2000-04-29 & wk69 & NA\\\\\n\t matchbox twenty & Bent & 2000-04-29 & wk70 & NA\\\\\n\t matchbox twenty & Bent & 2000-04-29 & wk71 & NA\\\\\n\t matchbox twenty & Bent & 2000-04-29 & wk72 & NA\\\\\n\t matchbox twenty & Bent & 2000-04-29 & wk73 & NA\\\\\n\t matchbox twenty & Bent & 2000-04-29 & wk74 & NA\\\\\n\t matchbox twenty & Bent & 2000-04-29 & wk75 & NA\\\\\n\t matchbox twenty & Bent & 2000-04-29 & wk76 & NA\\\\\n\\end{tabular}\n",
            "text/plain": [
              "      artist          track                   date.entered week rank\n",
              "1     2 Pac           Baby Don't Cry (Keep... 2000-02-26   wk1  87  \n",
              "2     2 Pac           Baby Don't Cry (Keep... 2000-02-26   wk2  82  \n",
              "3     2 Pac           Baby Don't Cry (Keep... 2000-02-26   wk3  72  \n",
              "4     2 Pac           Baby Don't Cry (Keep... 2000-02-26   wk4  77  \n",
              "5     2 Pac           Baby Don't Cry (Keep... 2000-02-26   wk5  87  \n",
              "6     2 Pac           Baby Don't Cry (Keep... 2000-02-26   wk6  94  \n",
              "7     2 Pac           Baby Don't Cry (Keep... 2000-02-26   wk7  99  \n",
              "8     2 Pac           Baby Don't Cry (Keep... 2000-02-26   wk8  NA  \n",
              "9     2 Pac           Baby Don't Cry (Keep... 2000-02-26   wk9  NA  \n",
              "10    2 Pac           Baby Don't Cry (Keep... 2000-02-26   wk10 NA  \n",
              "11    2 Pac           Baby Don't Cry (Keep... 2000-02-26   wk11 NA  \n",
              "12    2 Pac           Baby Don't Cry (Keep... 2000-02-26   wk12 NA  \n",
              "13    2 Pac           Baby Don't Cry (Keep... 2000-02-26   wk13 NA  \n",
              "14    2 Pac           Baby Don't Cry (Keep... 2000-02-26   wk14 NA  \n",
              "15    2 Pac           Baby Don't Cry (Keep... 2000-02-26   wk15 NA  \n",
              "16    2 Pac           Baby Don't Cry (Keep... 2000-02-26   wk16 NA  \n",
              "17    2 Pac           Baby Don't Cry (Keep... 2000-02-26   wk17 NA  \n",
              "18    2 Pac           Baby Don't Cry (Keep... 2000-02-26   wk18 NA  \n",
              "19    2 Pac           Baby Don't Cry (Keep... 2000-02-26   wk19 NA  \n",
              "20    2 Pac           Baby Don't Cry (Keep... 2000-02-26   wk20 NA  \n",
              "21    2 Pac           Baby Don't Cry (Keep... 2000-02-26   wk21 NA  \n",
              "22    2 Pac           Baby Don't Cry (Keep... 2000-02-26   wk22 NA  \n",
              "23    2 Pac           Baby Don't Cry (Keep... 2000-02-26   wk23 NA  \n",
              "24    2 Pac           Baby Don't Cry (Keep... 2000-02-26   wk24 NA  \n",
              "25    2 Pac           Baby Don't Cry (Keep... 2000-02-26   wk25 NA  \n",
              "26    2 Pac           Baby Don't Cry (Keep... 2000-02-26   wk26 NA  \n",
              "27    2 Pac           Baby Don't Cry (Keep... 2000-02-26   wk27 NA  \n",
              "28    2 Pac           Baby Don't Cry (Keep... 2000-02-26   wk28 NA  \n",
              "29    2 Pac           Baby Don't Cry (Keep... 2000-02-26   wk29 NA  \n",
              "30    2 Pac           Baby Don't Cry (Keep... 2000-02-26   wk30 NA  \n",
              "⋮     ⋮               ⋮                       ⋮            ⋮    ⋮   \n",
              "24063 matchbox twenty Bent                    2000-04-29   wk47 NA  \n",
              "24064 matchbox twenty Bent                    2000-04-29   wk48 NA  \n",
              "24065 matchbox twenty Bent                    2000-04-29   wk49 NA  \n",
              "24066 matchbox twenty Bent                    2000-04-29   wk50 NA  \n",
              "24067 matchbox twenty Bent                    2000-04-29   wk51 NA  \n",
              "24068 matchbox twenty Bent                    2000-04-29   wk52 NA  \n",
              "24069 matchbox twenty Bent                    2000-04-29   wk53 NA  \n",
              "24070 matchbox twenty Bent                    2000-04-29   wk54 NA  \n",
              "24071 matchbox twenty Bent                    2000-04-29   wk55 NA  \n",
              "24072 matchbox twenty Bent                    2000-04-29   wk56 NA  \n",
              "24073 matchbox twenty Bent                    2000-04-29   wk57 NA  \n",
              "24074 matchbox twenty Bent                    2000-04-29   wk58 NA  \n",
              "24075 matchbox twenty Bent                    2000-04-29   wk59 NA  \n",
              "24076 matchbox twenty Bent                    2000-04-29   wk60 NA  \n",
              "24077 matchbox twenty Bent                    2000-04-29   wk61 NA  \n",
              "24078 matchbox twenty Bent                    2000-04-29   wk62 NA  \n",
              "24079 matchbox twenty Bent                    2000-04-29   wk63 NA  \n",
              "24080 matchbox twenty Bent                    2000-04-29   wk64 NA  \n",
              "24081 matchbox twenty Bent                    2000-04-29   wk65 NA  \n",
              "24082 matchbox twenty Bent                    2000-04-29   wk66 NA  \n",
              "24083 matchbox twenty Bent                    2000-04-29   wk67 NA  \n",
              "24084 matchbox twenty Bent                    2000-04-29   wk68 NA  \n",
              "24085 matchbox twenty Bent                    2000-04-29   wk69 NA  \n",
              "24086 matchbox twenty Bent                    2000-04-29   wk70 NA  \n",
              "24087 matchbox twenty Bent                    2000-04-29   wk71 NA  \n",
              "24088 matchbox twenty Bent                    2000-04-29   wk72 NA  \n",
              "24089 matchbox twenty Bent                    2000-04-29   wk73 NA  \n",
              "24090 matchbox twenty Bent                    2000-04-29   wk74 NA  \n",
              "24091 matchbox twenty Bent                    2000-04-29   wk75 NA  \n",
              "24092 matchbox twenty Bent                    2000-04-29   wk76 NA  "
            ]
          },
          "metadata": {}
        }
      ]
    },
    {
      "cell_type": "code",
      "source": [
        "billboard |>\n",
        "  pivot_longer(\n",
        "    cols = starts_with(\"wk\"),\n",
        "    names_to = \"week\",\n",
        "    values_to = \"rank\"\n",
        "  ) |> dim()"
      ],
      "metadata": {
        "colab": {
          "base_uri": "https://localhost:8080/",
          "height": 34
        },
        "id": "kNKM4rygg6Ef",
        "outputId": "fa802559-0146-42ba-c899-a5fe19ef25ef"
      },
      "execution_count": null,
      "outputs": [
        {
          "output_type": "display_data",
          "data": {
            "text/html": [
              "<style>\n",
              ".list-inline {list-style: none; margin:0; padding: 0}\n",
              ".list-inline>li {display: inline-block}\n",
              ".list-inline>li:not(:last-child)::after {content: \"\\00b7\"; padding: 0 .5ex}\n",
              "</style>\n",
              "<ol class=list-inline><li>24092</li><li>5</li></ol>\n"
            ],
            "text/markdown": "1. 24092\n2. 5\n\n\n",
            "text/latex": "\\begin{enumerate*}\n\\item 24092\n\\item 5\n\\end{enumerate*}\n",
            "text/plain": [
              "[1] 24092     5"
            ]
          },
          "metadata": {}
        }
      ]
    },
    {
      "cell_type": "code",
      "source": [
        "billboard |> dim()"
      ],
      "metadata": {
        "colab": {
          "base_uri": "https://localhost:8080/",
          "height": 34
        },
        "id": "jSiRdmAnhCqf",
        "outputId": "848a5e46-fc7f-4d01-e8ba-adc70eb126f8"
      },
      "execution_count": null,
      "outputs": [
        {
          "output_type": "display_data",
          "data": {
            "text/html": [
              "<style>\n",
              ".list-inline {list-style: none; margin:0; padding: 0}\n",
              ".list-inline>li {display: inline-block}\n",
              ".list-inline>li:not(:last-child)::after {content: \"\\00b7\"; padding: 0 .5ex}\n",
              "</style>\n",
              "<ol class=list-inline><li>317</li><li>79</li></ol>\n"
            ],
            "text/markdown": "1. 317\n2. 79\n\n\n",
            "text/latex": "\\begin{enumerate*}\n\\item 317\n\\item 79\n\\end{enumerate*}\n",
            "text/plain": [
              "[1] 317  79"
            ]
          },
          "metadata": {}
        }
      ]
    },
    {
      "cell_type": "markdown",
      "source": [
        "After the data, there are three key arguments:\n",
        "- `cols` specifies which columns need to be pivoted, i.e. which columns aren't variables. This argument uses the same syntax as `select()` so here we could use\n",
        "> `!c(artist, track, date.entered)` or `starts_with(\"wk\")`.\n",
        "\n",
        "- `names_to` names the variable stored in the column names, we named that variable `week`.\n",
        "- `values_to` names the variable stored in the cell values, we named that variable `rank`.\n"
      ],
      "metadata": {
        "id": "3ktySoxnhTRq"
      }
    },
    {
      "cell_type": "markdown",
      "source": [
        "What happens if a song is in the top 100 for less than 76 weeks?"
      ],
      "metadata": {
        "id": "wubAHWpUiTDh"
      }
    },
    {
      "cell_type": "markdown",
      "source": [
        "> Take 2 Pac’s “Baby Don’t Cry”, for example. The above output suggests that it was only in the top 100 for 7 weeks, and all the remaining weeks are filled in with missing values.\n",
        "\n",
        "> These NAs don't really represent unknown observations; they were forced to exist by the structure of the dataset, so we can ask `pivot_longer()` to get rid of them by setting `values_drop_na = TRUE`"
      ],
      "metadata": {
        "id": "qWKd8SZ7jFDk"
      }
    },
    {
      "cell_type": "code",
      "source": [
        "billboard |>\n",
        "  pivot_longer(\n",
        "    cols = starts_with(\"wk\"),\n",
        "    names_to = \"week\",\n",
        "    values_to = \"rank\",\n",
        "    values_drop_na = TRUE\n",
        "  )"
      ],
      "metadata": {
        "colab": {
          "base_uri": "https://localhost:8080/",
          "height": 1000
        },
        "id": "S8pmhAPjjH08",
        "outputId": "590d6629-4190-420c-fec0-b8ac778a1a56"
      },
      "execution_count": null,
      "outputs": [
        {
          "output_type": "display_data",
          "data": {
            "text/html": [
              "<table class=\"dataframe\">\n",
              "<caption>A tibble: 5307 × 5</caption>\n",
              "<thead>\n",
              "\t<tr><th scope=col>artist</th><th scope=col>track</th><th scope=col>date.entered</th><th scope=col>week</th><th scope=col>rank</th></tr>\n",
              "\t<tr><th scope=col>&lt;chr&gt;</th><th scope=col>&lt;chr&gt;</th><th scope=col>&lt;date&gt;</th><th scope=col>&lt;chr&gt;</th><th scope=col>&lt;dbl&gt;</th></tr>\n",
              "</thead>\n",
              "<tbody>\n",
              "\t<tr><td>2 Pac       </td><td>Baby Don't Cry (Keep...</td><td>2000-02-26</td><td>wk1 </td><td>87</td></tr>\n",
              "\t<tr><td>2 Pac       </td><td>Baby Don't Cry (Keep...</td><td>2000-02-26</td><td>wk2 </td><td>82</td></tr>\n",
              "\t<tr><td>2 Pac       </td><td>Baby Don't Cry (Keep...</td><td>2000-02-26</td><td>wk3 </td><td>72</td></tr>\n",
              "\t<tr><td>2 Pac       </td><td>Baby Don't Cry (Keep...</td><td>2000-02-26</td><td>wk4 </td><td>77</td></tr>\n",
              "\t<tr><td>2 Pac       </td><td>Baby Don't Cry (Keep...</td><td>2000-02-26</td><td>wk5 </td><td>87</td></tr>\n",
              "\t<tr><td>2 Pac       </td><td>Baby Don't Cry (Keep...</td><td>2000-02-26</td><td>wk6 </td><td>94</td></tr>\n",
              "\t<tr><td>2 Pac       </td><td>Baby Don't Cry (Keep...</td><td>2000-02-26</td><td>wk7 </td><td>99</td></tr>\n",
              "\t<tr><td>2Ge+her     </td><td>The Hardest Part Of ...</td><td>2000-09-02</td><td>wk1 </td><td>91</td></tr>\n",
              "\t<tr><td>2Ge+her     </td><td>The Hardest Part Of ...</td><td>2000-09-02</td><td>wk2 </td><td>87</td></tr>\n",
              "\t<tr><td>2Ge+her     </td><td>The Hardest Part Of ...</td><td>2000-09-02</td><td>wk3 </td><td>92</td></tr>\n",
              "\t<tr><td>3 Doors Down</td><td>Kryptonite             </td><td>2000-04-08</td><td>wk1 </td><td>81</td></tr>\n",
              "\t<tr><td>3 Doors Down</td><td>Kryptonite             </td><td>2000-04-08</td><td>wk2 </td><td>70</td></tr>\n",
              "\t<tr><td>3 Doors Down</td><td>Kryptonite             </td><td>2000-04-08</td><td>wk3 </td><td>68</td></tr>\n",
              "\t<tr><td>3 Doors Down</td><td>Kryptonite             </td><td>2000-04-08</td><td>wk4 </td><td>67</td></tr>\n",
              "\t<tr><td>3 Doors Down</td><td>Kryptonite             </td><td>2000-04-08</td><td>wk5 </td><td>66</td></tr>\n",
              "\t<tr><td>3 Doors Down</td><td>Kryptonite             </td><td>2000-04-08</td><td>wk6 </td><td>57</td></tr>\n",
              "\t<tr><td>3 Doors Down</td><td>Kryptonite             </td><td>2000-04-08</td><td>wk7 </td><td>54</td></tr>\n",
              "\t<tr><td>3 Doors Down</td><td>Kryptonite             </td><td>2000-04-08</td><td>wk8 </td><td>53</td></tr>\n",
              "\t<tr><td>3 Doors Down</td><td>Kryptonite             </td><td>2000-04-08</td><td>wk9 </td><td>51</td></tr>\n",
              "\t<tr><td>3 Doors Down</td><td>Kryptonite             </td><td>2000-04-08</td><td>wk10</td><td>51</td></tr>\n",
              "\t<tr><td>3 Doors Down</td><td>Kryptonite             </td><td>2000-04-08</td><td>wk11</td><td>51</td></tr>\n",
              "\t<tr><td>3 Doors Down</td><td>Kryptonite             </td><td>2000-04-08</td><td>wk12</td><td>51</td></tr>\n",
              "\t<tr><td>3 Doors Down</td><td>Kryptonite             </td><td>2000-04-08</td><td>wk13</td><td>47</td></tr>\n",
              "\t<tr><td>3 Doors Down</td><td>Kryptonite             </td><td>2000-04-08</td><td>wk14</td><td>44</td></tr>\n",
              "\t<tr><td>3 Doors Down</td><td>Kryptonite             </td><td>2000-04-08</td><td>wk15</td><td>38</td></tr>\n",
              "\t<tr><td>3 Doors Down</td><td>Kryptonite             </td><td>2000-04-08</td><td>wk16</td><td>28</td></tr>\n",
              "\t<tr><td>3 Doors Down</td><td>Kryptonite             </td><td>2000-04-08</td><td>wk17</td><td>22</td></tr>\n",
              "\t<tr><td>3 Doors Down</td><td>Kryptonite             </td><td>2000-04-08</td><td>wk18</td><td>18</td></tr>\n",
              "\t<tr><td>3 Doors Down</td><td>Kryptonite             </td><td>2000-04-08</td><td>wk19</td><td>18</td></tr>\n",
              "\t<tr><td>3 Doors Down</td><td>Kryptonite             </td><td>2000-04-08</td><td>wk20</td><td>14</td></tr>\n",
              "\t<tr><td>⋮</td><td>⋮</td><td>⋮</td><td>⋮</td><td>⋮</td></tr>\n",
              "\t<tr><td>matchbox twenty</td><td>Bent</td><td>2000-04-29</td><td>wk10</td><td>12</td></tr>\n",
              "\t<tr><td>matchbox twenty</td><td>Bent</td><td>2000-04-29</td><td>wk11</td><td> 8</td></tr>\n",
              "\t<tr><td>matchbox twenty</td><td>Bent</td><td>2000-04-29</td><td>wk12</td><td> 6</td></tr>\n",
              "\t<tr><td>matchbox twenty</td><td>Bent</td><td>2000-04-29</td><td>wk13</td><td> 1</td></tr>\n",
              "\t<tr><td>matchbox twenty</td><td>Bent</td><td>2000-04-29</td><td>wk14</td><td> 2</td></tr>\n",
              "\t<tr><td>matchbox twenty</td><td>Bent</td><td>2000-04-29</td><td>wk15</td><td> 3</td></tr>\n",
              "\t<tr><td>matchbox twenty</td><td>Bent</td><td>2000-04-29</td><td>wk16</td><td> 2</td></tr>\n",
              "\t<tr><td>matchbox twenty</td><td>Bent</td><td>2000-04-29</td><td>wk17</td><td> 2</td></tr>\n",
              "\t<tr><td>matchbox twenty</td><td>Bent</td><td>2000-04-29</td><td>wk18</td><td> 3</td></tr>\n",
              "\t<tr><td>matchbox twenty</td><td>Bent</td><td>2000-04-29</td><td>wk19</td><td> 4</td></tr>\n",
              "\t<tr><td>matchbox twenty</td><td>Bent</td><td>2000-04-29</td><td>wk20</td><td> 5</td></tr>\n",
              "\t<tr><td>matchbox twenty</td><td>Bent</td><td>2000-04-29</td><td>wk21</td><td> 4</td></tr>\n",
              "\t<tr><td>matchbox twenty</td><td>Bent</td><td>2000-04-29</td><td>wk22</td><td> 4</td></tr>\n",
              "\t<tr><td>matchbox twenty</td><td>Bent</td><td>2000-04-29</td><td>wk23</td><td> 6</td></tr>\n",
              "\t<tr><td>matchbox twenty</td><td>Bent</td><td>2000-04-29</td><td>wk24</td><td> 9</td></tr>\n",
              "\t<tr><td>matchbox twenty</td><td>Bent</td><td>2000-04-29</td><td>wk25</td><td>12</td></tr>\n",
              "\t<tr><td>matchbox twenty</td><td>Bent</td><td>2000-04-29</td><td>wk26</td><td>13</td></tr>\n",
              "\t<tr><td>matchbox twenty</td><td>Bent</td><td>2000-04-29</td><td>wk27</td><td>19</td></tr>\n",
              "\t<tr><td>matchbox twenty</td><td>Bent</td><td>2000-04-29</td><td>wk28</td><td>20</td></tr>\n",
              "\t<tr><td>matchbox twenty</td><td>Bent</td><td>2000-04-29</td><td>wk29</td><td>20</td></tr>\n",
              "\t<tr><td>matchbox twenty</td><td>Bent</td><td>2000-04-29</td><td>wk30</td><td>24</td></tr>\n",
              "\t<tr><td>matchbox twenty</td><td>Bent</td><td>2000-04-29</td><td>wk31</td><td>29</td></tr>\n",
              "\t<tr><td>matchbox twenty</td><td>Bent</td><td>2000-04-29</td><td>wk32</td><td>28</td></tr>\n",
              "\t<tr><td>matchbox twenty</td><td>Bent</td><td>2000-04-29</td><td>wk33</td><td>27</td></tr>\n",
              "\t<tr><td>matchbox twenty</td><td>Bent</td><td>2000-04-29</td><td>wk34</td><td>30</td></tr>\n",
              "\t<tr><td>matchbox twenty</td><td>Bent</td><td>2000-04-29</td><td>wk35</td><td>33</td></tr>\n",
              "\t<tr><td>matchbox twenty</td><td>Bent</td><td>2000-04-29</td><td>wk36</td><td>37</td></tr>\n",
              "\t<tr><td>matchbox twenty</td><td>Bent</td><td>2000-04-29</td><td>wk37</td><td>38</td></tr>\n",
              "\t<tr><td>matchbox twenty</td><td>Bent</td><td>2000-04-29</td><td>wk38</td><td>38</td></tr>\n",
              "\t<tr><td>matchbox twenty</td><td>Bent</td><td>2000-04-29</td><td>wk39</td><td>48</td></tr>\n",
              "</tbody>\n",
              "</table>\n"
            ],
            "text/markdown": "\nA tibble: 5307 × 5\n\n| artist &lt;chr&gt; | track &lt;chr&gt; | date.entered &lt;date&gt; | week &lt;chr&gt; | rank &lt;dbl&gt; |\n|---|---|---|---|---|\n| 2 Pac        | Baby Don't Cry (Keep... | 2000-02-26 | wk1  | 87 |\n| 2 Pac        | Baby Don't Cry (Keep... | 2000-02-26 | wk2  | 82 |\n| 2 Pac        | Baby Don't Cry (Keep... | 2000-02-26 | wk3  | 72 |\n| 2 Pac        | Baby Don't Cry (Keep... | 2000-02-26 | wk4  | 77 |\n| 2 Pac        | Baby Don't Cry (Keep... | 2000-02-26 | wk5  | 87 |\n| 2 Pac        | Baby Don't Cry (Keep... | 2000-02-26 | wk6  | 94 |\n| 2 Pac        | Baby Don't Cry (Keep... | 2000-02-26 | wk7  | 99 |\n| 2Ge+her      | The Hardest Part Of ... | 2000-09-02 | wk1  | 91 |\n| 2Ge+her      | The Hardest Part Of ... | 2000-09-02 | wk2  | 87 |\n| 2Ge+her      | The Hardest Part Of ... | 2000-09-02 | wk3  | 92 |\n| 3 Doors Down | Kryptonite              | 2000-04-08 | wk1  | 81 |\n| 3 Doors Down | Kryptonite              | 2000-04-08 | wk2  | 70 |\n| 3 Doors Down | Kryptonite              | 2000-04-08 | wk3  | 68 |\n| 3 Doors Down | Kryptonite              | 2000-04-08 | wk4  | 67 |\n| 3 Doors Down | Kryptonite              | 2000-04-08 | wk5  | 66 |\n| 3 Doors Down | Kryptonite              | 2000-04-08 | wk6  | 57 |\n| 3 Doors Down | Kryptonite              | 2000-04-08 | wk7  | 54 |\n| 3 Doors Down | Kryptonite              | 2000-04-08 | wk8  | 53 |\n| 3 Doors Down | Kryptonite              | 2000-04-08 | wk9  | 51 |\n| 3 Doors Down | Kryptonite              | 2000-04-08 | wk10 | 51 |\n| 3 Doors Down | Kryptonite              | 2000-04-08 | wk11 | 51 |\n| 3 Doors Down | Kryptonite              | 2000-04-08 | wk12 | 51 |\n| 3 Doors Down | Kryptonite              | 2000-04-08 | wk13 | 47 |\n| 3 Doors Down | Kryptonite              | 2000-04-08 | wk14 | 44 |\n| 3 Doors Down | Kryptonite              | 2000-04-08 | wk15 | 38 |\n| 3 Doors Down | Kryptonite              | 2000-04-08 | wk16 | 28 |\n| 3 Doors Down | Kryptonite              | 2000-04-08 | wk17 | 22 |\n| 3 Doors Down | Kryptonite              | 2000-04-08 | wk18 | 18 |\n| 3 Doors Down | Kryptonite              | 2000-04-08 | wk19 | 18 |\n| 3 Doors Down | Kryptonite              | 2000-04-08 | wk20 | 14 |\n| ⋮ | ⋮ | ⋮ | ⋮ | ⋮ |\n| matchbox twenty | Bent | 2000-04-29 | wk10 | 12 |\n| matchbox twenty | Bent | 2000-04-29 | wk11 |  8 |\n| matchbox twenty | Bent | 2000-04-29 | wk12 |  6 |\n| matchbox twenty | Bent | 2000-04-29 | wk13 |  1 |\n| matchbox twenty | Bent | 2000-04-29 | wk14 |  2 |\n| matchbox twenty | Bent | 2000-04-29 | wk15 |  3 |\n| matchbox twenty | Bent | 2000-04-29 | wk16 |  2 |\n| matchbox twenty | Bent | 2000-04-29 | wk17 |  2 |\n| matchbox twenty | Bent | 2000-04-29 | wk18 |  3 |\n| matchbox twenty | Bent | 2000-04-29 | wk19 |  4 |\n| matchbox twenty | Bent | 2000-04-29 | wk20 |  5 |\n| matchbox twenty | Bent | 2000-04-29 | wk21 |  4 |\n| matchbox twenty | Bent | 2000-04-29 | wk22 |  4 |\n| matchbox twenty | Bent | 2000-04-29 | wk23 |  6 |\n| matchbox twenty | Bent | 2000-04-29 | wk24 |  9 |\n| matchbox twenty | Bent | 2000-04-29 | wk25 | 12 |\n| matchbox twenty | Bent | 2000-04-29 | wk26 | 13 |\n| matchbox twenty | Bent | 2000-04-29 | wk27 | 19 |\n| matchbox twenty | Bent | 2000-04-29 | wk28 | 20 |\n| matchbox twenty | Bent | 2000-04-29 | wk29 | 20 |\n| matchbox twenty | Bent | 2000-04-29 | wk30 | 24 |\n| matchbox twenty | Bent | 2000-04-29 | wk31 | 29 |\n| matchbox twenty | Bent | 2000-04-29 | wk32 | 28 |\n| matchbox twenty | Bent | 2000-04-29 | wk33 | 27 |\n| matchbox twenty | Bent | 2000-04-29 | wk34 | 30 |\n| matchbox twenty | Bent | 2000-04-29 | wk35 | 33 |\n| matchbox twenty | Bent | 2000-04-29 | wk36 | 37 |\n| matchbox twenty | Bent | 2000-04-29 | wk37 | 38 |\n| matchbox twenty | Bent | 2000-04-29 | wk38 | 38 |\n| matchbox twenty | Bent | 2000-04-29 | wk39 | 48 |\n\n",
            "text/latex": "A tibble: 5307 × 5\n\\begin{tabular}{lllll}\n artist & track & date.entered & week & rank\\\\\n <chr> & <chr> & <date> & <chr> & <dbl>\\\\\n\\hline\n\t 2 Pac        & Baby Don't Cry (Keep... & 2000-02-26 & wk1  & 87\\\\\n\t 2 Pac        & Baby Don't Cry (Keep... & 2000-02-26 & wk2  & 82\\\\\n\t 2 Pac        & Baby Don't Cry (Keep... & 2000-02-26 & wk3  & 72\\\\\n\t 2 Pac        & Baby Don't Cry (Keep... & 2000-02-26 & wk4  & 77\\\\\n\t 2 Pac        & Baby Don't Cry (Keep... & 2000-02-26 & wk5  & 87\\\\\n\t 2 Pac        & Baby Don't Cry (Keep... & 2000-02-26 & wk6  & 94\\\\\n\t 2 Pac        & Baby Don't Cry (Keep... & 2000-02-26 & wk7  & 99\\\\\n\t 2Ge+her      & The Hardest Part Of ... & 2000-09-02 & wk1  & 91\\\\\n\t 2Ge+her      & The Hardest Part Of ... & 2000-09-02 & wk2  & 87\\\\\n\t 2Ge+her      & The Hardest Part Of ... & 2000-09-02 & wk3  & 92\\\\\n\t 3 Doors Down & Kryptonite              & 2000-04-08 & wk1  & 81\\\\\n\t 3 Doors Down & Kryptonite              & 2000-04-08 & wk2  & 70\\\\\n\t 3 Doors Down & Kryptonite              & 2000-04-08 & wk3  & 68\\\\\n\t 3 Doors Down & Kryptonite              & 2000-04-08 & wk4  & 67\\\\\n\t 3 Doors Down & Kryptonite              & 2000-04-08 & wk5  & 66\\\\\n\t 3 Doors Down & Kryptonite              & 2000-04-08 & wk6  & 57\\\\\n\t 3 Doors Down & Kryptonite              & 2000-04-08 & wk7  & 54\\\\\n\t 3 Doors Down & Kryptonite              & 2000-04-08 & wk8  & 53\\\\\n\t 3 Doors Down & Kryptonite              & 2000-04-08 & wk9  & 51\\\\\n\t 3 Doors Down & Kryptonite              & 2000-04-08 & wk10 & 51\\\\\n\t 3 Doors Down & Kryptonite              & 2000-04-08 & wk11 & 51\\\\\n\t 3 Doors Down & Kryptonite              & 2000-04-08 & wk12 & 51\\\\\n\t 3 Doors Down & Kryptonite              & 2000-04-08 & wk13 & 47\\\\\n\t 3 Doors Down & Kryptonite              & 2000-04-08 & wk14 & 44\\\\\n\t 3 Doors Down & Kryptonite              & 2000-04-08 & wk15 & 38\\\\\n\t 3 Doors Down & Kryptonite              & 2000-04-08 & wk16 & 28\\\\\n\t 3 Doors Down & Kryptonite              & 2000-04-08 & wk17 & 22\\\\\n\t 3 Doors Down & Kryptonite              & 2000-04-08 & wk18 & 18\\\\\n\t 3 Doors Down & Kryptonite              & 2000-04-08 & wk19 & 18\\\\\n\t 3 Doors Down & Kryptonite              & 2000-04-08 & wk20 & 14\\\\\n\t ⋮ & ⋮ & ⋮ & ⋮ & ⋮\\\\\n\t matchbox twenty & Bent & 2000-04-29 & wk10 & 12\\\\\n\t matchbox twenty & Bent & 2000-04-29 & wk11 &  8\\\\\n\t matchbox twenty & Bent & 2000-04-29 & wk12 &  6\\\\\n\t matchbox twenty & Bent & 2000-04-29 & wk13 &  1\\\\\n\t matchbox twenty & Bent & 2000-04-29 & wk14 &  2\\\\\n\t matchbox twenty & Bent & 2000-04-29 & wk15 &  3\\\\\n\t matchbox twenty & Bent & 2000-04-29 & wk16 &  2\\\\\n\t matchbox twenty & Bent & 2000-04-29 & wk17 &  2\\\\\n\t matchbox twenty & Bent & 2000-04-29 & wk18 &  3\\\\\n\t matchbox twenty & Bent & 2000-04-29 & wk19 &  4\\\\\n\t matchbox twenty & Bent & 2000-04-29 & wk20 &  5\\\\\n\t matchbox twenty & Bent & 2000-04-29 & wk21 &  4\\\\\n\t matchbox twenty & Bent & 2000-04-29 & wk22 &  4\\\\\n\t matchbox twenty & Bent & 2000-04-29 & wk23 &  6\\\\\n\t matchbox twenty & Bent & 2000-04-29 & wk24 &  9\\\\\n\t matchbox twenty & Bent & 2000-04-29 & wk25 & 12\\\\\n\t matchbox twenty & Bent & 2000-04-29 & wk26 & 13\\\\\n\t matchbox twenty & Bent & 2000-04-29 & wk27 & 19\\\\\n\t matchbox twenty & Bent & 2000-04-29 & wk28 & 20\\\\\n\t matchbox twenty & Bent & 2000-04-29 & wk29 & 20\\\\\n\t matchbox twenty & Bent & 2000-04-29 & wk30 & 24\\\\\n\t matchbox twenty & Bent & 2000-04-29 & wk31 & 29\\\\\n\t matchbox twenty & Bent & 2000-04-29 & wk32 & 28\\\\\n\t matchbox twenty & Bent & 2000-04-29 & wk33 & 27\\\\\n\t matchbox twenty & Bent & 2000-04-29 & wk34 & 30\\\\\n\t matchbox twenty & Bent & 2000-04-29 & wk35 & 33\\\\\n\t matchbox twenty & Bent & 2000-04-29 & wk36 & 37\\\\\n\t matchbox twenty & Bent & 2000-04-29 & wk37 & 38\\\\\n\t matchbox twenty & Bent & 2000-04-29 & wk38 & 38\\\\\n\t matchbox twenty & Bent & 2000-04-29 & wk39 & 48\\\\\n\\end{tabular}\n",
            "text/plain": [
              "     artist          track                   date.entered week rank\n",
              "1    2 Pac           Baby Don't Cry (Keep... 2000-02-26   wk1  87  \n",
              "2    2 Pac           Baby Don't Cry (Keep... 2000-02-26   wk2  82  \n",
              "3    2 Pac           Baby Don't Cry (Keep... 2000-02-26   wk3  72  \n",
              "4    2 Pac           Baby Don't Cry (Keep... 2000-02-26   wk4  77  \n",
              "5    2 Pac           Baby Don't Cry (Keep... 2000-02-26   wk5  87  \n",
              "6    2 Pac           Baby Don't Cry (Keep... 2000-02-26   wk6  94  \n",
              "7    2 Pac           Baby Don't Cry (Keep... 2000-02-26   wk7  99  \n",
              "8    2Ge+her         The Hardest Part Of ... 2000-09-02   wk1  91  \n",
              "9    2Ge+her         The Hardest Part Of ... 2000-09-02   wk2  87  \n",
              "10   2Ge+her         The Hardest Part Of ... 2000-09-02   wk3  92  \n",
              "11   3 Doors Down    Kryptonite              2000-04-08   wk1  81  \n",
              "12   3 Doors Down    Kryptonite              2000-04-08   wk2  70  \n",
              "13   3 Doors Down    Kryptonite              2000-04-08   wk3  68  \n",
              "14   3 Doors Down    Kryptonite              2000-04-08   wk4  67  \n",
              "15   3 Doors Down    Kryptonite              2000-04-08   wk5  66  \n",
              "16   3 Doors Down    Kryptonite              2000-04-08   wk6  57  \n",
              "17   3 Doors Down    Kryptonite              2000-04-08   wk7  54  \n",
              "18   3 Doors Down    Kryptonite              2000-04-08   wk8  53  \n",
              "19   3 Doors Down    Kryptonite              2000-04-08   wk9  51  \n",
              "20   3 Doors Down    Kryptonite              2000-04-08   wk10 51  \n",
              "21   3 Doors Down    Kryptonite              2000-04-08   wk11 51  \n",
              "22   3 Doors Down    Kryptonite              2000-04-08   wk12 51  \n",
              "23   3 Doors Down    Kryptonite              2000-04-08   wk13 47  \n",
              "24   3 Doors Down    Kryptonite              2000-04-08   wk14 44  \n",
              "25   3 Doors Down    Kryptonite              2000-04-08   wk15 38  \n",
              "26   3 Doors Down    Kryptonite              2000-04-08   wk16 28  \n",
              "27   3 Doors Down    Kryptonite              2000-04-08   wk17 22  \n",
              "28   3 Doors Down    Kryptonite              2000-04-08   wk18 18  \n",
              "29   3 Doors Down    Kryptonite              2000-04-08   wk19 18  \n",
              "30   3 Doors Down    Kryptonite              2000-04-08   wk20 14  \n",
              "⋮    ⋮               ⋮                       ⋮            ⋮    ⋮   \n",
              "5278 matchbox twenty Bent                    2000-04-29   wk10 12  \n",
              "5279 matchbox twenty Bent                    2000-04-29   wk11  8  \n",
              "5280 matchbox twenty Bent                    2000-04-29   wk12  6  \n",
              "5281 matchbox twenty Bent                    2000-04-29   wk13  1  \n",
              "5282 matchbox twenty Bent                    2000-04-29   wk14  2  \n",
              "5283 matchbox twenty Bent                    2000-04-29   wk15  3  \n",
              "5284 matchbox twenty Bent                    2000-04-29   wk16  2  \n",
              "5285 matchbox twenty Bent                    2000-04-29   wk17  2  \n",
              "5286 matchbox twenty Bent                    2000-04-29   wk18  3  \n",
              "5287 matchbox twenty Bent                    2000-04-29   wk19  4  \n",
              "5288 matchbox twenty Bent                    2000-04-29   wk20  5  \n",
              "5289 matchbox twenty Bent                    2000-04-29   wk21  4  \n",
              "5290 matchbox twenty Bent                    2000-04-29   wk22  4  \n",
              "5291 matchbox twenty Bent                    2000-04-29   wk23  6  \n",
              "5292 matchbox twenty Bent                    2000-04-29   wk24  9  \n",
              "5293 matchbox twenty Bent                    2000-04-29   wk25 12  \n",
              "5294 matchbox twenty Bent                    2000-04-29   wk26 13  \n",
              "5295 matchbox twenty Bent                    2000-04-29   wk27 19  \n",
              "5296 matchbox twenty Bent                    2000-04-29   wk28 20  \n",
              "5297 matchbox twenty Bent                    2000-04-29   wk29 20  \n",
              "5298 matchbox twenty Bent                    2000-04-29   wk30 24  \n",
              "5299 matchbox twenty Bent                    2000-04-29   wk31 29  \n",
              "5300 matchbox twenty Bent                    2000-04-29   wk32 28  \n",
              "5301 matchbox twenty Bent                    2000-04-29   wk33 27  \n",
              "5302 matchbox twenty Bent                    2000-04-29   wk34 30  \n",
              "5303 matchbox twenty Bent                    2000-04-29   wk35 33  \n",
              "5304 matchbox twenty Bent                    2000-04-29   wk36 37  \n",
              "5305 matchbox twenty Bent                    2000-04-29   wk37 38  \n",
              "5306 matchbox twenty Bent                    2000-04-29   wk38 38  \n",
              "5307 matchbox twenty Bent                    2000-04-29   wk39 48  "
            ]
          },
          "metadata": {}
        }
      ]
    },
    {
      "cell_type": "markdown",
      "source": [
        "The number of rows is now much lower, indicating that many rows with NAs were dropped."
      ],
      "metadata": {
        "id": "iMk3_kVCjwb5"
      }
    },
    {
      "cell_type": "markdown",
      "source": [
        "This data is now tidy, but we could make future computation a bit easier by converting values of `week` from character strings to numbers using `mutate()` and `readr::parse_number()`.\n",
        "\n",
        "`parse_number()` is a handy function that will extract the first number from a string, ignoring all other text."
      ],
      "metadata": {
        "id": "s4fLrxRRkgsl"
      }
    },
    {
      "cell_type": "code",
      "source": [
        "billboard_longer <- billboard |>\n",
        "  pivot_longer(\n",
        "    cols = starts_with(\"wk\"),\n",
        "    names_to = \"week\",\n",
        "    values_to = \"rank\",\n",
        "    values_drop_na = TRUE\n",
        "  ) |>\n",
        "  mutate(\n",
        "    week = parse_number(week)\n",
        "  )\n",
        "\n",
        "billboard_longer |> head()"
      ],
      "metadata": {
        "colab": {
          "base_uri": "https://localhost:8080/",
          "height": 286
        },
        "id": "gjsolyG6j-v_",
        "outputId": "dbfe9dee-62fa-41bb-87f0-a09393b83a20"
      },
      "execution_count": null,
      "outputs": [
        {
          "output_type": "display_data",
          "data": {
            "text/html": [
              "<table class=\"dataframe\">\n",
              "<caption>A tibble: 6 × 5</caption>\n",
              "<thead>\n",
              "\t<tr><th scope=col>artist</th><th scope=col>track</th><th scope=col>date.entered</th><th scope=col>week</th><th scope=col>rank</th></tr>\n",
              "\t<tr><th scope=col>&lt;chr&gt;</th><th scope=col>&lt;chr&gt;</th><th scope=col>&lt;date&gt;</th><th scope=col>&lt;dbl&gt;</th><th scope=col>&lt;dbl&gt;</th></tr>\n",
              "</thead>\n",
              "<tbody>\n",
              "\t<tr><td>2 Pac</td><td>Baby Don't Cry (Keep...</td><td>2000-02-26</td><td>1</td><td>87</td></tr>\n",
              "\t<tr><td>2 Pac</td><td>Baby Don't Cry (Keep...</td><td>2000-02-26</td><td>2</td><td>82</td></tr>\n",
              "\t<tr><td>2 Pac</td><td>Baby Don't Cry (Keep...</td><td>2000-02-26</td><td>3</td><td>72</td></tr>\n",
              "\t<tr><td>2 Pac</td><td>Baby Don't Cry (Keep...</td><td>2000-02-26</td><td>4</td><td>77</td></tr>\n",
              "\t<tr><td>2 Pac</td><td>Baby Don't Cry (Keep...</td><td>2000-02-26</td><td>5</td><td>87</td></tr>\n",
              "\t<tr><td>2 Pac</td><td>Baby Don't Cry (Keep...</td><td>2000-02-26</td><td>6</td><td>94</td></tr>\n",
              "</tbody>\n",
              "</table>\n"
            ],
            "text/markdown": "\nA tibble: 6 × 5\n\n| artist &lt;chr&gt; | track &lt;chr&gt; | date.entered &lt;date&gt; | week &lt;dbl&gt; | rank &lt;dbl&gt; |\n|---|---|---|---|---|\n| 2 Pac | Baby Don't Cry (Keep... | 2000-02-26 | 1 | 87 |\n| 2 Pac | Baby Don't Cry (Keep... | 2000-02-26 | 2 | 82 |\n| 2 Pac | Baby Don't Cry (Keep... | 2000-02-26 | 3 | 72 |\n| 2 Pac | Baby Don't Cry (Keep... | 2000-02-26 | 4 | 77 |\n| 2 Pac | Baby Don't Cry (Keep... | 2000-02-26 | 5 | 87 |\n| 2 Pac | Baby Don't Cry (Keep... | 2000-02-26 | 6 | 94 |\n\n",
            "text/latex": "A tibble: 6 × 5\n\\begin{tabular}{lllll}\n artist & track & date.entered & week & rank\\\\\n <chr> & <chr> & <date> & <dbl> & <dbl>\\\\\n\\hline\n\t 2 Pac & Baby Don't Cry (Keep... & 2000-02-26 & 1 & 87\\\\\n\t 2 Pac & Baby Don't Cry (Keep... & 2000-02-26 & 2 & 82\\\\\n\t 2 Pac & Baby Don't Cry (Keep... & 2000-02-26 & 3 & 72\\\\\n\t 2 Pac & Baby Don't Cry (Keep... & 2000-02-26 & 4 & 77\\\\\n\t 2 Pac & Baby Don't Cry (Keep... & 2000-02-26 & 5 & 87\\\\\n\t 2 Pac & Baby Don't Cry (Keep... & 2000-02-26 & 6 & 94\\\\\n\\end{tabular}\n",
            "text/plain": [
              "  artist track                   date.entered week rank\n",
              "1 2 Pac  Baby Don't Cry (Keep... 2000-02-26   1    87  \n",
              "2 2 Pac  Baby Don't Cry (Keep... 2000-02-26   2    82  \n",
              "3 2 Pac  Baby Don't Cry (Keep... 2000-02-26   3    72  \n",
              "4 2 Pac  Baby Don't Cry (Keep... 2000-02-26   4    77  \n",
              "5 2 Pac  Baby Don't Cry (Keep... 2000-02-26   5    87  \n",
              "6 2 Pac  Baby Don't Cry (Keep... 2000-02-26   6    94  "
            ]
          },
          "metadata": {}
        }
      ]
    },
    {
      "cell_type": "markdown",
      "source": [
        "> Now that we have all the week numbers in one variable and all the rank values in another, we’re in a good position to visualize how song ranks vary over time"
      ],
      "metadata": {
        "id": "wmdgVFRcmcnX"
      }
    },
    {
      "cell_type": "code",
      "source": [
        "billboard_longer |>\n",
        "  ggplot(aes(x = week, y = rank, group = track)) +\n",
        "  geom_line(alpha = 0.25) +\n",
        "  scale_y_reverse()"
      ],
      "metadata": {
        "colab": {
          "base_uri": "https://localhost:8080/",
          "height": 437
        },
        "id": "bgsDo4XjmmM-",
        "outputId": "811df066-1361-4585-865c-f85eab871843"
      },
      "execution_count": null,
      "outputs": [
        {
          "output_type": "display_data",
          "data": {
            "text/plain": [
              "plot without title"
            ],
            "image/png": "[encoded data removed]"
          },
          "metadata": {
            "image/png": {
              "width": 420,
              "height": 420
            }
          }
        }
      ]
    },
    {
      "cell_type": "markdown",
      "source": [
        "Which song stay longest in the top 100?"
      ],
      "metadata": {
        "id": "BxLPUtwLnxNc"
      }
    },
    {
      "cell_type": "code",
      "source": [
        "billboard_longer |>\n",
        "  group_by(track) |>\n",
        "  summarize(\n",
        "    n = n() # count the number of week that tracks have been in Billboard top 100\n",
        "  ) |>\n",
        "  arrange(desc(n)) |>\n",
        "  head(10) ## top 10 longest tracks"
      ],
      "metadata": {
        "colab": {
          "base_uri": "https://localhost:8080/",
          "height": 412
        },
        "id": "hGegNJ3UoKYj",
        "outputId": "dcf5526f-a318-45f0-a309-ec0172d527d8"
      },
      "execution_count": null,
      "outputs": [
        {
          "output_type": "display_data",
          "data": {
            "text/html": [
              "<table class=\"dataframe\">\n",
              "<caption>A tibble: 10 × 2</caption>\n",
              "<thead>\n",
              "\t<tr><th scope=col>track</th><th scope=col>n</th></tr>\n",
              "\t<tr><th scope=col>&lt;chr&gt;</th><th scope=col>&lt;int&gt;</th></tr>\n",
              "</thead>\n",
              "<tbody>\n",
              "\t<tr><td>Higher                 </td><td>57</td></tr>\n",
              "\t<tr><td>Amazed                 </td><td>55</td></tr>\n",
              "\t<tr><td>Breathe                </td><td>53</td></tr>\n",
              "\t<tr><td>Kryptonite             </td><td>53</td></tr>\n",
              "\t<tr><td>With Arms Wide Open    </td><td>47</td></tr>\n",
              "\t<tr><td>I Wanna Know           </td><td>44</td></tr>\n",
              "\t<tr><td>Everything You Want    </td><td>41</td></tr>\n",
              "\t<tr><td>Bent                   </td><td>39</td></tr>\n",
              "\t<tr><td>He Wasn't Man Enough   </td><td>37</td></tr>\n",
              "\t<tr><td>(Hot S**t) Country G...</td><td>34</td></tr>\n",
              "</tbody>\n",
              "</table>\n"
            ],
            "text/markdown": "\nA tibble: 10 × 2\n\n| track &lt;chr&gt; | n &lt;int&gt; |\n|---|---|\n| Higher                  | 57 |\n| Amazed                  | 55 |\n| Breathe                 | 53 |\n| Kryptonite              | 53 |\n| With Arms Wide Open     | 47 |\n| I Wanna Know            | 44 |\n| Everything You Want     | 41 |\n| Bent                    | 39 |\n| He Wasn't Man Enough    | 37 |\n| (Hot S**t) Country G... | 34 |\n\n",
            "text/latex": "A tibble: 10 × 2\n\\begin{tabular}{ll}\n track & n\\\\\n <chr> & <int>\\\\\n\\hline\n\t Higher                  & 57\\\\\n\t Amazed                  & 55\\\\\n\t Breathe                 & 53\\\\\n\t Kryptonite              & 53\\\\\n\t With Arms Wide Open     & 47\\\\\n\t I Wanna Know            & 44\\\\\n\t Everything You Want     & 41\\\\\n\t Bent                    & 39\\\\\n\t He Wasn't Man Enough    & 37\\\\\n\t (Hot S**t) Country G... & 34\\\\\n\\end{tabular}\n",
            "text/plain": [
              "   track                   n \n",
              "1  Higher                  57\n",
              "2  Amazed                  55\n",
              "3  Breathe                 53\n",
              "4  Kryptonite              53\n",
              "5  With Arms Wide Open     47\n",
              "6  I Wanna Know            44\n",
              "7  Everything You Want     41\n",
              "8  Bent                    39\n",
              "9  He Wasn't Man Enough    37\n",
              "10 (Hot S**t) Country G... 34"
            ]
          },
          "metadata": {}
        }
      ]
    },
    {
      "cell_type": "markdown",
      "source": [
        "### How does pivoting work?"
      ],
      "metadata": {
        "id": "IAHlazb2pbiq"
      }
    },
    {
      "cell_type": "markdown",
      "source": [
        " Let’s start with a very simple dataset to make it easier to see what’s happening."
      ],
      "metadata": {
        "id": "NWhdANX_pm8Z"
      }
    },
    {
      "cell_type": "code",
      "source": [
        "df <- tribble(\n",
        "  ~id,  ~bp1, ~bp2,\n",
        "   \"A\",  100,  120,\n",
        "   \"B\",  140,  115,\n",
        "   \"C\",  120,  125\n",
        ")"
      ],
      "metadata": {
        "id": "gYrY54gWp8u3"
      },
      "execution_count": null,
      "outputs": []
    },
    {
      "cell_type": "code",
      "source": [
        "df"
      ],
      "metadata": {
        "colab": {
          "base_uri": "https://localhost:8080/",
          "height": 192
        },
        "id": "KO1re0pgp-Fh",
        "outputId": "5d18f829-4876-4bea-e59b-0048ad0029be"
      },
      "execution_count": null,
      "outputs": [
        {
          "output_type": "display_data",
          "data": {
            "text/html": [
              "<table class=\"dataframe\">\n",
              "<caption>A tibble: 3 × 3</caption>\n",
              "<thead>\n",
              "\t<tr><th scope=col>id</th><th scope=col>bp1</th><th scope=col>bp2</th></tr>\n",
              "\t<tr><th scope=col>&lt;chr&gt;</th><th scope=col>&lt;dbl&gt;</th><th scope=col>&lt;dbl&gt;</th></tr>\n",
              "</thead>\n",
              "<tbody>\n",
              "\t<tr><td>A</td><td>100</td><td>120</td></tr>\n",
              "\t<tr><td>B</td><td>140</td><td>115</td></tr>\n",
              "\t<tr><td>C</td><td>120</td><td>125</td></tr>\n",
              "</tbody>\n",
              "</table>\n"
            ],
            "text/markdown": "\nA tibble: 3 × 3\n\n| id &lt;chr&gt; | bp1 &lt;dbl&gt; | bp2 &lt;dbl&gt; |\n|---|---|---|\n| A | 100 | 120 |\n| B | 140 | 115 |\n| C | 120 | 125 |\n\n",
            "text/latex": "A tibble: 3 × 3\n\\begin{tabular}{lll}\n id & bp1 & bp2\\\\\n <chr> & <dbl> & <dbl>\\\\\n\\hline\n\t A & 100 & 120\\\\\n\t B & 140 & 115\\\\\n\t C & 120 & 125\\\\\n\\end{tabular}\n",
            "text/plain": [
              "  id bp1 bp2\n",
              "1 A  100 120\n",
              "2 B  140 115\n",
              "3 C  120 125"
            ]
          },
          "metadata": {}
        }
      ]
    },
    {
      "cell_type": "code",
      "source": [
        "df |>\n",
        "  pivot_longer(\n",
        "    cols = bp1:bp2,\n",
        "    names_to = \"measurement\",\n",
        "    values_to = \"value\"\n",
        "  )"
      ],
      "metadata": {
        "colab": {
          "base_uri": "https://localhost:8080/",
          "height": 286
        },
        "id": "ssg-gHHUqCNp",
        "outputId": "e40815e2-8b15-4e04-e9eb-cf08170926e4"
      },
      "execution_count": null,
      "outputs": [
        {
          "output_type": "display_data",
          "data": {
            "text/html": [
              "<table class=\"dataframe\">\n",
              "<caption>A tibble: 6 × 3</caption>\n",
              "<thead>\n",
              "\t<tr><th scope=col>id</th><th scope=col>measurement</th><th scope=col>value</th></tr>\n",
              "\t<tr><th scope=col>&lt;chr&gt;</th><th scope=col>&lt;chr&gt;</th><th scope=col>&lt;dbl&gt;</th></tr>\n",
              "</thead>\n",
              "<tbody>\n",
              "\t<tr><td>A</td><td>bp1</td><td>100</td></tr>\n",
              "\t<tr><td>A</td><td>bp2</td><td>120</td></tr>\n",
              "\t<tr><td>B</td><td>bp1</td><td>140</td></tr>\n",
              "\t<tr><td>B</td><td>bp2</td><td>115</td></tr>\n",
              "\t<tr><td>C</td><td>bp1</td><td>120</td></tr>\n",
              "\t<tr><td>C</td><td>bp2</td><td>125</td></tr>\n",
              "</tbody>\n",
              "</table>\n"
            ],
            "text/markdown": "\nA tibble: 6 × 3\n\n| id &lt;chr&gt; | measurement &lt;chr&gt; | value &lt;dbl&gt; |\n|---|---|---|\n| A | bp1 | 100 |\n| A | bp2 | 120 |\n| B | bp1 | 140 |\n| B | bp2 | 115 |\n| C | bp1 | 120 |\n| C | bp2 | 125 |\n\n",
            "text/latex": "A tibble: 6 × 3\n\\begin{tabular}{lll}\n id & measurement & value\\\\\n <chr> & <chr> & <dbl>\\\\\n\\hline\n\t A & bp1 & 100\\\\\n\t A & bp2 & 120\\\\\n\t B & bp1 & 140\\\\\n\t B & bp2 & 115\\\\\n\t C & bp1 & 120\\\\\n\t C & bp2 & 125\\\\\n\\end{tabular}\n",
            "text/plain": [
              "  id measurement value\n",
              "1 A  bp1         100  \n",
              "2 A  bp2         120  \n",
              "3 B  bp1         140  \n",
              "4 B  bp2         115  \n",
              "5 C  bp1         120  \n",
              "6 C  bp2         125  "
            ]
          },
          "metadata": {}
        }
      ]
    },
    {
      "cell_type": "markdown",
      "source": [
        "How does the reshaping work?"
      ],
      "metadata": {
        "id": "fLCGmVwUr32f"
      }
    },
    {
      "cell_type": "markdown",
      "source": [
        "![](https://r4ds.hadley.nz/diagrams/tidy-data/variables.png)"
      ],
      "metadata": {
        "id": "pg0d0x7Lrg-I"
      }
    },
    {
      "cell_type": "markdown",
      "source": [
        "![](https://r4ds.hadley.nz/diagrams/tidy-data/column-names.png)"
      ],
      "metadata": {
        "id": "7cbfzJb8r86v"
      }
    },
    {
      "cell_type": "markdown",
      "source": [
        "![](https://r4ds.hadley.nz/diagrams/tidy-data/cell-values.png)"
      ],
      "metadata": {
        "id": "fLbSC1aKua0J"
      }
    },
    {
      "cell_type": "markdown",
      "source": [
        "### Many variables in column names"
      ],
      "metadata": {
        "id": "y9OlLzz9u08Q"
      }
    },
    {
      "cell_type": "markdown",
      "source": [
        "A more challenging situation occurs when you have multiple pieces of information crammed into the column names, and you would like to store these in separate new variables."
      ],
      "metadata": {
        "id": "42DB4S6Xu4vt"
      }
    },
    {
      "cell_type": "code",
      "source": [
        "who2 |> head()"
      ],
      "metadata": {
        "colab": {
          "base_uri": "https://localhost:8080/",
          "height": 306
        },
        "id": "C_HMA8TXyu1Y",
        "outputId": "fd2e2940-7f69-4a3d-e9f9-695ac871ced2"
      },
      "execution_count": null,
      "outputs": [
        {
          "output_type": "display_data",
          "data": {
            "text/html": [
              "<table class=\"dataframe\">\n",
              "<caption>A tibble: 6 × 58</caption>\n",
              "<thead>\n",
              "\t<tr><th scope=col>country</th><th scope=col>year</th><th scope=col>sp_m_014</th><th scope=col>sp_m_1524</th><th scope=col>sp_m_2534</th><th scope=col>sp_m_3544</th><th scope=col>sp_m_4554</th><th scope=col>sp_m_5564</th><th scope=col>sp_m_65</th><th scope=col>sp_f_014</th><th scope=col>⋯</th><th scope=col>rel_m_4554</th><th scope=col>rel_m_5564</th><th scope=col>rel_m_65</th><th scope=col>rel_f_014</th><th scope=col>rel_f_1524</th><th scope=col>rel_f_2534</th><th scope=col>rel_f_3544</th><th scope=col>rel_f_4554</th><th scope=col>rel_f_5564</th><th scope=col>rel_f_65</th></tr>\n",
              "\t<tr><th scope=col>&lt;chr&gt;</th><th scope=col>&lt;dbl&gt;</th><th scope=col>&lt;dbl&gt;</th><th scope=col>&lt;dbl&gt;</th><th scope=col>&lt;dbl&gt;</th><th scope=col>&lt;dbl&gt;</th><th scope=col>&lt;dbl&gt;</th><th scope=col>&lt;dbl&gt;</th><th scope=col>&lt;dbl&gt;</th><th scope=col>&lt;dbl&gt;</th><th scope=col>⋯</th><th scope=col>&lt;dbl&gt;</th><th scope=col>&lt;dbl&gt;</th><th scope=col>&lt;dbl&gt;</th><th scope=col>&lt;dbl&gt;</th><th scope=col>&lt;dbl&gt;</th><th scope=col>&lt;dbl&gt;</th><th scope=col>&lt;dbl&gt;</th><th scope=col>&lt;dbl&gt;</th><th scope=col>&lt;dbl&gt;</th><th scope=col>&lt;dbl&gt;</th></tr>\n",
              "</thead>\n",
              "<tbody>\n",
              "\t<tr><td>Afghanistan</td><td>1980</td><td>NA</td><td>NA</td><td>NA</td><td>NA</td><td>NA</td><td>NA</td><td>NA</td><td>NA</td><td>⋯</td><td>NA</td><td>NA</td><td>NA</td><td>NA</td><td>NA</td><td>NA</td><td>NA</td><td>NA</td><td>NA</td><td>NA</td></tr>\n",
              "\t<tr><td>Afghanistan</td><td>1981</td><td>NA</td><td>NA</td><td>NA</td><td>NA</td><td>NA</td><td>NA</td><td>NA</td><td>NA</td><td>⋯</td><td>NA</td><td>NA</td><td>NA</td><td>NA</td><td>NA</td><td>NA</td><td>NA</td><td>NA</td><td>NA</td><td>NA</td></tr>\n",
              "\t<tr><td>Afghanistan</td><td>1982</td><td>NA</td><td>NA</td><td>NA</td><td>NA</td><td>NA</td><td>NA</td><td>NA</td><td>NA</td><td>⋯</td><td>NA</td><td>NA</td><td>NA</td><td>NA</td><td>NA</td><td>NA</td><td>NA</td><td>NA</td><td>NA</td><td>NA</td></tr>\n",
              "\t<tr><td>Afghanistan</td><td>1983</td><td>NA</td><td>NA</td><td>NA</td><td>NA</td><td>NA</td><td>NA</td><td>NA</td><td>NA</td><td>⋯</td><td>NA</td><td>NA</td><td>NA</td><td>NA</td><td>NA</td><td>NA</td><td>NA</td><td>NA</td><td>NA</td><td>NA</td></tr>\n",
              "\t<tr><td>Afghanistan</td><td>1984</td><td>NA</td><td>NA</td><td>NA</td><td>NA</td><td>NA</td><td>NA</td><td>NA</td><td>NA</td><td>⋯</td><td>NA</td><td>NA</td><td>NA</td><td>NA</td><td>NA</td><td>NA</td><td>NA</td><td>NA</td><td>NA</td><td>NA</td></tr>\n",
              "\t<tr><td>Afghanistan</td><td>1985</td><td>NA</td><td>NA</td><td>NA</td><td>NA</td><td>NA</td><td>NA</td><td>NA</td><td>NA</td><td>⋯</td><td>NA</td><td>NA</td><td>NA</td><td>NA</td><td>NA</td><td>NA</td><td>NA</td><td>NA</td><td>NA</td><td>NA</td></tr>\n",
              "</tbody>\n",
              "</table>\n"
            ],
            "text/markdown": "\nA tibble: 6 × 58\n\n| country &lt;chr&gt; | year &lt;dbl&gt; | sp_m_014 &lt;dbl&gt; | sp_m_1524 &lt;dbl&gt; | sp_m_2534 &lt;dbl&gt; | sp_m_3544 &lt;dbl&gt; | sp_m_4554 &lt;dbl&gt; | sp_m_5564 &lt;dbl&gt; | sp_m_65 &lt;dbl&gt; | sp_f_014 &lt;dbl&gt; | ⋯ ⋯ | rel_m_4554 &lt;dbl&gt; | rel_m_5564 &lt;dbl&gt; | rel_m_65 &lt;dbl&gt; | rel_f_014 &lt;dbl&gt; | rel_f_1524 &lt;dbl&gt; | rel_f_2534 &lt;dbl&gt; | rel_f_3544 &lt;dbl&gt; | rel_f_4554 &lt;dbl&gt; | rel_f_5564 &lt;dbl&gt; | rel_f_65 &lt;dbl&gt; |\n|---|---|---|---|---|---|---|---|---|---|---|---|---|---|---|---|---|---|---|---|---|\n| Afghanistan | 1980 | NA | NA | NA | NA | NA | NA | NA | NA | ⋯ | NA | NA | NA | NA | NA | NA | NA | NA | NA | NA |\n| Afghanistan | 1981 | NA | NA | NA | NA | NA | NA | NA | NA | ⋯ | NA | NA | NA | NA | NA | NA | NA | NA | NA | NA |\n| Afghanistan | 1982 | NA | NA | NA | NA | NA | NA | NA | NA | ⋯ | NA | NA | NA | NA | NA | NA | NA | NA | NA | NA |\n| Afghanistan | 1983 | NA | NA | NA | NA | NA | NA | NA | NA | ⋯ | NA | NA | NA | NA | NA | NA | NA | NA | NA | NA |\n| Afghanistan | 1984 | NA | NA | NA | NA | NA | NA | NA | NA | ⋯ | NA | NA | NA | NA | NA | NA | NA | NA | NA | NA |\n| Afghanistan | 1985 | NA | NA | NA | NA | NA | NA | NA | NA | ⋯ | NA | NA | NA | NA | NA | NA | NA | NA | NA | NA |\n\n",
            "text/latex": "A tibble: 6 × 58\n\\begin{tabular}{lllllllllllllllllllll}\n country & year & sp\\_m\\_014 & sp\\_m\\_1524 & sp\\_m\\_2534 & sp\\_m\\_3544 & sp\\_m\\_4554 & sp\\_m\\_5564 & sp\\_m\\_65 & sp\\_f\\_014 & ⋯ & rel\\_m\\_4554 & rel\\_m\\_5564 & rel\\_m\\_65 & rel\\_f\\_014 & rel\\_f\\_1524 & rel\\_f\\_2534 & rel\\_f\\_3544 & rel\\_f\\_4554 & rel\\_f\\_5564 & rel\\_f\\_65\\\\\n <chr> & <dbl> & <dbl> & <dbl> & <dbl> & <dbl> & <dbl> & <dbl> & <dbl> & <dbl> & ⋯ & <dbl> & <dbl> & <dbl> & <dbl> & <dbl> & <dbl> & <dbl> & <dbl> & <dbl> & <dbl>\\\\\n\\hline\n\t Afghanistan & 1980 & NA & NA & NA & NA & NA & NA & NA & NA & ⋯ & NA & NA & NA & NA & NA & NA & NA & NA & NA & NA\\\\\n\t Afghanistan & 1981 & NA & NA & NA & NA & NA & NA & NA & NA & ⋯ & NA & NA & NA & NA & NA & NA & NA & NA & NA & NA\\\\\n\t Afghanistan & 1982 & NA & NA & NA & NA & NA & NA & NA & NA & ⋯ & NA & NA & NA & NA & NA & NA & NA & NA & NA & NA\\\\\n\t Afghanistan & 1983 & NA & NA & NA & NA & NA & NA & NA & NA & ⋯ & NA & NA & NA & NA & NA & NA & NA & NA & NA & NA\\\\\n\t Afghanistan & 1984 & NA & NA & NA & NA & NA & NA & NA & NA & ⋯ & NA & NA & NA & NA & NA & NA & NA & NA & NA & NA\\\\\n\t Afghanistan & 1985 & NA & NA & NA & NA & NA & NA & NA & NA & ⋯ & NA & NA & NA & NA & NA & NA & NA & NA & NA & NA\\\\\n\\end{tabular}\n",
            "text/plain": [
              "  country     year sp_m_014 sp_m_1524 sp_m_2534 sp_m_3544 sp_m_4554 sp_m_5564\n",
              "1 Afghanistan 1980 NA       NA        NA        NA        NA        NA       \n",
              "2 Afghanistan 1981 NA       NA        NA        NA        NA        NA       \n",
              "3 Afghanistan 1982 NA       NA        NA        NA        NA        NA       \n",
              "4 Afghanistan 1983 NA       NA        NA        NA        NA        NA       \n",
              "5 Afghanistan 1984 NA       NA        NA        NA        NA        NA       \n",
              "6 Afghanistan 1985 NA       NA        NA        NA        NA        NA       \n",
              "  sp_m_65 sp_f_014 ⋯ rel_m_4554 rel_m_5564 rel_m_65 rel_f_014 rel_f_1524\n",
              "1 NA      NA       ⋯ NA         NA         NA       NA        NA        \n",
              "2 NA      NA       ⋯ NA         NA         NA       NA        NA        \n",
              "3 NA      NA       ⋯ NA         NA         NA       NA        NA        \n",
              "4 NA      NA       ⋯ NA         NA         NA       NA        NA        \n",
              "5 NA      NA       ⋯ NA         NA         NA       NA        NA        \n",
              "6 NA      NA       ⋯ NA         NA         NA       NA        NA        \n",
              "  rel_f_2534 rel_f_3544 rel_f_4554 rel_f_5564 rel_f_65\n",
              "1 NA         NA         NA         NA         NA      \n",
              "2 NA         NA         NA         NA         NA      \n",
              "3 NA         NA         NA         NA         NA      \n",
              "4 NA         NA         NA         NA         NA      \n",
              "5 NA         NA         NA         NA         NA      \n",
              "6 NA         NA         NA         NA         NA      "
            ]
          },
          "metadata": {}
        }
      ]
    },
    {
      "cell_type": "markdown",
      "source": [
        "This dataset, collected by the World Health Organisation, records information about tuberculosis diagnoses."
      ],
      "metadata": {
        "id": "oxBG7blRzSHA"
      }
    },
    {
      "cell_type": "markdown",
      "source": [
        "There are two columns that are already variables and are easy to interpret: `country` and `year`"
      ],
      "metadata": {
        "id": "f6Z9yTawzUMY"
      }
    },
    {
      "cell_type": "markdown",
      "source": [
        "They are followed by 56 columns like sp_m_014, ep_m_4554, and rel_m_3544. If you stare at these columns for long enough, you’ll notice there’s a pattern. Each column name is made up of three pieces separated by _."
      ],
      "metadata": {
        "id": "D1YD1Qdo0Ecv"
      }
    },
    {
      "cell_type": "markdown",
      "source": [
        "- The first piece, `sp/rel/ep`, describes the method used for the diagnosis,\n",
        "- The second piece, `m/f` is the gender (coded as a binary variable in this dataset),\n",
        "- The third piece, `014/1524/2534/3544/4554/5564/65` is the age range (014 represents 0-14, for example)."
      ],
      "metadata": {
        "id": "b7kuml2czcSA"
      }
    },
    {
      "cell_type": "code",
      "source": [
        "who2_longer <-\n",
        "who2 |>\n",
        "  pivot_longer(\n",
        "    cols = !(country:year),\n",
        "    names_to = c(\"diagnosis\", \"gender\", \"age\"),\n",
        "    names_sep = \"_\",\n",
        "    values_to = \"count\"\n",
        "  )"
      ],
      "metadata": {
        "id": "GITfRDqNz86O"
      },
      "execution_count": null,
      "outputs": []
    },
    {
      "cell_type": "code",
      "source": [
        "#table(who2_longer$count)"
      ],
      "metadata": {
        "id": "pmBAQXRw2XjB"
      },
      "execution_count": null,
      "outputs": []
    },
    {
      "cell_type": "markdown",
      "source": [
        "> An al ternative to `names_sep` is `names_pattern`, which you can use to extract variables from more complicated naming scenarios, once you've learned about regular expressions."
      ],
      "metadata": {
        "id": "cytPtVtr1v3T"
      }
    },
    {
      "cell_type": "markdown",
      "source": [
        "![](https://r4ds.hadley.nz/diagrams/tidy-data/multiple-names.png)"
      ],
      "metadata": {
        "id": "ac-9Tpn-2DMA"
      }
    },
    {
      "cell_type": "markdown",
      "source": [
        "### Data and variable names in the column headers"
      ],
      "metadata": {
        "id": "TOs4zkkb1h_p"
      }
    },
    {
      "cell_type": "markdown",
      "source": [
        "The next step up in complexity is when the column names include a mix of variable values and variable names. For example, take the `household` dataset:"
      ],
      "metadata": {
        "id": "ZclQEH5u3kkg"
      }
    },
    {
      "cell_type": "code",
      "source": [
        "household"
      ],
      "metadata": {
        "colab": {
          "base_uri": "https://localhost:8080/",
          "height": 255
        },
        "id": "a0WmSwFx35GI",
        "outputId": "8b29d3fb-f7f1-476e-f6fc-e936c53eabca"
      },
      "execution_count": null,
      "outputs": [
        {
          "output_type": "display_data",
          "data": {
            "text/html": [
              "<table class=\"dataframe\">\n",
              "<caption>A tibble: 5 × 5</caption>\n",
              "<thead>\n",
              "\t<tr><th scope=col>family</th><th scope=col>dob_child1</th><th scope=col>dob_child2</th><th scope=col>name_child1</th><th scope=col>name_child2</th></tr>\n",
              "\t<tr><th scope=col>&lt;int&gt;</th><th scope=col>&lt;date&gt;</th><th scope=col>&lt;date&gt;</th><th scope=col>&lt;chr&gt;</th><th scope=col>&lt;chr&gt;</th></tr>\n",
              "</thead>\n",
              "<tbody>\n",
              "\t<tr><td>1</td><td>1998-11-26</td><td>2000-01-29</td><td>Susan </td><td>Jose  </td></tr>\n",
              "\t<tr><td>2</td><td>1996-06-22</td><td>NA</td><td>Mark  </td><td>NA    </td></tr>\n",
              "\t<tr><td>3</td><td>2002-07-11</td><td>2004-04-05</td><td>Sam   </td><td>Seth  </td></tr>\n",
              "\t<tr><td>4</td><td>2004-10-10</td><td>2009-08-27</td><td>Craig </td><td>Khai  </td></tr>\n",
              "\t<tr><td>5</td><td>2000-12-05</td><td>2005-02-28</td><td>Parker</td><td>Gracie</td></tr>\n",
              "</tbody>\n",
              "</table>\n"
            ],
            "text/markdown": "\nA tibble: 5 × 5\n\n| family &lt;int&gt; | dob_child1 &lt;date&gt; | dob_child2 &lt;date&gt; | name_child1 &lt;chr&gt; | name_child2 &lt;chr&gt; |\n|---|---|---|---|---|\n| 1 | 1998-11-26 | 2000-01-29 | Susan  | Jose   |\n| 2 | 1996-06-22 | NA | Mark   | NA     |\n| 3 | 2002-07-11 | 2004-04-05 | Sam    | Seth   |\n| 4 | 2004-10-10 | 2009-08-27 | Craig  | Khai   |\n| 5 | 2000-12-05 | 2005-02-28 | Parker | Gracie |\n\n",
            "text/latex": "A tibble: 5 × 5\n\\begin{tabular}{lllll}\n family & dob\\_child1 & dob\\_child2 & name\\_child1 & name\\_child2\\\\\n <int> & <date> & <date> & <chr> & <chr>\\\\\n\\hline\n\t 1 & 1998-11-26 & 2000-01-29 & Susan  & Jose  \\\\\n\t 2 & 1996-06-22 & NA & Mark   & NA    \\\\\n\t 3 & 2002-07-11 & 2004-04-05 & Sam    & Seth  \\\\\n\t 4 & 2004-10-10 & 2009-08-27 & Craig  & Khai  \\\\\n\t 5 & 2000-12-05 & 2005-02-28 & Parker & Gracie\\\\\n\\end{tabular}\n",
            "text/plain": [
              "  family dob_child1 dob_child2 name_child1 name_child2\n",
              "1 1      1998-11-26 2000-01-29 Susan       Jose       \n",
              "2 2      1996-06-22 <NA>       Mark        NA         \n",
              "3 3      2002-07-11 2004-04-05 Sam         Seth       \n",
              "4 4      2004-10-10 2009-08-27 Craig       Khai       \n",
              "5 5      2000-12-05 2005-02-28 Parker      Gracie     "
            ]
          },
          "metadata": {}
        }
      ]
    },
    {
      "cell_type": "code",
      "source": [
        "household |>\n",
        "  pivot_longer(\n",
        "    cols = !family,\n",
        "    names_to = c(\".value\", \"child\"),\n",
        "    names_sep = \"_\",\n",
        "    values_drop_na = TRUE\n",
        "  )"
      ],
      "metadata": {
        "colab": {
          "base_uri": "https://localhost:8080/",
          "height": 380
        },
        "id": "afqqSDaY4lX4",
        "outputId": "951e9ac2-eeb8-4ff2-f011-60d014e02c66"
      },
      "execution_count": null,
      "outputs": [
        {
          "output_type": "display_data",
          "data": {
            "text/html": [
              "<table class=\"dataframe\">\n",
              "<caption>A tibble: 9 × 4</caption>\n",
              "<thead>\n",
              "\t<tr><th scope=col>family</th><th scope=col>child</th><th scope=col>dob</th><th scope=col>name</th></tr>\n",
              "\t<tr><th scope=col>&lt;int&gt;</th><th scope=col>&lt;chr&gt;</th><th scope=col>&lt;date&gt;</th><th scope=col>&lt;chr&gt;</th></tr>\n",
              "</thead>\n",
              "<tbody>\n",
              "\t<tr><td>1</td><td>child1</td><td>1998-11-26</td><td>Susan </td></tr>\n",
              "\t<tr><td>1</td><td>child2</td><td>2000-01-29</td><td>Jose  </td></tr>\n",
              "\t<tr><td>2</td><td>child1</td><td>1996-06-22</td><td>Mark  </td></tr>\n",
              "\t<tr><td>3</td><td>child1</td><td>2002-07-11</td><td>Sam   </td></tr>\n",
              "\t<tr><td>3</td><td>child2</td><td>2004-04-05</td><td>Seth  </td></tr>\n",
              "\t<tr><td>4</td><td>child1</td><td>2004-10-10</td><td>Craig </td></tr>\n",
              "\t<tr><td>4</td><td>child2</td><td>2009-08-27</td><td>Khai  </td></tr>\n",
              "\t<tr><td>5</td><td>child1</td><td>2000-12-05</td><td>Parker</td></tr>\n",
              "\t<tr><td>5</td><td>child2</td><td>2005-02-28</td><td>Gracie</td></tr>\n",
              "</tbody>\n",
              "</table>\n"
            ],
            "text/markdown": "\nA tibble: 9 × 4\n\n| family &lt;int&gt; | child &lt;chr&gt; | dob &lt;date&gt; | name &lt;chr&gt; |\n|---|---|---|---|\n| 1 | child1 | 1998-11-26 | Susan  |\n| 1 | child2 | 2000-01-29 | Jose   |\n| 2 | child1 | 1996-06-22 | Mark   |\n| 3 | child1 | 2002-07-11 | Sam    |\n| 3 | child2 | 2004-04-05 | Seth   |\n| 4 | child1 | 2004-10-10 | Craig  |\n| 4 | child2 | 2009-08-27 | Khai   |\n| 5 | child1 | 2000-12-05 | Parker |\n| 5 | child2 | 2005-02-28 | Gracie |\n\n",
            "text/latex": "A tibble: 9 × 4\n\\begin{tabular}{llll}\n family & child & dob & name\\\\\n <int> & <chr> & <date> & <chr>\\\\\n\\hline\n\t 1 & child1 & 1998-11-26 & Susan \\\\\n\t 1 & child2 & 2000-01-29 & Jose  \\\\\n\t 2 & child1 & 1996-06-22 & Mark  \\\\\n\t 3 & child1 & 2002-07-11 & Sam   \\\\\n\t 3 & child2 & 2004-04-05 & Seth  \\\\\n\t 4 & child1 & 2004-10-10 & Craig \\\\\n\t 4 & child2 & 2009-08-27 & Khai  \\\\\n\t 5 & child1 & 2000-12-05 & Parker\\\\\n\t 5 & child2 & 2005-02-28 & Gracie\\\\\n\\end{tabular}\n",
            "text/plain": [
              "  family child  dob        name  \n",
              "1 1      child1 1998-11-26 Susan \n",
              "2 1      child2 2000-01-29 Jose  \n",
              "3 2      child1 1996-06-22 Mark  \n",
              "4 3      child1 2002-07-11 Sam   \n",
              "5 3      child2 2004-04-05 Seth  \n",
              "6 4      child1 2004-10-10 Craig \n",
              "7 4      child2 2009-08-27 Khai  \n",
              "8 5      child1 2000-12-05 Parker\n",
              "9 5      child2 2005-02-28 Gracie"
            ]
          },
          "metadata": {}
        }
      ]
    },
    {
      "cell_type": "markdown",
      "source": [
        "## Widening data"
      ],
      "metadata": {
        "id": "_lXhSdo87gQn"
      }
    },
    {
      "cell_type": "markdown",
      "source": [
        "`pivot_wider()`, which makes datasets **wider** by increasing columns and reducing rows and helps when one observation is spread across multiple rows."
      ],
      "metadata": {
        "id": "tZ5j9RYsa4oY"
      }
    },
    {
      "cell_type": "markdown",
      "source": [
        "This seems to arise less commonly in the wild, but it does seem to crop up a lot when dealing with governmental data."
      ],
      "metadata": {
        "id": "iPV87dIDbNiv"
      }
    },
    {
      "cell_type": "code",
      "source": [
        "cms_patient_experience"
      ],
      "metadata": {
        "colab": {
          "base_uri": "https://localhost:8080/",
          "height": 1000
        },
        "id": "Gl1M_cNLbWw1",
        "outputId": "4ca4874d-89b0-4d90-baf0-f7307a2d4a40"
      },
      "execution_count": 2,
      "outputs": [
        {
          "output_type": "display_data",
          "data": {
            "text/html": [
              "<table class=\"dataframe\">\n",
              "<caption>A tibble: 500 × 5</caption>\n",
              "<thead>\n",
              "\t<tr><th scope=col>org_pac_id</th><th scope=col>org_nm</th><th scope=col>measure_cd</th><th scope=col>measure_title</th><th scope=col>prf_rate</th></tr>\n",
              "\t<tr><th scope=col>&lt;chr&gt;</th><th scope=col>&lt;chr&gt;</th><th scope=col>&lt;chr&gt;</th><th scope=col>&lt;chr&gt;</th><th scope=col>&lt;dbl&gt;</th></tr>\n",
              "</thead>\n",
              "<tbody>\n",
              "\t<tr><td>0446157747</td><td>USC CARE MEDICAL GROUP INC          </td><td>CAHPS_GRP_1 </td><td>CAHPS for MIPS SSM: Getting Timely Care, Appointments, and Information</td><td>63</td></tr>\n",
              "\t<tr><td>0446157747</td><td>USC CARE MEDICAL GROUP INC          </td><td>CAHPS_GRP_2 </td><td>CAHPS for MIPS SSM: How Well Providers Communicate                    </td><td>87</td></tr>\n",
              "\t<tr><td>0446157747</td><td>USC CARE MEDICAL GROUP INC          </td><td>CAHPS_GRP_3 </td><td>CAHPS for MIPS SSM: Patient's Rating of Provider                      </td><td>86</td></tr>\n",
              "\t<tr><td>0446157747</td><td>USC CARE MEDICAL GROUP INC          </td><td>CAHPS_GRP_5 </td><td>CAHPS for MIPS SSM: Health Promotion and Education                    </td><td>57</td></tr>\n",
              "\t<tr><td>0446157747</td><td>USC CARE MEDICAL GROUP INC          </td><td>CAHPS_GRP_8 </td><td>CAHPS for MIPS SSM: Courteous and Helpful Office Staff                </td><td>85</td></tr>\n",
              "\t<tr><td>0446157747</td><td>USC CARE MEDICAL GROUP INC          </td><td>CAHPS_GRP_12</td><td>CAHPS for MIPS SSM: Stewardship of Patient Resources                  </td><td>24</td></tr>\n",
              "\t<tr><td>0446162697</td><td>ASSOCIATION OF UNIVERSITY PHYSICIANS</td><td>CAHPS_GRP_1 </td><td>CAHPS for MIPS SSM: Getting Timely Care, Appointments, and Information</td><td>59</td></tr>\n",
              "\t<tr><td>0446162697</td><td>ASSOCIATION OF UNIVERSITY PHYSICIANS</td><td>CAHPS_GRP_2 </td><td>CAHPS for MIPS SSM: How Well Providers Communicate                    </td><td>85</td></tr>\n",
              "\t<tr><td>0446162697</td><td>ASSOCIATION OF UNIVERSITY PHYSICIANS</td><td>CAHPS_GRP_3 </td><td>CAHPS for MIPS SSM: Patient's Rating of Provider                      </td><td>83</td></tr>\n",
              "\t<tr><td>0446162697</td><td>ASSOCIATION OF UNIVERSITY PHYSICIANS</td><td>CAHPS_GRP_5 </td><td>CAHPS for MIPS SSM: Health Promotion and Education                    </td><td>63</td></tr>\n",
              "\t<tr><td>0446162697</td><td>ASSOCIATION OF UNIVERSITY PHYSICIANS</td><td>CAHPS_GRP_8 </td><td>CAHPS for MIPS SSM: Courteous and Helpful Office Staff                </td><td>88</td></tr>\n",
              "\t<tr><td>0446162697</td><td>ASSOCIATION OF UNIVERSITY PHYSICIANS</td><td>CAHPS_GRP_12</td><td>CAHPS for MIPS SSM: Stewardship of Patient Resources                  </td><td>22</td></tr>\n",
              "\t<tr><td>0547164295</td><td>BEAVER MEDICAL GROUP PC             </td><td>CAHPS_GRP_1 </td><td>CAHPS for MIPS SSM: Getting Timely Care, Appointments, and Information</td><td>49</td></tr>\n",
              "\t<tr><td>0547164295</td><td>BEAVER MEDICAL GROUP PC             </td><td>CAHPS_GRP_2 </td><td>CAHPS for MIPS SSM: How Well Providers Communicate                    </td><td>NA</td></tr>\n",
              "\t<tr><td>0547164295</td><td>BEAVER MEDICAL GROUP PC             </td><td>CAHPS_GRP_3 </td><td>CAHPS for MIPS SSM: Patient's Rating of Provider                      </td><td>75</td></tr>\n",
              "\t<tr><td>0547164295</td><td>BEAVER MEDICAL GROUP PC             </td><td>CAHPS_GRP_5 </td><td>CAHPS for MIPS SSM: Health Promotion and Education                    </td><td>44</td></tr>\n",
              "\t<tr><td>0547164295</td><td>BEAVER MEDICAL GROUP PC             </td><td>CAHPS_GRP_8 </td><td>CAHPS for MIPS SSM: Courteous and Helpful Office Staff                </td><td>73</td></tr>\n",
              "\t<tr><td>0547164295</td><td>BEAVER MEDICAL GROUP PC             </td><td>CAHPS_GRP_12</td><td>CAHPS for MIPS SSM: Stewardship of Patient Resources                  </td><td>12</td></tr>\n",
              "\t<tr><td>0749333730</td><td>CAPE PHYSICIANS ASSOCIATES PA       </td><td>CAHPS_GRP_1 </td><td>CAHPS for MIPS SSM: Getting Timely Care, Appointments, and Information</td><td>67</td></tr>\n",
              "\t<tr><td>0749333730</td><td>CAPE PHYSICIANS ASSOCIATES PA       </td><td>CAHPS_GRP_2 </td><td>CAHPS for MIPS SSM: How Well Providers Communicate                    </td><td>84</td></tr>\n",
              "\t<tr><td>0749333730</td><td>CAPE PHYSICIANS ASSOCIATES PA       </td><td>CAHPS_GRP_3 </td><td>CAHPS for MIPS SSM: Patient's Rating of Provider                      </td><td>85</td></tr>\n",
              "\t<tr><td>0749333730</td><td>CAPE PHYSICIANS ASSOCIATES PA       </td><td>CAHPS_GRP_5 </td><td>CAHPS for MIPS SSM: Health Promotion and Education                    </td><td>65</td></tr>\n",
              "\t<tr><td>0749333730</td><td>CAPE PHYSICIANS ASSOCIATES PA       </td><td>CAHPS_GRP_8 </td><td>CAHPS for MIPS SSM: Courteous and Helpful Office Staff                </td><td>82</td></tr>\n",
              "\t<tr><td>0749333730</td><td>CAPE PHYSICIANS ASSOCIATES PA       </td><td>CAHPS_GRP_12</td><td>CAHPS for MIPS SSM: Stewardship of Patient Resources                  </td><td>24</td></tr>\n",
              "\t<tr><td>0840104360</td><td>ALLIANCE PHYSICIANS INC             </td><td>CAHPS_GRP_1 </td><td>CAHPS for MIPS SSM: Getting Timely Care, Appointments, and Information</td><td>66</td></tr>\n",
              "\t<tr><td>0840104360</td><td>ALLIANCE PHYSICIANS INC             </td><td>CAHPS_GRP_2 </td><td>CAHPS for MIPS SSM: How Well Providers Communicate                    </td><td>87</td></tr>\n",
              "\t<tr><td>0840104360</td><td>ALLIANCE PHYSICIANS INC             </td><td>CAHPS_GRP_3 </td><td>CAHPS for MIPS SSM: Patient's Rating of Provider                      </td><td>87</td></tr>\n",
              "\t<tr><td>0840104360</td><td>ALLIANCE PHYSICIANS INC             </td><td>CAHPS_GRP_5 </td><td>CAHPS for MIPS SSM: Health Promotion and Education                    </td><td>64</td></tr>\n",
              "\t<tr><td>0840104360</td><td>ALLIANCE PHYSICIANS INC             </td><td>CAHPS_GRP_8 </td><td>CAHPS for MIPS SSM: Courteous and Helpful Office Staff                </td><td>87</td></tr>\n",
              "\t<tr><td>0840104360</td><td>ALLIANCE PHYSICIANS INC             </td><td>CAHPS_GRP_12</td><td>CAHPS for MIPS SSM: Stewardship of Patient Resources                  </td><td>28</td></tr>\n",
              "\t<tr><td>⋮</td><td>⋮</td><td>⋮</td><td>⋮</td><td>⋮</td></tr>\n",
              "\t<tr><td>9638491574</td><td>SCL HEALTH MEDICAL GROUP - BILLINGS LLC  </td><td>CAHPS_GRP_1 </td><td>CAHPS for MIPS SSM: Getting Timely Care, Appointments, and Information</td><td>61</td></tr>\n",
              "\t<tr><td>9638491574</td><td>SCL HEALTH MEDICAL GROUP - BILLINGS LLC  </td><td>CAHPS_GRP_2 </td><td>CAHPS for MIPS SSM: How Well Providers Communicate                    </td><td>84</td></tr>\n",
              "\t<tr><td>9638491574</td><td>SCL HEALTH MEDICAL GROUP - BILLINGS LLC  </td><td>CAHPS_GRP_3 </td><td>CAHPS for MIPS SSM: Patient's Rating of Provider                      </td><td>82</td></tr>\n",
              "\t<tr><td>9638491574</td><td>SCL HEALTH MEDICAL GROUP - BILLINGS LLC  </td><td>CAHPS_GRP_5 </td><td>CAHPS for MIPS SSM: Health Promotion and Education                    </td><td>67</td></tr>\n",
              "\t<tr><td>9638491574</td><td>SCL HEALTH MEDICAL GROUP - BILLINGS LLC  </td><td>CAHPS_GRP_12</td><td>CAHPS for MIPS SSM: Stewardship of Patient Resources                  </td><td>24</td></tr>\n",
              "\t<tr><td>9830002617</td><td>VIRGINIA MASON MEDICAL CENTER            </td><td>CAHPS_GRP_1 </td><td>CAHPS for MIPS SSM: Getting Timely Care, Appointments, and Information</td><td>55</td></tr>\n",
              "\t<tr><td>9830002617</td><td>VIRGINIA MASON MEDICAL CENTER            </td><td>CAHPS_GRP_2 </td><td>CAHPS for MIPS SSM: How Well Providers Communicate                    </td><td>81</td></tr>\n",
              "\t<tr><td>9830002617</td><td>VIRGINIA MASON MEDICAL CENTER            </td><td>CAHPS_GRP_3 </td><td>CAHPS for MIPS SSM: Patient's Rating of Provider                      </td><td>80</td></tr>\n",
              "\t<tr><td>9830002617</td><td>VIRGINIA MASON MEDICAL CENTER            </td><td>CAHPS_GRP_5 </td><td>CAHPS for MIPS SSM: Health Promotion and Education                    </td><td>62</td></tr>\n",
              "\t<tr><td>9830002617</td><td>VIRGINIA MASON MEDICAL CENTER            </td><td>CAHPS_GRP_12</td><td>CAHPS for MIPS SSM: Stewardship of Patient Resources                  </td><td>20</td></tr>\n",
              "\t<tr><td>9830008770</td><td>WASHINGTON UNIVERSITY                    </td><td>CAHPS_GRP_1 </td><td>CAHPS for MIPS SSM: Getting Timely Care, Appointments, and Information</td><td>65</td></tr>\n",
              "\t<tr><td>9830008770</td><td>WASHINGTON UNIVERSITY                    </td><td>CAHPS_GRP_2 </td><td>CAHPS for MIPS SSM: How Well Providers Communicate                    </td><td>NA</td></tr>\n",
              "\t<tr><td>9830008770</td><td>WASHINGTON UNIVERSITY                    </td><td>CAHPS_GRP_3 </td><td>CAHPS for MIPS SSM: Patient's Rating of Provider                      </td><td>NA</td></tr>\n",
              "\t<tr><td>9830008770</td><td>WASHINGTON UNIVERSITY                    </td><td>CAHPS_GRP_5 </td><td>CAHPS for MIPS SSM: Health Promotion and Education                    </td><td>61</td></tr>\n",
              "\t<tr><td>9830008770</td><td>WASHINGTON UNIVERSITY                    </td><td>CAHPS_GRP_12</td><td>CAHPS for MIPS SSM: Stewardship of Patient Resources                  </td><td>28</td></tr>\n",
              "\t<tr><td>9830093640</td><td>COOPERATIVE HEALTHCARE SERVICES, INC.    </td><td>CAHPS_GRP_1 </td><td>CAHPS for MIPS SSM: Getting Timely Care, Appointments, and Information</td><td>65</td></tr>\n",
              "\t<tr><td>9830093640</td><td>COOPERATIVE HEALTHCARE SERVICES, INC.    </td><td>CAHPS_GRP_2 </td><td>CAHPS for MIPS SSM: How Well Providers Communicate                    </td><td>87</td></tr>\n",
              "\t<tr><td>9830093640</td><td>COOPERATIVE HEALTHCARE SERVICES, INC.    </td><td>CAHPS_GRP_3 </td><td>CAHPS for MIPS SSM: Patient's Rating of Provider                      </td><td>78</td></tr>\n",
              "\t<tr><td>9830093640</td><td>COOPERATIVE HEALTHCARE SERVICES, INC.    </td><td>CAHPS_GRP_5 </td><td>CAHPS for MIPS SSM: Health Promotion and Education                    </td><td>52</td></tr>\n",
              "\t<tr><td>9830093640</td><td>COOPERATIVE HEALTHCARE SERVICES, INC.    </td><td>CAHPS_GRP_12</td><td>CAHPS for MIPS SSM: Stewardship of Patient Resources                  </td><td>25</td></tr>\n",
              "\t<tr><td>9830094515</td><td>SUTTER VALLEY MEDICAL FOUNDATION         </td><td>CAHPS_GRP_1 </td><td>CAHPS for MIPS SSM: Getting Timely Care, Appointments, and Information</td><td>60</td></tr>\n",
              "\t<tr><td>9830094515</td><td>SUTTER VALLEY MEDICAL FOUNDATION         </td><td>CAHPS_GRP_2 </td><td>CAHPS for MIPS SSM: How Well Providers Communicate                    </td><td>NA</td></tr>\n",
              "\t<tr><td>9830094515</td><td>SUTTER VALLEY MEDICAL FOUNDATION         </td><td>CAHPS_GRP_3 </td><td>CAHPS for MIPS SSM: Patient's Rating of Provider                      </td><td>88</td></tr>\n",
              "\t<tr><td>9830094515</td><td>SUTTER VALLEY MEDICAL FOUNDATION         </td><td>CAHPS_GRP_5 </td><td>CAHPS for MIPS SSM: Health Promotion and Education                    </td><td>55</td></tr>\n",
              "\t<tr><td>9830094515</td><td>SUTTER VALLEY MEDICAL FOUNDATION         </td><td>CAHPS_GRP_12</td><td>CAHPS for MIPS SSM: Stewardship of Patient Resources                  </td><td>24</td></tr>\n",
              "\t<tr><td>9931011434</td><td>PATIENT FIRST RICHMOND MEDICAL GROUP PLLC</td><td>CAHPS_GRP_1 </td><td>CAHPS for MIPS SSM: Getting Timely Care, Appointments, and Information</td><td>80</td></tr>\n",
              "\t<tr><td>9931011434</td><td>PATIENT FIRST RICHMOND MEDICAL GROUP PLLC</td><td>CAHPS_GRP_2 </td><td>CAHPS for MIPS SSM: How Well Providers Communicate                    </td><td>NA</td></tr>\n",
              "\t<tr><td>9931011434</td><td>PATIENT FIRST RICHMOND MEDICAL GROUP PLLC</td><td>CAHPS_GRP_3 </td><td>CAHPS for MIPS SSM: Patient's Rating of Provider                      </td><td>NA</td></tr>\n",
              "\t<tr><td>9931011434</td><td>PATIENT FIRST RICHMOND MEDICAL GROUP PLLC</td><td>CAHPS_GRP_5 </td><td>CAHPS for MIPS SSM: Health Promotion and Education                    </td><td>45</td></tr>\n",
              "\t<tr><td>9931011434</td><td>PATIENT FIRST RICHMOND MEDICAL GROUP PLLC</td><td>CAHPS_GRP_12</td><td>CAHPS for MIPS SSM: Stewardship of Patient Resources                  </td><td>19</td></tr>\n",
              "</tbody>\n",
              "</table>\n"
            ],
            "text/markdown": "\nA tibble: 500 × 5\n\n| org_pac_id &lt;chr&gt; | org_nm &lt;chr&gt; | measure_cd &lt;chr&gt; | measure_title &lt;chr&gt; | prf_rate &lt;dbl&gt; |\n|---|---|---|---|---|\n| 0446157747 | USC CARE MEDICAL GROUP INC           | CAHPS_GRP_1  | CAHPS for MIPS SSM: Getting Timely Care, Appointments, and Information | 63 |\n| 0446157747 | USC CARE MEDICAL GROUP INC           | CAHPS_GRP_2  | CAHPS for MIPS SSM: How Well Providers Communicate                     | 87 |\n| 0446157747 | USC CARE MEDICAL GROUP INC           | CAHPS_GRP_3  | CAHPS for MIPS SSM: Patient's Rating of Provider                       | 86 |\n| 0446157747 | USC CARE MEDICAL GROUP INC           | CAHPS_GRP_5  | CAHPS for MIPS SSM: Health Promotion and Education                     | 57 |\n| 0446157747 | USC CARE MEDICAL GROUP INC           | CAHPS_GRP_8  | CAHPS for MIPS SSM: Courteous and Helpful Office Staff                 | 85 |\n| 0446157747 | USC CARE MEDICAL GROUP INC           | CAHPS_GRP_12 | CAHPS for MIPS SSM: Stewardship of Patient Resources                   | 24 |\n| 0446162697 | ASSOCIATION OF UNIVERSITY PHYSICIANS | CAHPS_GRP_1  | CAHPS for MIPS SSM: Getting Timely Care, Appointments, and Information | 59 |\n| 0446162697 | ASSOCIATION OF UNIVERSITY PHYSICIANS | CAHPS_GRP_2  | CAHPS for MIPS SSM: How Well Providers Communicate                     | 85 |\n| 0446162697 | ASSOCIATION OF UNIVERSITY PHYSICIANS | CAHPS_GRP_3  | CAHPS for MIPS SSM: Patient's Rating of Provider                       | 83 |\n| 0446162697 | ASSOCIATION OF UNIVERSITY PHYSICIANS | CAHPS_GRP_5  | CAHPS for MIPS SSM: Health Promotion and Education                     | 63 |\n| 0446162697 | ASSOCIATION OF UNIVERSITY PHYSICIANS | CAHPS_GRP_8  | CAHPS for MIPS SSM: Courteous and Helpful Office Staff                 | 88 |\n| 0446162697 | ASSOCIATION OF UNIVERSITY PHYSICIANS | CAHPS_GRP_12 | CAHPS for MIPS SSM: Stewardship of Patient Resources                   | 22 |\n| 0547164295 | BEAVER MEDICAL GROUP PC              | CAHPS_GRP_1  | CAHPS for MIPS SSM: Getting Timely Care, Appointments, and Information | 49 |\n| 0547164295 | BEAVER MEDICAL GROUP PC              | CAHPS_GRP_2  | CAHPS for MIPS SSM: How Well Providers Communicate                     | NA |\n| 0547164295 | BEAVER MEDICAL GROUP PC              | CAHPS_GRP_3  | CAHPS for MIPS SSM: Patient's Rating of Provider                       | 75 |\n| 0547164295 | BEAVER MEDICAL GROUP PC              | CAHPS_GRP_5  | CAHPS for MIPS SSM: Health Promotion and Education                     | 44 |\n| 0547164295 | BEAVER MEDICAL GROUP PC              | CAHPS_GRP_8  | CAHPS for MIPS SSM: Courteous and Helpful Office Staff                 | 73 |\n| 0547164295 | BEAVER MEDICAL GROUP PC              | CAHPS_GRP_12 | CAHPS for MIPS SSM: Stewardship of Patient Resources                   | 12 |\n| 0749333730 | CAPE PHYSICIANS ASSOCIATES PA        | CAHPS_GRP_1  | CAHPS for MIPS SSM: Getting Timely Care, Appointments, and Information | 67 |\n| 0749333730 | CAPE PHYSICIANS ASSOCIATES PA        | CAHPS_GRP_2  | CAHPS for MIPS SSM: How Well Providers Communicate                     | 84 |\n| 0749333730 | CAPE PHYSICIANS ASSOCIATES PA        | CAHPS_GRP_3  | CAHPS for MIPS SSM: Patient's Rating of Provider                       | 85 |\n| 0749333730 | CAPE PHYSICIANS ASSOCIATES PA        | CAHPS_GRP_5  | CAHPS for MIPS SSM: Health Promotion and Education                     | 65 |\n| 0749333730 | CAPE PHYSICIANS ASSOCIATES PA        | CAHPS_GRP_8  | CAHPS for MIPS SSM: Courteous and Helpful Office Staff                 | 82 |\n| 0749333730 | CAPE PHYSICIANS ASSOCIATES PA        | CAHPS_GRP_12 | CAHPS for MIPS SSM: Stewardship of Patient Resources                   | 24 |\n| 0840104360 | ALLIANCE PHYSICIANS INC              | CAHPS_GRP_1  | CAHPS for MIPS SSM: Getting Timely Care, Appointments, and Information | 66 |\n| 0840104360 | ALLIANCE PHYSICIANS INC              | CAHPS_GRP_2  | CAHPS for MIPS SSM: How Well Providers Communicate                     | 87 |\n| 0840104360 | ALLIANCE PHYSICIANS INC              | CAHPS_GRP_3  | CAHPS for MIPS SSM: Patient's Rating of Provider                       | 87 |\n| 0840104360 | ALLIANCE PHYSICIANS INC              | CAHPS_GRP_5  | CAHPS for MIPS SSM: Health Promotion and Education                     | 64 |\n| 0840104360 | ALLIANCE PHYSICIANS INC              | CAHPS_GRP_8  | CAHPS for MIPS SSM: Courteous and Helpful Office Staff                 | 87 |\n| 0840104360 | ALLIANCE PHYSICIANS INC              | CAHPS_GRP_12 | CAHPS for MIPS SSM: Stewardship of Patient Resources                   | 28 |\n| ⋮ | ⋮ | ⋮ | ⋮ | ⋮ |\n| 9638491574 | SCL HEALTH MEDICAL GROUP - BILLINGS LLC   | CAHPS_GRP_1  | CAHPS for MIPS SSM: Getting Timely Care, Appointments, and Information | 61 |\n| 9638491574 | SCL HEALTH MEDICAL GROUP - BILLINGS LLC   | CAHPS_GRP_2  | CAHPS for MIPS SSM: How Well Providers Communicate                     | 84 |\n| 9638491574 | SCL HEALTH MEDICAL GROUP - BILLINGS LLC   | CAHPS_GRP_3  | CAHPS for MIPS SSM: Patient's Rating of Provider                       | 82 |\n| 9638491574 | SCL HEALTH MEDICAL GROUP - BILLINGS LLC   | CAHPS_GRP_5  | CAHPS for MIPS SSM: Health Promotion and Education                     | 67 |\n| 9638491574 | SCL HEALTH MEDICAL GROUP - BILLINGS LLC   | CAHPS_GRP_12 | CAHPS for MIPS SSM: Stewardship of Patient Resources                   | 24 |\n| 9830002617 | VIRGINIA MASON MEDICAL CENTER             | CAHPS_GRP_1  | CAHPS for MIPS SSM: Getting Timely Care, Appointments, and Information | 55 |\n| 9830002617 | VIRGINIA MASON MEDICAL CENTER             | CAHPS_GRP_2  | CAHPS for MIPS SSM: How Well Providers Communicate                     | 81 |\n| 9830002617 | VIRGINIA MASON MEDICAL CENTER             | CAHPS_GRP_3  | CAHPS for MIPS SSM: Patient's Rating of Provider                       | 80 |\n| 9830002617 | VIRGINIA MASON MEDICAL CENTER             | CAHPS_GRP_5  | CAHPS for MIPS SSM: Health Promotion and Education                     | 62 |\n| 9830002617 | VIRGINIA MASON MEDICAL CENTER             | CAHPS_GRP_12 | CAHPS for MIPS SSM: Stewardship of Patient Resources                   | 20 |\n| 9830008770 | WASHINGTON UNIVERSITY                     | CAHPS_GRP_1  | CAHPS for MIPS SSM: Getting Timely Care, Appointments, and Information | 65 |\n| 9830008770 | WASHINGTON UNIVERSITY                     | CAHPS_GRP_2  | CAHPS for MIPS SSM: How Well Providers Communicate                     | NA |\n| 9830008770 | WASHINGTON UNIVERSITY                     | CAHPS_GRP_3  | CAHPS for MIPS SSM: Patient's Rating of Provider                       | NA |\n| 9830008770 | WASHINGTON UNIVERSITY                     | CAHPS_GRP_5  | CAHPS for MIPS SSM: Health Promotion and Education                     | 61 |\n| 9830008770 | WASHINGTON UNIVERSITY                     | CAHPS_GRP_12 | CAHPS for MIPS SSM: Stewardship of Patient Resources                   | 28 |\n| 9830093640 | COOPERATIVE HEALTHCARE SERVICES, INC.     | CAHPS_GRP_1  | CAHPS for MIPS SSM: Getting Timely Care, Appointments, and Information | 65 |\n| 9830093640 | COOPERATIVE HEALTHCARE SERVICES, INC.     | CAHPS_GRP_2  | CAHPS for MIPS SSM: How Well Providers Communicate                     | 87 |\n| 9830093640 | COOPERATIVE HEALTHCARE SERVICES, INC.     | CAHPS_GRP_3  | CAHPS for MIPS SSM: Patient's Rating of Provider                       | 78 |\n| 9830093640 | COOPERATIVE HEALTHCARE SERVICES, INC.     | CAHPS_GRP_5  | CAHPS for MIPS SSM: Health Promotion and Education                     | 52 |\n| 9830093640 | COOPERATIVE HEALTHCARE SERVICES, INC.     | CAHPS_GRP_12 | CAHPS for MIPS SSM: Stewardship of Patient Resources                   | 25 |\n| 9830094515 | SUTTER VALLEY MEDICAL FOUNDATION          | CAHPS_GRP_1  | CAHPS for MIPS SSM: Getting Timely Care, Appointments, and Information | 60 |\n| 9830094515 | SUTTER VALLEY MEDICAL FOUNDATION          | CAHPS_GRP_2  | CAHPS for MIPS SSM: How Well Providers Communicate                     | NA |\n| 9830094515 | SUTTER VALLEY MEDICAL FOUNDATION          | CAHPS_GRP_3  | CAHPS for MIPS SSM: Patient's Rating of Provider                       | 88 |\n| 9830094515 | SUTTER VALLEY MEDICAL FOUNDATION          | CAHPS_GRP_5  | CAHPS for MIPS SSM: Health Promotion and Education                     | 55 |\n| 9830094515 | SUTTER VALLEY MEDICAL FOUNDATION          | CAHPS_GRP_12 | CAHPS for MIPS SSM: Stewardship of Patient Resources                   | 24 |\n| 9931011434 | PATIENT FIRST RICHMOND MEDICAL GROUP PLLC | CAHPS_GRP_1  | CAHPS for MIPS SSM: Getting Timely Care, Appointments, and Information | 80 |\n| 9931011434 | PATIENT FIRST RICHMOND MEDICAL GROUP PLLC | CAHPS_GRP_2  | CAHPS for MIPS SSM: How Well Providers Communicate                     | NA |\n| 9931011434 | PATIENT FIRST RICHMOND MEDICAL GROUP PLLC | CAHPS_GRP_3  | CAHPS for MIPS SSM: Patient's Rating of Provider                       | NA |\n| 9931011434 | PATIENT FIRST RICHMOND MEDICAL GROUP PLLC | CAHPS_GRP_5  | CAHPS for MIPS SSM: Health Promotion and Education                     | 45 |\n| 9931011434 | PATIENT FIRST RICHMOND MEDICAL GROUP PLLC | CAHPS_GRP_12 | CAHPS for MIPS SSM: Stewardship of Patient Resources                   | 19 |\n\n",
            "text/latex": "A tibble: 500 × 5\n\\begin{tabular}{lllll}\n org\\_pac\\_id & org\\_nm & measure\\_cd & measure\\_title & prf\\_rate\\\\\n <chr> & <chr> & <chr> & <chr> & <dbl>\\\\\n\\hline\n\t 0446157747 & USC CARE MEDICAL GROUP INC           & CAHPS\\_GRP\\_1  & CAHPS for MIPS SSM: Getting Timely Care, Appointments, and Information & 63\\\\\n\t 0446157747 & USC CARE MEDICAL GROUP INC           & CAHPS\\_GRP\\_2  & CAHPS for MIPS SSM: How Well Providers Communicate                     & 87\\\\\n\t 0446157747 & USC CARE MEDICAL GROUP INC           & CAHPS\\_GRP\\_3  & CAHPS for MIPS SSM: Patient's Rating of Provider                       & 86\\\\\n\t 0446157747 & USC CARE MEDICAL GROUP INC           & CAHPS\\_GRP\\_5  & CAHPS for MIPS SSM: Health Promotion and Education                     & 57\\\\\n\t 0446157747 & USC CARE MEDICAL GROUP INC           & CAHPS\\_GRP\\_8  & CAHPS for MIPS SSM: Courteous and Helpful Office Staff                 & 85\\\\\n\t 0446157747 & USC CARE MEDICAL GROUP INC           & CAHPS\\_GRP\\_12 & CAHPS for MIPS SSM: Stewardship of Patient Resources                   & 24\\\\\n\t 0446162697 & ASSOCIATION OF UNIVERSITY PHYSICIANS & CAHPS\\_GRP\\_1  & CAHPS for MIPS SSM: Getting Timely Care, Appointments, and Information & 59\\\\\n\t 0446162697 & ASSOCIATION OF UNIVERSITY PHYSICIANS & CAHPS\\_GRP\\_2  & CAHPS for MIPS SSM: How Well Providers Communicate                     & 85\\\\\n\t 0446162697 & ASSOCIATION OF UNIVERSITY PHYSICIANS & CAHPS\\_GRP\\_3  & CAHPS for MIPS SSM: Patient's Rating of Provider                       & 83\\\\\n\t 0446162697 & ASSOCIATION OF UNIVERSITY PHYSICIANS & CAHPS\\_GRP\\_5  & CAHPS for MIPS SSM: Health Promotion and Education                     & 63\\\\\n\t 0446162697 & ASSOCIATION OF UNIVERSITY PHYSICIANS & CAHPS\\_GRP\\_8  & CAHPS for MIPS SSM: Courteous and Helpful Office Staff                 & 88\\\\\n\t 0446162697 & ASSOCIATION OF UNIVERSITY PHYSICIANS & CAHPS\\_GRP\\_12 & CAHPS for MIPS SSM: Stewardship of Patient Resources                   & 22\\\\\n\t 0547164295 & BEAVER MEDICAL GROUP PC              & CAHPS\\_GRP\\_1  & CAHPS for MIPS SSM: Getting Timely Care, Appointments, and Information & 49\\\\\n\t 0547164295 & BEAVER MEDICAL GROUP PC              & CAHPS\\_GRP\\_2  & CAHPS for MIPS SSM: How Well Providers Communicate                     & NA\\\\\n\t 0547164295 & BEAVER MEDICAL GROUP PC              & CAHPS\\_GRP\\_3  & CAHPS for MIPS SSM: Patient's Rating of Provider                       & 75\\\\\n\t 0547164295 & BEAVER MEDICAL GROUP PC              & CAHPS\\_GRP\\_5  & CAHPS for MIPS SSM: Health Promotion and Education                     & 44\\\\\n\t 0547164295 & BEAVER MEDICAL GROUP PC              & CAHPS\\_GRP\\_8  & CAHPS for MIPS SSM: Courteous and Helpful Office Staff                 & 73\\\\\n\t 0547164295 & BEAVER MEDICAL GROUP PC              & CAHPS\\_GRP\\_12 & CAHPS for MIPS SSM: Stewardship of Patient Resources                   & 12\\\\\n\t 0749333730 & CAPE PHYSICIANS ASSOCIATES PA        & CAHPS\\_GRP\\_1  & CAHPS for MIPS SSM: Getting Timely Care, Appointments, and Information & 67\\\\\n\t 0749333730 & CAPE PHYSICIANS ASSOCIATES PA        & CAHPS\\_GRP\\_2  & CAHPS for MIPS SSM: How Well Providers Communicate                     & 84\\\\\n\t 0749333730 & CAPE PHYSICIANS ASSOCIATES PA        & CAHPS\\_GRP\\_3  & CAHPS for MIPS SSM: Patient's Rating of Provider                       & 85\\\\\n\t 0749333730 & CAPE PHYSICIANS ASSOCIATES PA        & CAHPS\\_GRP\\_5  & CAHPS for MIPS SSM: Health Promotion and Education                     & 65\\\\\n\t 0749333730 & CAPE PHYSICIANS ASSOCIATES PA        & CAHPS\\_GRP\\_8  & CAHPS for MIPS SSM: Courteous and Helpful Office Staff                 & 82\\\\\n\t 0749333730 & CAPE PHYSICIANS ASSOCIATES PA        & CAHPS\\_GRP\\_12 & CAHPS for MIPS SSM: Stewardship of Patient Resources                   & 24\\\\\n\t 0840104360 & ALLIANCE PHYSICIANS INC              & CAHPS\\_GRP\\_1  & CAHPS for MIPS SSM: Getting Timely Care, Appointments, and Information & 66\\\\\n\t 0840104360 & ALLIANCE PHYSICIANS INC              & CAHPS\\_GRP\\_2  & CAHPS for MIPS SSM: How Well Providers Communicate                     & 87\\\\\n\t 0840104360 & ALLIANCE PHYSICIANS INC              & CAHPS\\_GRP\\_3  & CAHPS for MIPS SSM: Patient's Rating of Provider                       & 87\\\\\n\t 0840104360 & ALLIANCE PHYSICIANS INC              & CAHPS\\_GRP\\_5  & CAHPS for MIPS SSM: Health Promotion and Education                     & 64\\\\\n\t 0840104360 & ALLIANCE PHYSICIANS INC              & CAHPS\\_GRP\\_8  & CAHPS for MIPS SSM: Courteous and Helpful Office Staff                 & 87\\\\\n\t 0840104360 & ALLIANCE PHYSICIANS INC              & CAHPS\\_GRP\\_12 & CAHPS for MIPS SSM: Stewardship of Patient Resources                   & 28\\\\\n\t ⋮ & ⋮ & ⋮ & ⋮ & ⋮\\\\\n\t 9638491574 & SCL HEALTH MEDICAL GROUP - BILLINGS LLC   & CAHPS\\_GRP\\_1  & CAHPS for MIPS SSM: Getting Timely Care, Appointments, and Information & 61\\\\\n\t 9638491574 & SCL HEALTH MEDICAL GROUP - BILLINGS LLC   & CAHPS\\_GRP\\_2  & CAHPS for MIPS SSM: How Well Providers Communicate                     & 84\\\\\n\t 9638491574 & SCL HEALTH MEDICAL GROUP - BILLINGS LLC   & CAHPS\\_GRP\\_3  & CAHPS for MIPS SSM: Patient's Rating of Provider                       & 82\\\\\n\t 9638491574 & SCL HEALTH MEDICAL GROUP - BILLINGS LLC   & CAHPS\\_GRP\\_5  & CAHPS for MIPS SSM: Health Promotion and Education                     & 67\\\\\n\t 9638491574 & SCL HEALTH MEDICAL GROUP - BILLINGS LLC   & CAHPS\\_GRP\\_12 & CAHPS for MIPS SSM: Stewardship of Patient Resources                   & 24\\\\\n\t 9830002617 & VIRGINIA MASON MEDICAL CENTER             & CAHPS\\_GRP\\_1  & CAHPS for MIPS SSM: Getting Timely Care, Appointments, and Information & 55\\\\\n\t 9830002617 & VIRGINIA MASON MEDICAL CENTER             & CAHPS\\_GRP\\_2  & CAHPS for MIPS SSM: How Well Providers Communicate                     & 81\\\\\n\t 9830002617 & VIRGINIA MASON MEDICAL CENTER             & CAHPS\\_GRP\\_3  & CAHPS for MIPS SSM: Patient's Rating of Provider                       & 80\\\\\n\t 9830002617 & VIRGINIA MASON MEDICAL CENTER             & CAHPS\\_GRP\\_5  & CAHPS for MIPS SSM: Health Promotion and Education                     & 62\\\\\n\t 9830002617 & VIRGINIA MASON MEDICAL CENTER             & CAHPS\\_GRP\\_12 & CAHPS for MIPS SSM: Stewardship of Patient Resources                   & 20\\\\\n\t 9830008770 & WASHINGTON UNIVERSITY                     & CAHPS\\_GRP\\_1  & CAHPS for MIPS SSM: Getting Timely Care, Appointments, and Information & 65\\\\\n\t 9830008770 & WASHINGTON UNIVERSITY                     & CAHPS\\_GRP\\_2  & CAHPS for MIPS SSM: How Well Providers Communicate                     & NA\\\\\n\t 9830008770 & WASHINGTON UNIVERSITY                     & CAHPS\\_GRP\\_3  & CAHPS for MIPS SSM: Patient's Rating of Provider                       & NA\\\\\n\t 9830008770 & WASHINGTON UNIVERSITY                     & CAHPS\\_GRP\\_5  & CAHPS for MIPS SSM: Health Promotion and Education                     & 61\\\\\n\t 9830008770 & WASHINGTON UNIVERSITY                     & CAHPS\\_GRP\\_12 & CAHPS for MIPS SSM: Stewardship of Patient Resources                   & 28\\\\\n\t 9830093640 & COOPERATIVE HEALTHCARE SERVICES, INC.     & CAHPS\\_GRP\\_1  & CAHPS for MIPS SSM: Getting Timely Care, Appointments, and Information & 65\\\\\n\t 9830093640 & COOPERATIVE HEALTHCARE SERVICES, INC.     & CAHPS\\_GRP\\_2  & CAHPS for MIPS SSM: How Well Providers Communicate                     & 87\\\\\n\t 9830093640 & COOPERATIVE HEALTHCARE SERVICES, INC.     & CAHPS\\_GRP\\_3  & CAHPS for MIPS SSM: Patient's Rating of Provider                       & 78\\\\\n\t 9830093640 & COOPERATIVE HEALTHCARE SERVICES, INC.     & CAHPS\\_GRP\\_5  & CAHPS for MIPS SSM: Health Promotion and Education                     & 52\\\\\n\t 9830093640 & COOPERATIVE HEALTHCARE SERVICES, INC.     & CAHPS\\_GRP\\_12 & CAHPS for MIPS SSM: Stewardship of Patient Resources                   & 25\\\\\n\t 9830094515 & SUTTER VALLEY MEDICAL FOUNDATION          & CAHPS\\_GRP\\_1  & CAHPS for MIPS SSM: Getting Timely Care, Appointments, and Information & 60\\\\\n\t 9830094515 & SUTTER VALLEY MEDICAL FOUNDATION          & CAHPS\\_GRP\\_2  & CAHPS for MIPS SSM: How Well Providers Communicate                     & NA\\\\\n\t 9830094515 & SUTTER VALLEY MEDICAL FOUNDATION          & CAHPS\\_GRP\\_3  & CAHPS for MIPS SSM: Patient's Rating of Provider                       & 88\\\\\n\t 9830094515 & SUTTER VALLEY MEDICAL FOUNDATION          & CAHPS\\_GRP\\_5  & CAHPS for MIPS SSM: Health Promotion and Education                     & 55\\\\\n\t 9830094515 & SUTTER VALLEY MEDICAL FOUNDATION          & CAHPS\\_GRP\\_12 & CAHPS for MIPS SSM: Stewardship of Patient Resources                   & 24\\\\\n\t 9931011434 & PATIENT FIRST RICHMOND MEDICAL GROUP PLLC & CAHPS\\_GRP\\_1  & CAHPS for MIPS SSM: Getting Timely Care, Appointments, and Information & 80\\\\\n\t 9931011434 & PATIENT FIRST RICHMOND MEDICAL GROUP PLLC & CAHPS\\_GRP\\_2  & CAHPS for MIPS SSM: How Well Providers Communicate                     & NA\\\\\n\t 9931011434 & PATIENT FIRST RICHMOND MEDICAL GROUP PLLC & CAHPS\\_GRP\\_3  & CAHPS for MIPS SSM: Patient's Rating of Provider                       & NA\\\\\n\t 9931011434 & PATIENT FIRST RICHMOND MEDICAL GROUP PLLC & CAHPS\\_GRP\\_5  & CAHPS for MIPS SSM: Health Promotion and Education                     & 45\\\\\n\t 9931011434 & PATIENT FIRST RICHMOND MEDICAL GROUP PLLC & CAHPS\\_GRP\\_12 & CAHPS for MIPS SSM: Stewardship of Patient Resources                   & 19\\\\\n\\end{tabular}\n",
            "text/plain": [
              "    org_pac_id org_nm                                    measure_cd  \n",
              "1   0446157747 USC CARE MEDICAL GROUP INC                CAHPS_GRP_1 \n",
              "2   0446157747 USC CARE MEDICAL GROUP INC                CAHPS_GRP_2 \n",
              "3   0446157747 USC CARE MEDICAL GROUP INC                CAHPS_GRP_3 \n",
              "4   0446157747 USC CARE MEDICAL GROUP INC                CAHPS_GRP_5 \n",
              "5   0446157747 USC CARE MEDICAL GROUP INC                CAHPS_GRP_8 \n",
              "6   0446157747 USC CARE MEDICAL GROUP INC                CAHPS_GRP_12\n",
              "7   0446162697 ASSOCIATION OF UNIVERSITY PHYSICIANS      CAHPS_GRP_1 \n",
              "8   0446162697 ASSOCIATION OF UNIVERSITY PHYSICIANS      CAHPS_GRP_2 \n",
              "9   0446162697 ASSOCIATION OF UNIVERSITY PHYSICIANS      CAHPS_GRP_3 \n",
              "10  0446162697 ASSOCIATION OF UNIVERSITY PHYSICIANS      CAHPS_GRP_5 \n",
              "11  0446162697 ASSOCIATION OF UNIVERSITY PHYSICIANS      CAHPS_GRP_8 \n",
              "12  0446162697 ASSOCIATION OF UNIVERSITY PHYSICIANS      CAHPS_GRP_12\n",
              "13  0547164295 BEAVER MEDICAL GROUP PC                   CAHPS_GRP_1 \n",
              "14  0547164295 BEAVER MEDICAL GROUP PC                   CAHPS_GRP_2 \n",
              "15  0547164295 BEAVER MEDICAL GROUP PC                   CAHPS_GRP_3 \n",
              "16  0547164295 BEAVER MEDICAL GROUP PC                   CAHPS_GRP_5 \n",
              "17  0547164295 BEAVER MEDICAL GROUP PC                   CAHPS_GRP_8 \n",
              "18  0547164295 BEAVER MEDICAL GROUP PC                   CAHPS_GRP_12\n",
              "19  0749333730 CAPE PHYSICIANS ASSOCIATES PA             CAHPS_GRP_1 \n",
              "20  0749333730 CAPE PHYSICIANS ASSOCIATES PA             CAHPS_GRP_2 \n",
              "21  0749333730 CAPE PHYSICIANS ASSOCIATES PA             CAHPS_GRP_3 \n",
              "22  0749333730 CAPE PHYSICIANS ASSOCIATES PA             CAHPS_GRP_5 \n",
              "23  0749333730 CAPE PHYSICIANS ASSOCIATES PA             CAHPS_GRP_8 \n",
              "24  0749333730 CAPE PHYSICIANS ASSOCIATES PA             CAHPS_GRP_12\n",
              "25  0840104360 ALLIANCE PHYSICIANS INC                   CAHPS_GRP_1 \n",
              "26  0840104360 ALLIANCE PHYSICIANS INC                   CAHPS_GRP_2 \n",
              "27  0840104360 ALLIANCE PHYSICIANS INC                   CAHPS_GRP_3 \n",
              "28  0840104360 ALLIANCE PHYSICIANS INC                   CAHPS_GRP_5 \n",
              "29  0840104360 ALLIANCE PHYSICIANS INC                   CAHPS_GRP_8 \n",
              "30  0840104360 ALLIANCE PHYSICIANS INC                   CAHPS_GRP_12\n",
              "⋮   ⋮          ⋮                                         ⋮           \n",
              "471 9638491574 SCL HEALTH MEDICAL GROUP - BILLINGS LLC   CAHPS_GRP_1 \n",
              "472 9638491574 SCL HEALTH MEDICAL GROUP - BILLINGS LLC   CAHPS_GRP_2 \n",
              "473 9638491574 SCL HEALTH MEDICAL GROUP - BILLINGS LLC   CAHPS_GRP_3 \n",
              "474 9638491574 SCL HEALTH MEDICAL GROUP - BILLINGS LLC   CAHPS_GRP_5 \n",
              "475 9638491574 SCL HEALTH MEDICAL GROUP - BILLINGS LLC   CAHPS_GRP_12\n",
              "476 9830002617 VIRGINIA MASON MEDICAL CENTER             CAHPS_GRP_1 \n",
              "477 9830002617 VIRGINIA MASON MEDICAL CENTER             CAHPS_GRP_2 \n",
              "478 9830002617 VIRGINIA MASON MEDICAL CENTER             CAHPS_GRP_3 \n",
              "479 9830002617 VIRGINIA MASON MEDICAL CENTER             CAHPS_GRP_5 \n",
              "480 9830002617 VIRGINIA MASON MEDICAL CENTER             CAHPS_GRP_12\n",
              "481 9830008770 WASHINGTON UNIVERSITY                     CAHPS_GRP_1 \n",
              "482 9830008770 WASHINGTON UNIVERSITY                     CAHPS_GRP_2 \n",
              "483 9830008770 WASHINGTON UNIVERSITY                     CAHPS_GRP_3 \n",
              "484 9830008770 WASHINGTON UNIVERSITY                     CAHPS_GRP_5 \n",
              "485 9830008770 WASHINGTON UNIVERSITY                     CAHPS_GRP_12\n",
              "486 9830093640 COOPERATIVE HEALTHCARE SERVICES, INC.     CAHPS_GRP_1 \n",
              "487 9830093640 COOPERATIVE HEALTHCARE SERVICES, INC.     CAHPS_GRP_2 \n",
              "488 9830093640 COOPERATIVE HEALTHCARE SERVICES, INC.     CAHPS_GRP_3 \n",
              "489 9830093640 COOPERATIVE HEALTHCARE SERVICES, INC.     CAHPS_GRP_5 \n",
              "490 9830093640 COOPERATIVE HEALTHCARE SERVICES, INC.     CAHPS_GRP_12\n",
              "491 9830094515 SUTTER VALLEY MEDICAL FOUNDATION          CAHPS_GRP_1 \n",
              "492 9830094515 SUTTER VALLEY MEDICAL FOUNDATION          CAHPS_GRP_2 \n",
              "493 9830094515 SUTTER VALLEY MEDICAL FOUNDATION          CAHPS_GRP_3 \n",
              "494 9830094515 SUTTER VALLEY MEDICAL FOUNDATION          CAHPS_GRP_5 \n",
              "495 9830094515 SUTTER VALLEY MEDICAL FOUNDATION          CAHPS_GRP_12\n",
              "496 9931011434 PATIENT FIRST RICHMOND MEDICAL GROUP PLLC CAHPS_GRP_1 \n",
              "497 9931011434 PATIENT FIRST RICHMOND MEDICAL GROUP PLLC CAHPS_GRP_2 \n",
              "498 9931011434 PATIENT FIRST RICHMOND MEDICAL GROUP PLLC CAHPS_GRP_3 \n",
              "499 9931011434 PATIENT FIRST RICHMOND MEDICAL GROUP PLLC CAHPS_GRP_5 \n",
              "500 9931011434 PATIENT FIRST RICHMOND MEDICAL GROUP PLLC CAHPS_GRP_12\n",
              "    measure_title                                                         \n",
              "1   CAHPS for MIPS SSM: Getting Timely Care, Appointments, and Information\n",
              "2   CAHPS for MIPS SSM: How Well Providers Communicate                    \n",
              "3   CAHPS for MIPS SSM: Patient's Rating of Provider                      \n",
              "4   CAHPS for MIPS SSM: Health Promotion and Education                    \n",
              "5   CAHPS for MIPS SSM: Courteous and Helpful Office Staff                \n",
              "6   CAHPS for MIPS SSM: Stewardship of Patient Resources                  \n",
              "7   CAHPS for MIPS SSM: Getting Timely Care, Appointments, and Information\n",
              "8   CAHPS for MIPS SSM: How Well Providers Communicate                    \n",
              "9   CAHPS for MIPS SSM: Patient's Rating of Provider                      \n",
              "10  CAHPS for MIPS SSM: Health Promotion and Education                    \n",
              "11  CAHPS for MIPS SSM: Courteous and Helpful Office Staff                \n",
              "12  CAHPS for MIPS SSM: Stewardship of Patient Resources                  \n",
              "13  CAHPS for MIPS SSM: Getting Timely Care, Appointments, and Information\n",
              "14  CAHPS for MIPS SSM: How Well Providers Communicate                    \n",
              "15  CAHPS for MIPS SSM: Patient's Rating of Provider                      \n",
              "16  CAHPS for MIPS SSM: Health Promotion and Education                    \n",
              "17  CAHPS for MIPS SSM: Courteous and Helpful Office Staff                \n",
              "18  CAHPS for MIPS SSM: Stewardship of Patient Resources                  \n",
              "19  CAHPS for MIPS SSM: Getting Timely Care, Appointments, and Information\n",
              "20  CAHPS for MIPS SSM: How Well Providers Communicate                    \n",
              "21  CAHPS for MIPS SSM: Patient's Rating of Provider                      \n",
              "22  CAHPS for MIPS SSM: Health Promotion and Education                    \n",
              "23  CAHPS for MIPS SSM: Courteous and Helpful Office Staff                \n",
              "24  CAHPS for MIPS SSM: Stewardship of Patient Resources                  \n",
              "25  CAHPS for MIPS SSM: Getting Timely Care, Appointments, and Information\n",
              "26  CAHPS for MIPS SSM: How Well Providers Communicate                    \n",
              "27  CAHPS for MIPS SSM: Patient's Rating of Provider                      \n",
              "28  CAHPS for MIPS SSM: Health Promotion and Education                    \n",
              "29  CAHPS for MIPS SSM: Courteous and Helpful Office Staff                \n",
              "30  CAHPS for MIPS SSM: Stewardship of Patient Resources                  \n",
              "⋮   ⋮                                                                     \n",
              "471 CAHPS for MIPS SSM: Getting Timely Care, Appointments, and Information\n",
              "472 CAHPS for MIPS SSM: How Well Providers Communicate                    \n",
              "473 CAHPS for MIPS SSM: Patient's Rating of Provider                      \n",
              "474 CAHPS for MIPS SSM: Health Promotion and Education                    \n",
              "475 CAHPS for MIPS SSM: Stewardship of Patient Resources                  \n",
              "476 CAHPS for MIPS SSM: Getting Timely Care, Appointments, and Information\n",
              "477 CAHPS for MIPS SSM: How Well Providers Communicate                    \n",
              "478 CAHPS for MIPS SSM: Patient's Rating of Provider                      \n",
              "479 CAHPS for MIPS SSM: Health Promotion and Education                    \n",
              "480 CAHPS for MIPS SSM: Stewardship of Patient Resources                  \n",
              "481 CAHPS for MIPS SSM: Getting Timely Care, Appointments, and Information\n",
              "482 CAHPS for MIPS SSM: How Well Providers Communicate                    \n",
              "483 CAHPS for MIPS SSM: Patient's Rating of Provider                      \n",
              "484 CAHPS for MIPS SSM: Health Promotion and Education                    \n",
              "485 CAHPS for MIPS SSM: Stewardship of Patient Resources                  \n",
              "486 CAHPS for MIPS SSM: Getting Timely Care, Appointments, and Information\n",
              "487 CAHPS for MIPS SSM: How Well Providers Communicate                    \n",
              "488 CAHPS for MIPS SSM: Patient's Rating of Provider                      \n",
              "489 CAHPS for MIPS SSM: Health Promotion and Education                    \n",
              "490 CAHPS for MIPS SSM: Stewardship of Patient Resources                  \n",
              "491 CAHPS for MIPS SSM: Getting Timely Care, Appointments, and Information\n",
              "492 CAHPS for MIPS SSM: How Well Providers Communicate                    \n",
              "493 CAHPS for MIPS SSM: Patient's Rating of Provider                      \n",
              "494 CAHPS for MIPS SSM: Health Promotion and Education                    \n",
              "495 CAHPS for MIPS SSM: Stewardship of Patient Resources                  \n",
              "496 CAHPS for MIPS SSM: Getting Timely Care, Appointments, and Information\n",
              "497 CAHPS for MIPS SSM: How Well Providers Communicate                    \n",
              "498 CAHPS for MIPS SSM: Patient's Rating of Provider                      \n",
              "499 CAHPS for MIPS SSM: Health Promotion and Education                    \n",
              "500 CAHPS for MIPS SSM: Stewardship of Patient Resources                  \n",
              "    prf_rate\n",
              "1   63      \n",
              "2   87      \n",
              "3   86      \n",
              "4   57      \n",
              "5   85      \n",
              "6   24      \n",
              "7   59      \n",
              "8   85      \n",
              "9   83      \n",
              "10  63      \n",
              "11  88      \n",
              "12  22      \n",
              "13  49      \n",
              "14  NA      \n",
              "15  75      \n",
              "16  44      \n",
              "17  73      \n",
              "18  12      \n",
              "19  67      \n",
              "20  84      \n",
              "21  85      \n",
              "22  65      \n",
              "23  82      \n",
              "24  24      \n",
              "25  66      \n",
              "26  87      \n",
              "27  87      \n",
              "28  64      \n",
              "29  87      \n",
              "30  28      \n",
              "⋮   ⋮       \n",
              "471 61      \n",
              "472 84      \n",
              "473 82      \n",
              "474 67      \n",
              "475 24      \n",
              "476 55      \n",
              "477 81      \n",
              "478 80      \n",
              "479 62      \n",
              "480 20      \n",
              "481 65      \n",
              "482 NA      \n",
              "483 NA      \n",
              "484 61      \n",
              "485 28      \n",
              "486 65      \n",
              "487 87      \n",
              "488 78      \n",
              "489 52      \n",
              "490 25      \n",
              "491 60      \n",
              "492 NA      \n",
              "493 88      \n",
              "494 55      \n",
              "495 24      \n",
              "496 80      \n",
              "497 NA      \n",
              "498 NA      \n",
              "499 45      \n",
              "500 19      "
            ]
          },
          "metadata": {}
        }
      ]
    },
    {
      "cell_type": "markdown",
      "source": [
        "We can see the complete set of values for `measure_cd` and `measure_title` by using `distinct()`:"
      ],
      "metadata": {
        "id": "uDjbD68Sby29"
      }
    },
    {
      "cell_type": "code",
      "source": [
        "cms_patient_experience |>\n",
        "  distinct(measure_cd, measure_title)"
      ],
      "metadata": {
        "colab": {
          "base_uri": "https://localhost:8080/",
          "height": 286
        },
        "id": "QsODY6mTb8HU",
        "outputId": "598b7198-834d-434f-b559-1631beba8da8"
      },
      "execution_count": 3,
      "outputs": [
        {
          "output_type": "display_data",
          "data": {
            "text/html": [
              "<table class=\"dataframe\">\n",
              "<caption>A tibble: 6 × 2</caption>\n",
              "<thead>\n",
              "\t<tr><th scope=col>measure_cd</th><th scope=col>measure_title</th></tr>\n",
              "\t<tr><th scope=col>&lt;chr&gt;</th><th scope=col>&lt;chr&gt;</th></tr>\n",
              "</thead>\n",
              "<tbody>\n",
              "\t<tr><td>CAHPS_GRP_1 </td><td>CAHPS for MIPS SSM: Getting Timely Care, Appointments, and Information</td></tr>\n",
              "\t<tr><td>CAHPS_GRP_2 </td><td>CAHPS for MIPS SSM: How Well Providers Communicate                    </td></tr>\n",
              "\t<tr><td>CAHPS_GRP_3 </td><td>CAHPS for MIPS SSM: Patient's Rating of Provider                      </td></tr>\n",
              "\t<tr><td>CAHPS_GRP_5 </td><td>CAHPS for MIPS SSM: Health Promotion and Education                    </td></tr>\n",
              "\t<tr><td>CAHPS_GRP_8 </td><td>CAHPS for MIPS SSM: Courteous and Helpful Office Staff                </td></tr>\n",
              "\t<tr><td>CAHPS_GRP_12</td><td>CAHPS for MIPS SSM: Stewardship of Patient Resources                  </td></tr>\n",
              "</tbody>\n",
              "</table>\n"
            ],
            "text/markdown": "\nA tibble: 6 × 2\n\n| measure_cd &lt;chr&gt; | measure_title &lt;chr&gt; |\n|---|---|\n| CAHPS_GRP_1  | CAHPS for MIPS SSM: Getting Timely Care, Appointments, and Information |\n| CAHPS_GRP_2  | CAHPS for MIPS SSM: How Well Providers Communicate                     |\n| CAHPS_GRP_3  | CAHPS for MIPS SSM: Patient's Rating of Provider                       |\n| CAHPS_GRP_5  | CAHPS for MIPS SSM: Health Promotion and Education                     |\n| CAHPS_GRP_8  | CAHPS for MIPS SSM: Courteous and Helpful Office Staff                 |\n| CAHPS_GRP_12 | CAHPS for MIPS SSM: Stewardship of Patient Resources                   |\n\n",
            "text/latex": "A tibble: 6 × 2\n\\begin{tabular}{ll}\n measure\\_cd & measure\\_title\\\\\n <chr> & <chr>\\\\\n\\hline\n\t CAHPS\\_GRP\\_1  & CAHPS for MIPS SSM: Getting Timely Care, Appointments, and Information\\\\\n\t CAHPS\\_GRP\\_2  & CAHPS for MIPS SSM: How Well Providers Communicate                    \\\\\n\t CAHPS\\_GRP\\_3  & CAHPS for MIPS SSM: Patient's Rating of Provider                      \\\\\n\t CAHPS\\_GRP\\_5  & CAHPS for MIPS SSM: Health Promotion and Education                    \\\\\n\t CAHPS\\_GRP\\_8  & CAHPS for MIPS SSM: Courteous and Helpful Office Staff                \\\\\n\t CAHPS\\_GRP\\_12 & CAHPS for MIPS SSM: Stewardship of Patient Resources                  \\\\\n\\end{tabular}\n",
            "text/plain": [
              "  measure_cd  \n",
              "1 CAHPS_GRP_1 \n",
              "2 CAHPS_GRP_2 \n",
              "3 CAHPS_GRP_3 \n",
              "4 CAHPS_GRP_5 \n",
              "5 CAHPS_GRP_8 \n",
              "6 CAHPS_GRP_12\n",
              "  measure_title                                                         \n",
              "1 CAHPS for MIPS SSM: Getting Timely Care, Appointments, and Information\n",
              "2 CAHPS for MIPS SSM: How Well Providers Communicate                    \n",
              "3 CAHPS for MIPS SSM: Patient's Rating of Provider                      \n",
              "4 CAHPS for MIPS SSM: Health Promotion and Education                    \n",
              "5 CAHPS for MIPS SSM: Courteous and Helpful Office Staff                \n",
              "6 CAHPS for MIPS SSM: Stewardship of Patient Resources                  "
            ]
          },
          "metadata": {}
        }
      ]
    },
    {
      "cell_type": "markdown",
      "source": [
        "Neither of these columns will make particularly great variable names: `measure_cd` doesn't hint at the meaning of the variable and `measure_title` is a long sentence containing spaces."
      ],
      "metadata": {
        "id": "xX4yv8ercL_D"
      }
    },
    {
      "cell_type": "markdown",
      "source": [
        "We'll use `measure_cd` as the source for out new column names for now"
      ],
      "metadata": {
        "id": "3IKHSBBeccdd"
      }
    },
    {
      "cell_type": "markdown",
      "source": [
        "In a real analysis you might want to create your own variable names that are both short and meaningful."
      ],
      "metadata": {
        "id": "UvMwFKcucnUd"
      }
    },
    {
      "cell_type": "markdown",
      "source": [
        "`pivot_wider()` has the opposite interface to `pivot_longer()`:\n",
        "> instead of choosing new column names, we need to provide the existing columns that define the values (`values_from`) and the column name (`names_from`)"
      ],
      "metadata": {
        "id": "Ax32TLbNdBmd"
      }
    },
    {
      "cell_type": "code",
      "source": [
        "cms_patient_experience |>\n",
        "  pivot_wider(\n",
        "    names_from = measure_cd,\n",
        "    values_from = prf_rate\n",
        "  )"
      ],
      "metadata": {
        "colab": {
          "base_uri": "https://localhost:8080/",
          "height": 1000
        },
        "id": "dNXRdgsFcu28",
        "outputId": "4c97aa16-d4c6-4408-95f1-9ad7b2189aa8"
      },
      "execution_count": 4,
      "outputs": [
        {
          "output_type": "display_data",
          "data": {
            "text/html": [
              "<table class=\"dataframe\">\n",
              "<caption>A tibble: 500 × 9</caption>\n",
              "<thead>\n",
              "\t<tr><th scope=col>org_pac_id</th><th scope=col>org_nm</th><th scope=col>measure_title</th><th scope=col>CAHPS_GRP_1</th><th scope=col>CAHPS_GRP_2</th><th scope=col>CAHPS_GRP_3</th><th scope=col>CAHPS_GRP_5</th><th scope=col>CAHPS_GRP_8</th><th scope=col>CAHPS_GRP_12</th></tr>\n",
              "\t<tr><th scope=col>&lt;chr&gt;</th><th scope=col>&lt;chr&gt;</th><th scope=col>&lt;chr&gt;</th><th scope=col>&lt;dbl&gt;</th><th scope=col>&lt;dbl&gt;</th><th scope=col>&lt;dbl&gt;</th><th scope=col>&lt;dbl&gt;</th><th scope=col>&lt;dbl&gt;</th><th scope=col>&lt;dbl&gt;</th></tr>\n",
              "</thead>\n",
              "<tbody>\n",
              "\t<tr><td>0446157747</td><td>USC CARE MEDICAL GROUP INC          </td><td>CAHPS for MIPS SSM: Getting Timely Care, Appointments, and Information</td><td>63</td><td>NA</td><td>NA</td><td>NA</td><td>NA</td><td>NA</td></tr>\n",
              "\t<tr><td>0446157747</td><td>USC CARE MEDICAL GROUP INC          </td><td>CAHPS for MIPS SSM: How Well Providers Communicate                    </td><td>NA</td><td>87</td><td>NA</td><td>NA</td><td>NA</td><td>NA</td></tr>\n",
              "\t<tr><td>0446157747</td><td>USC CARE MEDICAL GROUP INC          </td><td>CAHPS for MIPS SSM: Patient's Rating of Provider                      </td><td>NA</td><td>NA</td><td>86</td><td>NA</td><td>NA</td><td>NA</td></tr>\n",
              "\t<tr><td>0446157747</td><td>USC CARE MEDICAL GROUP INC          </td><td>CAHPS for MIPS SSM: Health Promotion and Education                    </td><td>NA</td><td>NA</td><td>NA</td><td>57</td><td>NA</td><td>NA</td></tr>\n",
              "\t<tr><td>0446157747</td><td>USC CARE MEDICAL GROUP INC          </td><td>CAHPS for MIPS SSM: Courteous and Helpful Office Staff                </td><td>NA</td><td>NA</td><td>NA</td><td>NA</td><td>85</td><td>NA</td></tr>\n",
              "\t<tr><td>0446157747</td><td>USC CARE MEDICAL GROUP INC          </td><td>CAHPS for MIPS SSM: Stewardship of Patient Resources                  </td><td>NA</td><td>NA</td><td>NA</td><td>NA</td><td>NA</td><td>24</td></tr>\n",
              "\t<tr><td>0446162697</td><td>ASSOCIATION OF UNIVERSITY PHYSICIANS</td><td>CAHPS for MIPS SSM: Getting Timely Care, Appointments, and Information</td><td>59</td><td>NA</td><td>NA</td><td>NA</td><td>NA</td><td>NA</td></tr>\n",
              "\t<tr><td>0446162697</td><td>ASSOCIATION OF UNIVERSITY PHYSICIANS</td><td>CAHPS for MIPS SSM: How Well Providers Communicate                    </td><td>NA</td><td>85</td><td>NA</td><td>NA</td><td>NA</td><td>NA</td></tr>\n",
              "\t<tr><td>0446162697</td><td>ASSOCIATION OF UNIVERSITY PHYSICIANS</td><td>CAHPS for MIPS SSM: Patient's Rating of Provider                      </td><td>NA</td><td>NA</td><td>83</td><td>NA</td><td>NA</td><td>NA</td></tr>\n",
              "\t<tr><td>0446162697</td><td>ASSOCIATION OF UNIVERSITY PHYSICIANS</td><td>CAHPS for MIPS SSM: Health Promotion and Education                    </td><td>NA</td><td>NA</td><td>NA</td><td>63</td><td>NA</td><td>NA</td></tr>\n",
              "\t<tr><td>0446162697</td><td>ASSOCIATION OF UNIVERSITY PHYSICIANS</td><td>CAHPS for MIPS SSM: Courteous and Helpful Office Staff                </td><td>NA</td><td>NA</td><td>NA</td><td>NA</td><td>88</td><td>NA</td></tr>\n",
              "\t<tr><td>0446162697</td><td>ASSOCIATION OF UNIVERSITY PHYSICIANS</td><td>CAHPS for MIPS SSM: Stewardship of Patient Resources                  </td><td>NA</td><td>NA</td><td>NA</td><td>NA</td><td>NA</td><td>22</td></tr>\n",
              "\t<tr><td>0547164295</td><td>BEAVER MEDICAL GROUP PC             </td><td>CAHPS for MIPS SSM: Getting Timely Care, Appointments, and Information</td><td>49</td><td>NA</td><td>NA</td><td>NA</td><td>NA</td><td>NA</td></tr>\n",
              "\t<tr><td>0547164295</td><td>BEAVER MEDICAL GROUP PC             </td><td>CAHPS for MIPS SSM: How Well Providers Communicate                    </td><td>NA</td><td>NA</td><td>NA</td><td>NA</td><td>NA</td><td>NA</td></tr>\n",
              "\t<tr><td>0547164295</td><td>BEAVER MEDICAL GROUP PC             </td><td>CAHPS for MIPS SSM: Patient's Rating of Provider                      </td><td>NA</td><td>NA</td><td>75</td><td>NA</td><td>NA</td><td>NA</td></tr>\n",
              "\t<tr><td>0547164295</td><td>BEAVER MEDICAL GROUP PC             </td><td>CAHPS for MIPS SSM: Health Promotion and Education                    </td><td>NA</td><td>NA</td><td>NA</td><td>44</td><td>NA</td><td>NA</td></tr>\n",
              "\t<tr><td>0547164295</td><td>BEAVER MEDICAL GROUP PC             </td><td>CAHPS for MIPS SSM: Courteous and Helpful Office Staff                </td><td>NA</td><td>NA</td><td>NA</td><td>NA</td><td>73</td><td>NA</td></tr>\n",
              "\t<tr><td>0547164295</td><td>BEAVER MEDICAL GROUP PC             </td><td>CAHPS for MIPS SSM: Stewardship of Patient Resources                  </td><td>NA</td><td>NA</td><td>NA</td><td>NA</td><td>NA</td><td>12</td></tr>\n",
              "\t<tr><td>0749333730</td><td>CAPE PHYSICIANS ASSOCIATES PA       </td><td>CAHPS for MIPS SSM: Getting Timely Care, Appointments, and Information</td><td>67</td><td>NA</td><td>NA</td><td>NA</td><td>NA</td><td>NA</td></tr>\n",
              "\t<tr><td>0749333730</td><td>CAPE PHYSICIANS ASSOCIATES PA       </td><td>CAHPS for MIPS SSM: How Well Providers Communicate                    </td><td>NA</td><td>84</td><td>NA</td><td>NA</td><td>NA</td><td>NA</td></tr>\n",
              "\t<tr><td>0749333730</td><td>CAPE PHYSICIANS ASSOCIATES PA       </td><td>CAHPS for MIPS SSM: Patient's Rating of Provider                      </td><td>NA</td><td>NA</td><td>85</td><td>NA</td><td>NA</td><td>NA</td></tr>\n",
              "\t<tr><td>0749333730</td><td>CAPE PHYSICIANS ASSOCIATES PA       </td><td>CAHPS for MIPS SSM: Health Promotion and Education                    </td><td>NA</td><td>NA</td><td>NA</td><td>65</td><td>NA</td><td>NA</td></tr>\n",
              "\t<tr><td>0749333730</td><td>CAPE PHYSICIANS ASSOCIATES PA       </td><td>CAHPS for MIPS SSM: Courteous and Helpful Office Staff                </td><td>NA</td><td>NA</td><td>NA</td><td>NA</td><td>82</td><td>NA</td></tr>\n",
              "\t<tr><td>0749333730</td><td>CAPE PHYSICIANS ASSOCIATES PA       </td><td>CAHPS for MIPS SSM: Stewardship of Patient Resources                  </td><td>NA</td><td>NA</td><td>NA</td><td>NA</td><td>NA</td><td>24</td></tr>\n",
              "\t<tr><td>0840104360</td><td>ALLIANCE PHYSICIANS INC             </td><td>CAHPS for MIPS SSM: Getting Timely Care, Appointments, and Information</td><td>66</td><td>NA</td><td>NA</td><td>NA</td><td>NA</td><td>NA</td></tr>\n",
              "\t<tr><td>0840104360</td><td>ALLIANCE PHYSICIANS INC             </td><td>CAHPS for MIPS SSM: How Well Providers Communicate                    </td><td>NA</td><td>87</td><td>NA</td><td>NA</td><td>NA</td><td>NA</td></tr>\n",
              "\t<tr><td>0840104360</td><td>ALLIANCE PHYSICIANS INC             </td><td>CAHPS for MIPS SSM: Patient's Rating of Provider                      </td><td>NA</td><td>NA</td><td>87</td><td>NA</td><td>NA</td><td>NA</td></tr>\n",
              "\t<tr><td>0840104360</td><td>ALLIANCE PHYSICIANS INC             </td><td>CAHPS for MIPS SSM: Health Promotion and Education                    </td><td>NA</td><td>NA</td><td>NA</td><td>64</td><td>NA</td><td>NA</td></tr>\n",
              "\t<tr><td>0840104360</td><td>ALLIANCE PHYSICIANS INC             </td><td>CAHPS for MIPS SSM: Courteous and Helpful Office Staff                </td><td>NA</td><td>NA</td><td>NA</td><td>NA</td><td>87</td><td>NA</td></tr>\n",
              "\t<tr><td>0840104360</td><td>ALLIANCE PHYSICIANS INC             </td><td>CAHPS for MIPS SSM: Stewardship of Patient Resources                  </td><td>NA</td><td>NA</td><td>NA</td><td>NA</td><td>NA</td><td>28</td></tr>\n",
              "\t<tr><td>⋮</td><td>⋮</td><td>⋮</td><td>⋮</td><td>⋮</td><td>⋮</td><td>⋮</td><td>⋮</td><td>⋮</td></tr>\n",
              "\t<tr><td>9638491574</td><td>SCL HEALTH MEDICAL GROUP - BILLINGS LLC  </td><td>CAHPS for MIPS SSM: Getting Timely Care, Appointments, and Information</td><td>61</td><td>NA</td><td>NA</td><td>NA</td><td>NA</td><td>NA</td></tr>\n",
              "\t<tr><td>9638491574</td><td>SCL HEALTH MEDICAL GROUP - BILLINGS LLC  </td><td>CAHPS for MIPS SSM: How Well Providers Communicate                    </td><td>NA</td><td>84</td><td>NA</td><td>NA</td><td>NA</td><td>NA</td></tr>\n",
              "\t<tr><td>9638491574</td><td>SCL HEALTH MEDICAL GROUP - BILLINGS LLC  </td><td>CAHPS for MIPS SSM: Patient's Rating of Provider                      </td><td>NA</td><td>NA</td><td>82</td><td>NA</td><td>NA</td><td>NA</td></tr>\n",
              "\t<tr><td>9638491574</td><td>SCL HEALTH MEDICAL GROUP - BILLINGS LLC  </td><td>CAHPS for MIPS SSM: Health Promotion and Education                    </td><td>NA</td><td>NA</td><td>NA</td><td>67</td><td>NA</td><td>NA</td></tr>\n",
              "\t<tr><td>9638491574</td><td>SCL HEALTH MEDICAL GROUP - BILLINGS LLC  </td><td>CAHPS for MIPS SSM: Stewardship of Patient Resources                  </td><td>NA</td><td>NA</td><td>NA</td><td>NA</td><td>NA</td><td>24</td></tr>\n",
              "\t<tr><td>9830002617</td><td>VIRGINIA MASON MEDICAL CENTER            </td><td>CAHPS for MIPS SSM: Getting Timely Care, Appointments, and Information</td><td>55</td><td>NA</td><td>NA</td><td>NA</td><td>NA</td><td>NA</td></tr>\n",
              "\t<tr><td>9830002617</td><td>VIRGINIA MASON MEDICAL CENTER            </td><td>CAHPS for MIPS SSM: How Well Providers Communicate                    </td><td>NA</td><td>81</td><td>NA</td><td>NA</td><td>NA</td><td>NA</td></tr>\n",
              "\t<tr><td>9830002617</td><td>VIRGINIA MASON MEDICAL CENTER            </td><td>CAHPS for MIPS SSM: Patient's Rating of Provider                      </td><td>NA</td><td>NA</td><td>80</td><td>NA</td><td>NA</td><td>NA</td></tr>\n",
              "\t<tr><td>9830002617</td><td>VIRGINIA MASON MEDICAL CENTER            </td><td>CAHPS for MIPS SSM: Health Promotion and Education                    </td><td>NA</td><td>NA</td><td>NA</td><td>62</td><td>NA</td><td>NA</td></tr>\n",
              "\t<tr><td>9830002617</td><td>VIRGINIA MASON MEDICAL CENTER            </td><td>CAHPS for MIPS SSM: Stewardship of Patient Resources                  </td><td>NA</td><td>NA</td><td>NA</td><td>NA</td><td>NA</td><td>20</td></tr>\n",
              "\t<tr><td>9830008770</td><td>WASHINGTON UNIVERSITY                    </td><td>CAHPS for MIPS SSM: Getting Timely Care, Appointments, and Information</td><td>65</td><td>NA</td><td>NA</td><td>NA</td><td>NA</td><td>NA</td></tr>\n",
              "\t<tr><td>9830008770</td><td>WASHINGTON UNIVERSITY                    </td><td>CAHPS for MIPS SSM: How Well Providers Communicate                    </td><td>NA</td><td>NA</td><td>NA</td><td>NA</td><td>NA</td><td>NA</td></tr>\n",
              "\t<tr><td>9830008770</td><td>WASHINGTON UNIVERSITY                    </td><td>CAHPS for MIPS SSM: Patient's Rating of Provider                      </td><td>NA</td><td>NA</td><td>NA</td><td>NA</td><td>NA</td><td>NA</td></tr>\n",
              "\t<tr><td>9830008770</td><td>WASHINGTON UNIVERSITY                    </td><td>CAHPS for MIPS SSM: Health Promotion and Education                    </td><td>NA</td><td>NA</td><td>NA</td><td>61</td><td>NA</td><td>NA</td></tr>\n",
              "\t<tr><td>9830008770</td><td>WASHINGTON UNIVERSITY                    </td><td>CAHPS for MIPS SSM: Stewardship of Patient Resources                  </td><td>NA</td><td>NA</td><td>NA</td><td>NA</td><td>NA</td><td>28</td></tr>\n",
              "\t<tr><td>9830093640</td><td>COOPERATIVE HEALTHCARE SERVICES, INC.    </td><td>CAHPS for MIPS SSM: Getting Timely Care, Appointments, and Information</td><td>65</td><td>NA</td><td>NA</td><td>NA</td><td>NA</td><td>NA</td></tr>\n",
              "\t<tr><td>9830093640</td><td>COOPERATIVE HEALTHCARE SERVICES, INC.    </td><td>CAHPS for MIPS SSM: How Well Providers Communicate                    </td><td>NA</td><td>87</td><td>NA</td><td>NA</td><td>NA</td><td>NA</td></tr>\n",
              "\t<tr><td>9830093640</td><td>COOPERATIVE HEALTHCARE SERVICES, INC.    </td><td>CAHPS for MIPS SSM: Patient's Rating of Provider                      </td><td>NA</td><td>NA</td><td>78</td><td>NA</td><td>NA</td><td>NA</td></tr>\n",
              "\t<tr><td>9830093640</td><td>COOPERATIVE HEALTHCARE SERVICES, INC.    </td><td>CAHPS for MIPS SSM: Health Promotion and Education                    </td><td>NA</td><td>NA</td><td>NA</td><td>52</td><td>NA</td><td>NA</td></tr>\n",
              "\t<tr><td>9830093640</td><td>COOPERATIVE HEALTHCARE SERVICES, INC.    </td><td>CAHPS for MIPS SSM: Stewardship of Patient Resources                  </td><td>NA</td><td>NA</td><td>NA</td><td>NA</td><td>NA</td><td>25</td></tr>\n",
              "\t<tr><td>9830094515</td><td>SUTTER VALLEY MEDICAL FOUNDATION         </td><td>CAHPS for MIPS SSM: Getting Timely Care, Appointments, and Information</td><td>60</td><td>NA</td><td>NA</td><td>NA</td><td>NA</td><td>NA</td></tr>\n",
              "\t<tr><td>9830094515</td><td>SUTTER VALLEY MEDICAL FOUNDATION         </td><td>CAHPS for MIPS SSM: How Well Providers Communicate                    </td><td>NA</td><td>NA</td><td>NA</td><td>NA</td><td>NA</td><td>NA</td></tr>\n",
              "\t<tr><td>9830094515</td><td>SUTTER VALLEY MEDICAL FOUNDATION         </td><td>CAHPS for MIPS SSM: Patient's Rating of Provider                      </td><td>NA</td><td>NA</td><td>88</td><td>NA</td><td>NA</td><td>NA</td></tr>\n",
              "\t<tr><td>9830094515</td><td>SUTTER VALLEY MEDICAL FOUNDATION         </td><td>CAHPS for MIPS SSM: Health Promotion and Education                    </td><td>NA</td><td>NA</td><td>NA</td><td>55</td><td>NA</td><td>NA</td></tr>\n",
              "\t<tr><td>9830094515</td><td>SUTTER VALLEY MEDICAL FOUNDATION         </td><td>CAHPS for MIPS SSM: Stewardship of Patient Resources                  </td><td>NA</td><td>NA</td><td>NA</td><td>NA</td><td>NA</td><td>24</td></tr>\n",
              "\t<tr><td>9931011434</td><td>PATIENT FIRST RICHMOND MEDICAL GROUP PLLC</td><td>CAHPS for MIPS SSM: Getting Timely Care, Appointments, and Information</td><td>80</td><td>NA</td><td>NA</td><td>NA</td><td>NA</td><td>NA</td></tr>\n",
              "\t<tr><td>9931011434</td><td>PATIENT FIRST RICHMOND MEDICAL GROUP PLLC</td><td>CAHPS for MIPS SSM: How Well Providers Communicate                    </td><td>NA</td><td>NA</td><td>NA</td><td>NA</td><td>NA</td><td>NA</td></tr>\n",
              "\t<tr><td>9931011434</td><td>PATIENT FIRST RICHMOND MEDICAL GROUP PLLC</td><td>CAHPS for MIPS SSM: Patient's Rating of Provider                      </td><td>NA</td><td>NA</td><td>NA</td><td>NA</td><td>NA</td><td>NA</td></tr>\n",
              "\t<tr><td>9931011434</td><td>PATIENT FIRST RICHMOND MEDICAL GROUP PLLC</td><td>CAHPS for MIPS SSM: Health Promotion and Education                    </td><td>NA</td><td>NA</td><td>NA</td><td>45</td><td>NA</td><td>NA</td></tr>\n",
              "\t<tr><td>9931011434</td><td>PATIENT FIRST RICHMOND MEDICAL GROUP PLLC</td><td>CAHPS for MIPS SSM: Stewardship of Patient Resources                  </td><td>NA</td><td>NA</td><td>NA</td><td>NA</td><td>NA</td><td>19</td></tr>\n",
              "</tbody>\n",
              "</table>\n"
            ],
            "text/markdown": "\nA tibble: 500 × 9\n\n| org_pac_id &lt;chr&gt; | org_nm &lt;chr&gt; | measure_title &lt;chr&gt; | CAHPS_GRP_1 &lt;dbl&gt; | CAHPS_GRP_2 &lt;dbl&gt; | CAHPS_GRP_3 &lt;dbl&gt; | CAHPS_GRP_5 &lt;dbl&gt; | CAHPS_GRP_8 &lt;dbl&gt; | CAHPS_GRP_12 &lt;dbl&gt; |\n|---|---|---|---|---|---|---|---|---|\n| 0446157747 | USC CARE MEDICAL GROUP INC           | CAHPS for MIPS SSM: Getting Timely Care, Appointments, and Information | 63 | NA | NA | NA | NA | NA |\n| 0446157747 | USC CARE MEDICAL GROUP INC           | CAHPS for MIPS SSM: How Well Providers Communicate                     | NA | 87 | NA | NA | NA | NA |\n| 0446157747 | USC CARE MEDICAL GROUP INC           | CAHPS for MIPS SSM: Patient's Rating of Provider                       | NA | NA | 86 | NA | NA | NA |\n| 0446157747 | USC CARE MEDICAL GROUP INC           | CAHPS for MIPS SSM: Health Promotion and Education                     | NA | NA | NA | 57 | NA | NA |\n| 0446157747 | USC CARE MEDICAL GROUP INC           | CAHPS for MIPS SSM: Courteous and Helpful Office Staff                 | NA | NA | NA | NA | 85 | NA |\n| 0446157747 | USC CARE MEDICAL GROUP INC           | CAHPS for MIPS SSM: Stewardship of Patient Resources                   | NA | NA | NA | NA | NA | 24 |\n| 0446162697 | ASSOCIATION OF UNIVERSITY PHYSICIANS | CAHPS for MIPS SSM: Getting Timely Care, Appointments, and Information | 59 | NA | NA | NA | NA | NA |\n| 0446162697 | ASSOCIATION OF UNIVERSITY PHYSICIANS | CAHPS for MIPS SSM: How Well Providers Communicate                     | NA | 85 | NA | NA | NA | NA |\n| 0446162697 | ASSOCIATION OF UNIVERSITY PHYSICIANS | CAHPS for MIPS SSM: Patient's Rating of Provider                       | NA | NA | 83 | NA | NA | NA |\n| 0446162697 | ASSOCIATION OF UNIVERSITY PHYSICIANS | CAHPS for MIPS SSM: Health Promotion and Education                     | NA | NA | NA | 63 | NA | NA |\n| 0446162697 | ASSOCIATION OF UNIVERSITY PHYSICIANS | CAHPS for MIPS SSM: Courteous and Helpful Office Staff                 | NA | NA | NA | NA | 88 | NA |\n| 0446162697 | ASSOCIATION OF UNIVERSITY PHYSICIANS | CAHPS for MIPS SSM: Stewardship of Patient Resources                   | NA | NA | NA | NA | NA | 22 |\n| 0547164295 | BEAVER MEDICAL GROUP PC              | CAHPS for MIPS SSM: Getting Timely Care, Appointments, and Information | 49 | NA | NA | NA | NA | NA |\n| 0547164295 | BEAVER MEDICAL GROUP PC              | CAHPS for MIPS SSM: How Well Providers Communicate                     | NA | NA | NA | NA | NA | NA |\n| 0547164295 | BEAVER MEDICAL GROUP PC              | CAHPS for MIPS SSM: Patient's Rating of Provider                       | NA | NA | 75 | NA | NA | NA |\n| 0547164295 | BEAVER MEDICAL GROUP PC              | CAHPS for MIPS SSM: Health Promotion and Education                     | NA | NA | NA | 44 | NA | NA |\n| 0547164295 | BEAVER MEDICAL GROUP PC              | CAHPS for MIPS SSM: Courteous and Helpful Office Staff                 | NA | NA | NA | NA | 73 | NA |\n| 0547164295 | BEAVER MEDICAL GROUP PC              | CAHPS for MIPS SSM: Stewardship of Patient Resources                   | NA | NA | NA | NA | NA | 12 |\n| 0749333730 | CAPE PHYSICIANS ASSOCIATES PA        | CAHPS for MIPS SSM: Getting Timely Care, Appointments, and Information | 67 | NA | NA | NA | NA | NA |\n| 0749333730 | CAPE PHYSICIANS ASSOCIATES PA        | CAHPS for MIPS SSM: How Well Providers Communicate                     | NA | 84 | NA | NA | NA | NA |\n| 0749333730 | CAPE PHYSICIANS ASSOCIATES PA        | CAHPS for MIPS SSM: Patient's Rating of Provider                       | NA | NA | 85 | NA | NA | NA |\n| 0749333730 | CAPE PHYSICIANS ASSOCIATES PA        | CAHPS for MIPS SSM: Health Promotion and Education                     | NA | NA | NA | 65 | NA | NA |\n| 0749333730 | CAPE PHYSICIANS ASSOCIATES PA        | CAHPS for MIPS SSM: Courteous and Helpful Office Staff                 | NA | NA | NA | NA | 82 | NA |\n| 0749333730 | CAPE PHYSICIANS ASSOCIATES PA        | CAHPS for MIPS SSM: Stewardship of Patient Resources                   | NA | NA | NA | NA | NA | 24 |\n| 0840104360 | ALLIANCE PHYSICIANS INC              | CAHPS for MIPS SSM: Getting Timely Care, Appointments, and Information | 66 | NA | NA | NA | NA | NA |\n| 0840104360 | ALLIANCE PHYSICIANS INC              | CAHPS for MIPS SSM: How Well Providers Communicate                     | NA | 87 | NA | NA | NA | NA |\n| 0840104360 | ALLIANCE PHYSICIANS INC              | CAHPS for MIPS SSM: Patient's Rating of Provider                       | NA | NA | 87 | NA | NA | NA |\n| 0840104360 | ALLIANCE PHYSICIANS INC              | CAHPS for MIPS SSM: Health Promotion and Education                     | NA | NA | NA | 64 | NA | NA |\n| 0840104360 | ALLIANCE PHYSICIANS INC              | CAHPS for MIPS SSM: Courteous and Helpful Office Staff                 | NA | NA | NA | NA | 87 | NA |\n| 0840104360 | ALLIANCE PHYSICIANS INC              | CAHPS for MIPS SSM: Stewardship of Patient Resources                   | NA | NA | NA | NA | NA | 28 |\n| ⋮ | ⋮ | ⋮ | ⋮ | ⋮ | ⋮ | ⋮ | ⋮ | ⋮ |\n| 9638491574 | SCL HEALTH MEDICAL GROUP - BILLINGS LLC   | CAHPS for MIPS SSM: Getting Timely Care, Appointments, and Information | 61 | NA | NA | NA | NA | NA |\n| 9638491574 | SCL HEALTH MEDICAL GROUP - BILLINGS LLC   | CAHPS for MIPS SSM: How Well Providers Communicate                     | NA | 84 | NA | NA | NA | NA |\n| 9638491574 | SCL HEALTH MEDICAL GROUP - BILLINGS LLC   | CAHPS for MIPS SSM: Patient's Rating of Provider                       | NA | NA | 82 | NA | NA | NA |\n| 9638491574 | SCL HEALTH MEDICAL GROUP - BILLINGS LLC   | CAHPS for MIPS SSM: Health Promotion and Education                     | NA | NA | NA | 67 | NA | NA |\n| 9638491574 | SCL HEALTH MEDICAL GROUP - BILLINGS LLC   | CAHPS for MIPS SSM: Stewardship of Patient Resources                   | NA | NA | NA | NA | NA | 24 |\n| 9830002617 | VIRGINIA MASON MEDICAL CENTER             | CAHPS for MIPS SSM: Getting Timely Care, Appointments, and Information | 55 | NA | NA | NA | NA | NA |\n| 9830002617 | VIRGINIA MASON MEDICAL CENTER             | CAHPS for MIPS SSM: How Well Providers Communicate                     | NA | 81 | NA | NA | NA | NA |\n| 9830002617 | VIRGINIA MASON MEDICAL CENTER             | CAHPS for MIPS SSM: Patient's Rating of Provider                       | NA | NA | 80 | NA | NA | NA |\n| 9830002617 | VIRGINIA MASON MEDICAL CENTER             | CAHPS for MIPS SSM: Health Promotion and Education                     | NA | NA | NA | 62 | NA | NA |\n| 9830002617 | VIRGINIA MASON MEDICAL CENTER             | CAHPS for MIPS SSM: Stewardship of Patient Resources                   | NA | NA | NA | NA | NA | 20 |\n| 9830008770 | WASHINGTON UNIVERSITY                     | CAHPS for MIPS SSM: Getting Timely Care, Appointments, and Information | 65 | NA | NA | NA | NA | NA |\n| 9830008770 | WASHINGTON UNIVERSITY                     | CAHPS for MIPS SSM: How Well Providers Communicate                     | NA | NA | NA | NA | NA | NA |\n| 9830008770 | WASHINGTON UNIVERSITY                     | CAHPS for MIPS SSM: Patient's Rating of Provider                       | NA | NA | NA | NA | NA | NA |\n| 9830008770 | WASHINGTON UNIVERSITY                     | CAHPS for MIPS SSM: Health Promotion and Education                     | NA | NA | NA | 61 | NA | NA |\n| 9830008770 | WASHINGTON UNIVERSITY                     | CAHPS for MIPS SSM: Stewardship of Patient Resources                   | NA | NA | NA | NA | NA | 28 |\n| 9830093640 | COOPERATIVE HEALTHCARE SERVICES, INC.     | CAHPS for MIPS SSM: Getting Timely Care, Appointments, and Information | 65 | NA | NA | NA | NA | NA |\n| 9830093640 | COOPERATIVE HEALTHCARE SERVICES, INC.     | CAHPS for MIPS SSM: How Well Providers Communicate                     | NA | 87 | NA | NA | NA | NA |\n| 9830093640 | COOPERATIVE HEALTHCARE SERVICES, INC.     | CAHPS for MIPS SSM: Patient's Rating of Provider                       | NA | NA | 78 | NA | NA | NA |\n| 9830093640 | COOPERATIVE HEALTHCARE SERVICES, INC.     | CAHPS for MIPS SSM: Health Promotion and Education                     | NA | NA | NA | 52 | NA | NA |\n| 9830093640 | COOPERATIVE HEALTHCARE SERVICES, INC.     | CAHPS for MIPS SSM: Stewardship of Patient Resources                   | NA | NA | NA | NA | NA | 25 |\n| 9830094515 | SUTTER VALLEY MEDICAL FOUNDATION          | CAHPS for MIPS SSM: Getting Timely Care, Appointments, and Information | 60 | NA | NA | NA | NA | NA |\n| 9830094515 | SUTTER VALLEY MEDICAL FOUNDATION          | CAHPS for MIPS SSM: How Well Providers Communicate                     | NA | NA | NA | NA | NA | NA |\n| 9830094515 | SUTTER VALLEY MEDICAL FOUNDATION          | CAHPS for MIPS SSM: Patient's Rating of Provider                       | NA | NA | 88 | NA | NA | NA |\n| 9830094515 | SUTTER VALLEY MEDICAL FOUNDATION          | CAHPS for MIPS SSM: Health Promotion and Education                     | NA | NA | NA | 55 | NA | NA |\n| 9830094515 | SUTTER VALLEY MEDICAL FOUNDATION          | CAHPS for MIPS SSM: Stewardship of Patient Resources                   | NA | NA | NA | NA | NA | 24 |\n| 9931011434 | PATIENT FIRST RICHMOND MEDICAL GROUP PLLC | CAHPS for MIPS SSM: Getting Timely Care, Appointments, and Information | 80 | NA | NA | NA | NA | NA |\n| 9931011434 | PATIENT FIRST RICHMOND MEDICAL GROUP PLLC | CAHPS for MIPS SSM: How Well Providers Communicate                     | NA | NA | NA | NA | NA | NA |\n| 9931011434 | PATIENT FIRST RICHMOND MEDICAL GROUP PLLC | CAHPS for MIPS SSM: Patient's Rating of Provider                       | NA | NA | NA | NA | NA | NA |\n| 9931011434 | PATIENT FIRST RICHMOND MEDICAL GROUP PLLC | CAHPS for MIPS SSM: Health Promotion and Education                     | NA | NA | NA | 45 | NA | NA |\n| 9931011434 | PATIENT FIRST RICHMOND MEDICAL GROUP PLLC | CAHPS for MIPS SSM: Stewardship of Patient Resources                   | NA | NA | NA | NA | NA | 19 |\n\n",
            "text/latex": "A tibble: 500 × 9\n\\begin{tabular}{lllllllll}\n org\\_pac\\_id & org\\_nm & measure\\_title & CAHPS\\_GRP\\_1 & CAHPS\\_GRP\\_2 & CAHPS\\_GRP\\_3 & CAHPS\\_GRP\\_5 & CAHPS\\_GRP\\_8 & CAHPS\\_GRP\\_12\\\\\n <chr> & <chr> & <chr> & <dbl> & <dbl> & <dbl> & <dbl> & <dbl> & <dbl>\\\\\n\\hline\n\t 0446157747 & USC CARE MEDICAL GROUP INC           & CAHPS for MIPS SSM: Getting Timely Care, Appointments, and Information & 63 & NA & NA & NA & NA & NA\\\\\n\t 0446157747 & USC CARE MEDICAL GROUP INC           & CAHPS for MIPS SSM: How Well Providers Communicate                     & NA & 87 & NA & NA & NA & NA\\\\\n\t 0446157747 & USC CARE MEDICAL GROUP INC           & CAHPS for MIPS SSM: Patient's Rating of Provider                       & NA & NA & 86 & NA & NA & NA\\\\\n\t 0446157747 & USC CARE MEDICAL GROUP INC           & CAHPS for MIPS SSM: Health Promotion and Education                     & NA & NA & NA & 57 & NA & NA\\\\\n\t 0446157747 & USC CARE MEDICAL GROUP INC           & CAHPS for MIPS SSM: Courteous and Helpful Office Staff                 & NA & NA & NA & NA & 85 & NA\\\\\n\t 0446157747 & USC CARE MEDICAL GROUP INC           & CAHPS for MIPS SSM: Stewardship of Patient Resources                   & NA & NA & NA & NA & NA & 24\\\\\n\t 0446162697 & ASSOCIATION OF UNIVERSITY PHYSICIANS & CAHPS for MIPS SSM: Getting Timely Care, Appointments, and Information & 59 & NA & NA & NA & NA & NA\\\\\n\t 0446162697 & ASSOCIATION OF UNIVERSITY PHYSICIANS & CAHPS for MIPS SSM: How Well Providers Communicate                     & NA & 85 & NA & NA & NA & NA\\\\\n\t 0446162697 & ASSOCIATION OF UNIVERSITY PHYSICIANS & CAHPS for MIPS SSM: Patient's Rating of Provider                       & NA & NA & 83 & NA & NA & NA\\\\\n\t 0446162697 & ASSOCIATION OF UNIVERSITY PHYSICIANS & CAHPS for MIPS SSM: Health Promotion and Education                     & NA & NA & NA & 63 & NA & NA\\\\\n\t 0446162697 & ASSOCIATION OF UNIVERSITY PHYSICIANS & CAHPS for MIPS SSM: Courteous and Helpful Office Staff                 & NA & NA & NA & NA & 88 & NA\\\\\n\t 0446162697 & ASSOCIATION OF UNIVERSITY PHYSICIANS & CAHPS for MIPS SSM: Stewardship of Patient Resources                   & NA & NA & NA & NA & NA & 22\\\\\n\t 0547164295 & BEAVER MEDICAL GROUP PC              & CAHPS for MIPS SSM: Getting Timely Care, Appointments, and Information & 49 & NA & NA & NA & NA & NA\\\\\n\t 0547164295 & BEAVER MEDICAL GROUP PC              & CAHPS for MIPS SSM: How Well Providers Communicate                     & NA & NA & NA & NA & NA & NA\\\\\n\t 0547164295 & BEAVER MEDICAL GROUP PC              & CAHPS for MIPS SSM: Patient's Rating of Provider                       & NA & NA & 75 & NA & NA & NA\\\\\n\t 0547164295 & BEAVER MEDICAL GROUP PC              & CAHPS for MIPS SSM: Health Promotion and Education                     & NA & NA & NA & 44 & NA & NA\\\\\n\t 0547164295 & BEAVER MEDICAL GROUP PC              & CAHPS for MIPS SSM: Courteous and Helpful Office Staff                 & NA & NA & NA & NA & 73 & NA\\\\\n\t 0547164295 & BEAVER MEDICAL GROUP PC              & CAHPS for MIPS SSM: Stewardship of Patient Resources                   & NA & NA & NA & NA & NA & 12\\\\\n\t 0749333730 & CAPE PHYSICIANS ASSOCIATES PA        & CAHPS for MIPS SSM: Getting Timely Care, Appointments, and Information & 67 & NA & NA & NA & NA & NA\\\\\n\t 0749333730 & CAPE PHYSICIANS ASSOCIATES PA        & CAHPS for MIPS SSM: How Well Providers Communicate                     & NA & 84 & NA & NA & NA & NA\\\\\n\t 0749333730 & CAPE PHYSICIANS ASSOCIATES PA        & CAHPS for MIPS SSM: Patient's Rating of Provider                       & NA & NA & 85 & NA & NA & NA\\\\\n\t 0749333730 & CAPE PHYSICIANS ASSOCIATES PA        & CAHPS for MIPS SSM: Health Promotion and Education                     & NA & NA & NA & 65 & NA & NA\\\\\n\t 0749333730 & CAPE PHYSICIANS ASSOCIATES PA        & CAHPS for MIPS SSM: Courteous and Helpful Office Staff                 & NA & NA & NA & NA & 82 & NA\\\\\n\t 0749333730 & CAPE PHYSICIANS ASSOCIATES PA        & CAHPS for MIPS SSM: Stewardship of Patient Resources                   & NA & NA & NA & NA & NA & 24\\\\\n\t 0840104360 & ALLIANCE PHYSICIANS INC              & CAHPS for MIPS SSM: Getting Timely Care, Appointments, and Information & 66 & NA & NA & NA & NA & NA\\\\\n\t 0840104360 & ALLIANCE PHYSICIANS INC              & CAHPS for MIPS SSM: How Well Providers Communicate                     & NA & 87 & NA & NA & NA & NA\\\\\n\t 0840104360 & ALLIANCE PHYSICIANS INC              & CAHPS for MIPS SSM: Patient's Rating of Provider                       & NA & NA & 87 & NA & NA & NA\\\\\n\t 0840104360 & ALLIANCE PHYSICIANS INC              & CAHPS for MIPS SSM: Health Promotion and Education                     & NA & NA & NA & 64 & NA & NA\\\\\n\t 0840104360 & ALLIANCE PHYSICIANS INC              & CAHPS for MIPS SSM: Courteous and Helpful Office Staff                 & NA & NA & NA & NA & 87 & NA\\\\\n\t 0840104360 & ALLIANCE PHYSICIANS INC              & CAHPS for MIPS SSM: Stewardship of Patient Resources                   & NA & NA & NA & NA & NA & 28\\\\\n\t ⋮ & ⋮ & ⋮ & ⋮ & ⋮ & ⋮ & ⋮ & ⋮ & ⋮\\\\\n\t 9638491574 & SCL HEALTH MEDICAL GROUP - BILLINGS LLC   & CAHPS for MIPS SSM: Getting Timely Care, Appointments, and Information & 61 & NA & NA & NA & NA & NA\\\\\n\t 9638491574 & SCL HEALTH MEDICAL GROUP - BILLINGS LLC   & CAHPS for MIPS SSM: How Well Providers Communicate                     & NA & 84 & NA & NA & NA & NA\\\\\n\t 9638491574 & SCL HEALTH MEDICAL GROUP - BILLINGS LLC   & CAHPS for MIPS SSM: Patient's Rating of Provider                       & NA & NA & 82 & NA & NA & NA\\\\\n\t 9638491574 & SCL HEALTH MEDICAL GROUP - BILLINGS LLC   & CAHPS for MIPS SSM: Health Promotion and Education                     & NA & NA & NA & 67 & NA & NA\\\\\n\t 9638491574 & SCL HEALTH MEDICAL GROUP - BILLINGS LLC   & CAHPS for MIPS SSM: Stewardship of Patient Resources                   & NA & NA & NA & NA & NA & 24\\\\\n\t 9830002617 & VIRGINIA MASON MEDICAL CENTER             & CAHPS for MIPS SSM: Getting Timely Care, Appointments, and Information & 55 & NA & NA & NA & NA & NA\\\\\n\t 9830002617 & VIRGINIA MASON MEDICAL CENTER             & CAHPS for MIPS SSM: How Well Providers Communicate                     & NA & 81 & NA & NA & NA & NA\\\\\n\t 9830002617 & VIRGINIA MASON MEDICAL CENTER             & CAHPS for MIPS SSM: Patient's Rating of Provider                       & NA & NA & 80 & NA & NA & NA\\\\\n\t 9830002617 & VIRGINIA MASON MEDICAL CENTER             & CAHPS for MIPS SSM: Health Promotion and Education                     & NA & NA & NA & 62 & NA & NA\\\\\n\t 9830002617 & VIRGINIA MASON MEDICAL CENTER             & CAHPS for MIPS SSM: Stewardship of Patient Resources                   & NA & NA & NA & NA & NA & 20\\\\\n\t 9830008770 & WASHINGTON UNIVERSITY                     & CAHPS for MIPS SSM: Getting Timely Care, Appointments, and Information & 65 & NA & NA & NA & NA & NA\\\\\n\t 9830008770 & WASHINGTON UNIVERSITY                     & CAHPS for MIPS SSM: How Well Providers Communicate                     & NA & NA & NA & NA & NA & NA\\\\\n\t 9830008770 & WASHINGTON UNIVERSITY                     & CAHPS for MIPS SSM: Patient's Rating of Provider                       & NA & NA & NA & NA & NA & NA\\\\\n\t 9830008770 & WASHINGTON UNIVERSITY                     & CAHPS for MIPS SSM: Health Promotion and Education                     & NA & NA & NA & 61 & NA & NA\\\\\n\t 9830008770 & WASHINGTON UNIVERSITY                     & CAHPS for MIPS SSM: Stewardship of Patient Resources                   & NA & NA & NA & NA & NA & 28\\\\\n\t 9830093640 & COOPERATIVE HEALTHCARE SERVICES, INC.     & CAHPS for MIPS SSM: Getting Timely Care, Appointments, and Information & 65 & NA & NA & NA & NA & NA\\\\\n\t 9830093640 & COOPERATIVE HEALTHCARE SERVICES, INC.     & CAHPS for MIPS SSM: How Well Providers Communicate                     & NA & 87 & NA & NA & NA & NA\\\\\n\t 9830093640 & COOPERATIVE HEALTHCARE SERVICES, INC.     & CAHPS for MIPS SSM: Patient's Rating of Provider                       & NA & NA & 78 & NA & NA & NA\\\\\n\t 9830093640 & COOPERATIVE HEALTHCARE SERVICES, INC.     & CAHPS for MIPS SSM: Health Promotion and Education                     & NA & NA & NA & 52 & NA & NA\\\\\n\t 9830093640 & COOPERATIVE HEALTHCARE SERVICES, INC.     & CAHPS for MIPS SSM: Stewardship of Patient Resources                   & NA & NA & NA & NA & NA & 25\\\\\n\t 9830094515 & SUTTER VALLEY MEDICAL FOUNDATION          & CAHPS for MIPS SSM: Getting Timely Care, Appointments, and Information & 60 & NA & NA & NA & NA & NA\\\\\n\t 9830094515 & SUTTER VALLEY MEDICAL FOUNDATION          & CAHPS for MIPS SSM: How Well Providers Communicate                     & NA & NA & NA & NA & NA & NA\\\\\n\t 9830094515 & SUTTER VALLEY MEDICAL FOUNDATION          & CAHPS for MIPS SSM: Patient's Rating of Provider                       & NA & NA & 88 & NA & NA & NA\\\\\n\t 9830094515 & SUTTER VALLEY MEDICAL FOUNDATION          & CAHPS for MIPS SSM: Health Promotion and Education                     & NA & NA & NA & 55 & NA & NA\\\\\n\t 9830094515 & SUTTER VALLEY MEDICAL FOUNDATION          & CAHPS for MIPS SSM: Stewardship of Patient Resources                   & NA & NA & NA & NA & NA & 24\\\\\n\t 9931011434 & PATIENT FIRST RICHMOND MEDICAL GROUP PLLC & CAHPS for MIPS SSM: Getting Timely Care, Appointments, and Information & 80 & NA & NA & NA & NA & NA\\\\\n\t 9931011434 & PATIENT FIRST RICHMOND MEDICAL GROUP PLLC & CAHPS for MIPS SSM: How Well Providers Communicate                     & NA & NA & NA & NA & NA & NA\\\\\n\t 9931011434 & PATIENT FIRST RICHMOND MEDICAL GROUP PLLC & CAHPS for MIPS SSM: Patient's Rating of Provider                       & NA & NA & NA & NA & NA & NA\\\\\n\t 9931011434 & PATIENT FIRST RICHMOND MEDICAL GROUP PLLC & CAHPS for MIPS SSM: Health Promotion and Education                     & NA & NA & NA & 45 & NA & NA\\\\\n\t 9931011434 & PATIENT FIRST RICHMOND MEDICAL GROUP PLLC & CAHPS for MIPS SSM: Stewardship of Patient Resources                   & NA & NA & NA & NA & NA & 19\\\\\n\\end{tabular}\n",
            "text/plain": [
              "    org_pac_id org_nm                                   \n",
              "1   0446157747 USC CARE MEDICAL GROUP INC               \n",
              "2   0446157747 USC CARE MEDICAL GROUP INC               \n",
              "3   0446157747 USC CARE MEDICAL GROUP INC               \n",
              "4   0446157747 USC CARE MEDICAL GROUP INC               \n",
              "5   0446157747 USC CARE MEDICAL GROUP INC               \n",
              "6   0446157747 USC CARE MEDICAL GROUP INC               \n",
              "7   0446162697 ASSOCIATION OF UNIVERSITY PHYSICIANS     \n",
              "8   0446162697 ASSOCIATION OF UNIVERSITY PHYSICIANS     \n",
              "9   0446162697 ASSOCIATION OF UNIVERSITY PHYSICIANS     \n",
              "10  0446162697 ASSOCIATION OF UNIVERSITY PHYSICIANS     \n",
              "11  0446162697 ASSOCIATION OF UNIVERSITY PHYSICIANS     \n",
              "12  0446162697 ASSOCIATION OF UNIVERSITY PHYSICIANS     \n",
              "13  0547164295 BEAVER MEDICAL GROUP PC                  \n",
              "14  0547164295 BEAVER MEDICAL GROUP PC                  \n",
              "15  0547164295 BEAVER MEDICAL GROUP PC                  \n",
              "16  0547164295 BEAVER MEDICAL GROUP PC                  \n",
              "17  0547164295 BEAVER MEDICAL GROUP PC                  \n",
              "18  0547164295 BEAVER MEDICAL GROUP PC                  \n",
              "19  0749333730 CAPE PHYSICIANS ASSOCIATES PA            \n",
              "20  0749333730 CAPE PHYSICIANS ASSOCIATES PA            \n",
              "21  0749333730 CAPE PHYSICIANS ASSOCIATES PA            \n",
              "22  0749333730 CAPE PHYSICIANS ASSOCIATES PA            \n",
              "23  0749333730 CAPE PHYSICIANS ASSOCIATES PA            \n",
              "24  0749333730 CAPE PHYSICIANS ASSOCIATES PA            \n",
              "25  0840104360 ALLIANCE PHYSICIANS INC                  \n",
              "26  0840104360 ALLIANCE PHYSICIANS INC                  \n",
              "27  0840104360 ALLIANCE PHYSICIANS INC                  \n",
              "28  0840104360 ALLIANCE PHYSICIANS INC                  \n",
              "29  0840104360 ALLIANCE PHYSICIANS INC                  \n",
              "30  0840104360 ALLIANCE PHYSICIANS INC                  \n",
              "⋮   ⋮          ⋮                                        \n",
              "471 9638491574 SCL HEALTH MEDICAL GROUP - BILLINGS LLC  \n",
              "472 9638491574 SCL HEALTH MEDICAL GROUP - BILLINGS LLC  \n",
              "473 9638491574 SCL HEALTH MEDICAL GROUP - BILLINGS LLC  \n",
              "474 9638491574 SCL HEALTH MEDICAL GROUP - BILLINGS LLC  \n",
              "475 9638491574 SCL HEALTH MEDICAL GROUP - BILLINGS LLC  \n",
              "476 9830002617 VIRGINIA MASON MEDICAL CENTER            \n",
              "477 9830002617 VIRGINIA MASON MEDICAL CENTER            \n",
              "478 9830002617 VIRGINIA MASON MEDICAL CENTER            \n",
              "479 9830002617 VIRGINIA MASON MEDICAL CENTER            \n",
              "480 9830002617 VIRGINIA MASON MEDICAL CENTER            \n",
              "481 9830008770 WASHINGTON UNIVERSITY                    \n",
              "482 9830008770 WASHINGTON UNIVERSITY                    \n",
              "483 9830008770 WASHINGTON UNIVERSITY                    \n",
              "484 9830008770 WASHINGTON UNIVERSITY                    \n",
              "485 9830008770 WASHINGTON UNIVERSITY                    \n",
              "486 9830093640 COOPERATIVE HEALTHCARE SERVICES, INC.    \n",
              "487 9830093640 COOPERATIVE HEALTHCARE SERVICES, INC.    \n",
              "488 9830093640 COOPERATIVE HEALTHCARE SERVICES, INC.    \n",
              "489 9830093640 COOPERATIVE HEALTHCARE SERVICES, INC.    \n",
              "490 9830093640 COOPERATIVE HEALTHCARE SERVICES, INC.    \n",
              "491 9830094515 SUTTER VALLEY MEDICAL FOUNDATION         \n",
              "492 9830094515 SUTTER VALLEY MEDICAL FOUNDATION         \n",
              "493 9830094515 SUTTER VALLEY MEDICAL FOUNDATION         \n",
              "494 9830094515 SUTTER VALLEY MEDICAL FOUNDATION         \n",
              "495 9830094515 SUTTER VALLEY MEDICAL FOUNDATION         \n",
              "496 9931011434 PATIENT FIRST RICHMOND MEDICAL GROUP PLLC\n",
              "497 9931011434 PATIENT FIRST RICHMOND MEDICAL GROUP PLLC\n",
              "498 9931011434 PATIENT FIRST RICHMOND MEDICAL GROUP PLLC\n",
              "499 9931011434 PATIENT FIRST RICHMOND MEDICAL GROUP PLLC\n",
              "500 9931011434 PATIENT FIRST RICHMOND MEDICAL GROUP PLLC\n",
              "    measure_title                                                         \n",
              "1   CAHPS for MIPS SSM: Getting Timely Care, Appointments, and Information\n",
              "2   CAHPS for MIPS SSM: How Well Providers Communicate                    \n",
              "3   CAHPS for MIPS SSM: Patient's Rating of Provider                      \n",
              "4   CAHPS for MIPS SSM: Health Promotion and Education                    \n",
              "5   CAHPS for MIPS SSM: Courteous and Helpful Office Staff                \n",
              "6   CAHPS for MIPS SSM: Stewardship of Patient Resources                  \n",
              "7   CAHPS for MIPS SSM: Getting Timely Care, Appointments, and Information\n",
              "8   CAHPS for MIPS SSM: How Well Providers Communicate                    \n",
              "9   CAHPS for MIPS SSM: Patient's Rating of Provider                      \n",
              "10  CAHPS for MIPS SSM: Health Promotion and Education                    \n",
              "11  CAHPS for MIPS SSM: Courteous and Helpful Office Staff                \n",
              "12  CAHPS for MIPS SSM: Stewardship of Patient Resources                  \n",
              "13  CAHPS for MIPS SSM: Getting Timely Care, Appointments, and Information\n",
              "14  CAHPS for MIPS SSM: How Well Providers Communicate                    \n",
              "15  CAHPS for MIPS SSM: Patient's Rating of Provider                      \n",
              "16  CAHPS for MIPS SSM: Health Promotion and Education                    \n",
              "17  CAHPS for MIPS SSM: Courteous and Helpful Office Staff                \n",
              "18  CAHPS for MIPS SSM: Stewardship of Patient Resources                  \n",
              "19  CAHPS for MIPS SSM: Getting Timely Care, Appointments, and Information\n",
              "20  CAHPS for MIPS SSM: How Well Providers Communicate                    \n",
              "21  CAHPS for MIPS SSM: Patient's Rating of Provider                      \n",
              "22  CAHPS for MIPS SSM: Health Promotion and Education                    \n",
              "23  CAHPS for MIPS SSM: Courteous and Helpful Office Staff                \n",
              "24  CAHPS for MIPS SSM: Stewardship of Patient Resources                  \n",
              "25  CAHPS for MIPS SSM: Getting Timely Care, Appointments, and Information\n",
              "26  CAHPS for MIPS SSM: How Well Providers Communicate                    \n",
              "27  CAHPS for MIPS SSM: Patient's Rating of Provider                      \n",
              "28  CAHPS for MIPS SSM: Health Promotion and Education                    \n",
              "29  CAHPS for MIPS SSM: Courteous and Helpful Office Staff                \n",
              "30  CAHPS for MIPS SSM: Stewardship of Patient Resources                  \n",
              "⋮   ⋮                                                                     \n",
              "471 CAHPS for MIPS SSM: Getting Timely Care, Appointments, and Information\n",
              "472 CAHPS for MIPS SSM: How Well Providers Communicate                    \n",
              "473 CAHPS for MIPS SSM: Patient's Rating of Provider                      \n",
              "474 CAHPS for MIPS SSM: Health Promotion and Education                    \n",
              "475 CAHPS for MIPS SSM: Stewardship of Patient Resources                  \n",
              "476 CAHPS for MIPS SSM: Getting Timely Care, Appointments, and Information\n",
              "477 CAHPS for MIPS SSM: How Well Providers Communicate                    \n",
              "478 CAHPS for MIPS SSM: Patient's Rating of Provider                      \n",
              "479 CAHPS for MIPS SSM: Health Promotion and Education                    \n",
              "480 CAHPS for MIPS SSM: Stewardship of Patient Resources                  \n",
              "481 CAHPS for MIPS SSM: Getting Timely Care, Appointments, and Information\n",
              "482 CAHPS for MIPS SSM: How Well Providers Communicate                    \n",
              "483 CAHPS for MIPS SSM: Patient's Rating of Provider                      \n",
              "484 CAHPS for MIPS SSM: Health Promotion and Education                    \n",
              "485 CAHPS for MIPS SSM: Stewardship of Patient Resources                  \n",
              "486 CAHPS for MIPS SSM: Getting Timely Care, Appointments, and Information\n",
              "487 CAHPS for MIPS SSM: How Well Providers Communicate                    \n",
              "488 CAHPS for MIPS SSM: Patient's Rating of Provider                      \n",
              "489 CAHPS for MIPS SSM: Health Promotion and Education                    \n",
              "490 CAHPS for MIPS SSM: Stewardship of Patient Resources                  \n",
              "491 CAHPS for MIPS SSM: Getting Timely Care, Appointments, and Information\n",
              "492 CAHPS for MIPS SSM: How Well Providers Communicate                    \n",
              "493 CAHPS for MIPS SSM: Patient's Rating of Provider                      \n",
              "494 CAHPS for MIPS SSM: Health Promotion and Education                    \n",
              "495 CAHPS for MIPS SSM: Stewardship of Patient Resources                  \n",
              "496 CAHPS for MIPS SSM: Getting Timely Care, Appointments, and Information\n",
              "497 CAHPS for MIPS SSM: How Well Providers Communicate                    \n",
              "498 CAHPS for MIPS SSM: Patient's Rating of Provider                      \n",
              "499 CAHPS for MIPS SSM: Health Promotion and Education                    \n",
              "500 CAHPS for MIPS SSM: Stewardship of Patient Resources                  \n",
              "    CAHPS_GRP_1 CAHPS_GRP_2 CAHPS_GRP_3 CAHPS_GRP_5 CAHPS_GRP_8 CAHPS_GRP_12\n",
              "1   63          NA          NA          NA          NA          NA          \n",
              "2   NA          87          NA          NA          NA          NA          \n",
              "3   NA          NA          86          NA          NA          NA          \n",
              "4   NA          NA          NA          57          NA          NA          \n",
              "5   NA          NA          NA          NA          85          NA          \n",
              "6   NA          NA          NA          NA          NA          24          \n",
              "7   59          NA          NA          NA          NA          NA          \n",
              "8   NA          85          NA          NA          NA          NA          \n",
              "9   NA          NA          83          NA          NA          NA          \n",
              "10  NA          NA          NA          63          NA          NA          \n",
              "11  NA          NA          NA          NA          88          NA          \n",
              "12  NA          NA          NA          NA          NA          22          \n",
              "13  49          NA          NA          NA          NA          NA          \n",
              "14  NA          NA          NA          NA          NA          NA          \n",
              "15  NA          NA          75          NA          NA          NA          \n",
              "16  NA          NA          NA          44          NA          NA          \n",
              "17  NA          NA          NA          NA          73          NA          \n",
              "18  NA          NA          NA          NA          NA          12          \n",
              "19  67          NA          NA          NA          NA          NA          \n",
              "20  NA          84          NA          NA          NA          NA          \n",
              "21  NA          NA          85          NA          NA          NA          \n",
              "22  NA          NA          NA          65          NA          NA          \n",
              "23  NA          NA          NA          NA          82          NA          \n",
              "24  NA          NA          NA          NA          NA          24          \n",
              "25  66          NA          NA          NA          NA          NA          \n",
              "26  NA          87          NA          NA          NA          NA          \n",
              "27  NA          NA          87          NA          NA          NA          \n",
              "28  NA          NA          NA          64          NA          NA          \n",
              "29  NA          NA          NA          NA          87          NA          \n",
              "30  NA          NA          NA          NA          NA          28          \n",
              "⋮   ⋮           ⋮           ⋮           ⋮           ⋮           ⋮           \n",
              "471 61          NA          NA          NA          NA          NA          \n",
              "472 NA          84          NA          NA          NA          NA          \n",
              "473 NA          NA          82          NA          NA          NA          \n",
              "474 NA          NA          NA          67          NA          NA          \n",
              "475 NA          NA          NA          NA          NA          24          \n",
              "476 55          NA          NA          NA          NA          NA          \n",
              "477 NA          81          NA          NA          NA          NA          \n",
              "478 NA          NA          80          NA          NA          NA          \n",
              "479 NA          NA          NA          62          NA          NA          \n",
              "480 NA          NA          NA          NA          NA          20          \n",
              "481 65          NA          NA          NA          NA          NA          \n",
              "482 NA          NA          NA          NA          NA          NA          \n",
              "483 NA          NA          NA          NA          NA          NA          \n",
              "484 NA          NA          NA          61          NA          NA          \n",
              "485 NA          NA          NA          NA          NA          28          \n",
              "486 65          NA          NA          NA          NA          NA          \n",
              "487 NA          87          NA          NA          NA          NA          \n",
              "488 NA          NA          78          NA          NA          NA          \n",
              "489 NA          NA          NA          52          NA          NA          \n",
              "490 NA          NA          NA          NA          NA          25          \n",
              "491 60          NA          NA          NA          NA          NA          \n",
              "492 NA          NA          NA          NA          NA          NA          \n",
              "493 NA          NA          88          NA          NA          NA          \n",
              "494 NA          NA          NA          55          NA          NA          \n",
              "495 NA          NA          NA          NA          NA          24          \n",
              "496 80          NA          NA          NA          NA          NA          \n",
              "497 NA          NA          NA          NA          NA          NA          \n",
              "498 NA          NA          NA          NA          NA          NA          \n",
              "499 NA          NA          NA          45          NA          NA          \n",
              "500 NA          NA          NA          NA          NA          19          "
            ]
          },
          "metadata": {}
        }
      ]
    },
    {
      "cell_type": "markdown",
      "source": [
        "We still seem to have multiple rows for each organization. That's because, we also need to tell `pivot_wider()` which column or columns have values that uniquely identify each row; in this case those are variables starting with \"org\":"
      ],
      "metadata": {
        "id": "3I-FRX6Vdf1d"
      }
    },
    {
      "cell_type": "code",
      "source": [
        "cms_patient_experience |>\n",
        "  pivot_wider(\n",
        "    id_cols = starts_with(\"org\"),\n",
        "    names_from = measure_cd,\n",
        "    values_from = prf_rate\n",
        "  )"
      ],
      "metadata": {
        "colab": {
          "base_uri": "https://localhost:8080/",
          "height": 1000
        },
        "id": "NTMKpmLMdyxs",
        "outputId": "2c0bebf3-8985-45f4-9a99-d2e74616ed5b"
      },
      "execution_count": 5,
      "outputs": [
        {
          "output_type": "display_data",
          "data": {
            "text/html": [
              "<table class=\"dataframe\">\n",
              "<caption>A tibble: 95 × 8</caption>\n",
              "<thead>\n",
              "\t<tr><th scope=col>org_pac_id</th><th scope=col>org_nm</th><th scope=col>CAHPS_GRP_1</th><th scope=col>CAHPS_GRP_2</th><th scope=col>CAHPS_GRP_3</th><th scope=col>CAHPS_GRP_5</th><th scope=col>CAHPS_GRP_8</th><th scope=col>CAHPS_GRP_12</th></tr>\n",
              "\t<tr><th scope=col>&lt;chr&gt;</th><th scope=col>&lt;chr&gt;</th><th scope=col>&lt;dbl&gt;</th><th scope=col>&lt;dbl&gt;</th><th scope=col>&lt;dbl&gt;</th><th scope=col>&lt;dbl&gt;</th><th scope=col>&lt;dbl&gt;</th><th scope=col>&lt;dbl&gt;</th></tr>\n",
              "</thead>\n",
              "<tbody>\n",
              "\t<tr><td>0446157747</td><td>USC CARE MEDICAL GROUP INC                                    </td><td>63</td><td>87</td><td>86</td><td>57</td><td>85</td><td>24</td></tr>\n",
              "\t<tr><td>0446162697</td><td>ASSOCIATION OF UNIVERSITY PHYSICIANS                          </td><td>59</td><td>85</td><td>83</td><td>63</td><td>88</td><td>22</td></tr>\n",
              "\t<tr><td>0547164295</td><td>BEAVER MEDICAL GROUP PC                                       </td><td>49</td><td>NA</td><td>75</td><td>44</td><td>73</td><td>12</td></tr>\n",
              "\t<tr><td>0749333730</td><td>CAPE PHYSICIANS ASSOCIATES PA                                 </td><td>67</td><td>84</td><td>85</td><td>65</td><td>82</td><td>24</td></tr>\n",
              "\t<tr><td>0840104360</td><td>ALLIANCE PHYSICIANS INC                                       </td><td>66</td><td>87</td><td>87</td><td>64</td><td>87</td><td>28</td></tr>\n",
              "\t<tr><td>0840109864</td><td>REX HOSPITAL INC                                              </td><td>73</td><td>87</td><td>84</td><td>67</td><td>91</td><td>30</td></tr>\n",
              "\t<tr><td>0840513552</td><td>SCL HEALTH MEDICAL GROUP DENVER LLC                           </td><td>58</td><td>83</td><td>76</td><td>58</td><td>78</td><td>26</td></tr>\n",
              "\t<tr><td>0941545784</td><td>GRITMAN MEDICAL CENTER INC                                    </td><td>46</td><td>86</td><td>81</td><td>54</td><td>NA</td><td>25</td></tr>\n",
              "\t<tr><td>1052612785</td><td>COMMUNITY MEDICAL GROUP LLC                                   </td><td>65</td><td>84</td><td>80</td><td>58</td><td>87</td><td>29</td></tr>\n",
              "\t<tr><td>1254237779</td><td>OUR LADY OF LOURDES MEMORIAL HOSPITAL, INC                    </td><td>61</td><td>NA</td><td>NA</td><td>65</td><td>NA</td><td>17</td></tr>\n",
              "\t<tr><td>1557267069</td><td>ST MARYS HOSPITAL AND MEDICAL CENTER INC                      </td><td>NA</td><td>NA</td><td>NA</td><td>NA</td><td>NA</td><td>NA</td></tr>\n",
              "\t<tr><td>1759293111</td><td>ALBANY MEDICAL COLLEGE                                        </td><td>65</td><td>86</td><td>81</td><td>62</td><td>76</td><td>17</td></tr>\n",
              "\t<tr><td>1759293954</td><td>GROUP HEALTH PLAN INC                                         </td><td>60</td><td>89</td><td>86</td><td>58</td><td>88</td><td>13</td></tr>\n",
              "\t<tr><td>1759392079</td><td>OHH PHYSICIANS LLC                                            </td><td>75</td><td>NA</td><td>86</td><td>55</td><td>89</td><td>19</td></tr>\n",
              "\t<tr><td>2163417478</td><td>UNITED REGIONAL PHYSICIAN GROUP                               </td><td>63</td><td>NA</td><td>76</td><td>60</td><td>84</td><td>20</td></tr>\n",
              "\t<tr><td>2264345206</td><td>MARSHFIELD CLINIC INC                                         </td><td>56</td><td>83</td><td>80</td><td>65</td><td>81</td><td>17</td></tr>\n",
              "\t<tr><td>2365352820</td><td>SIU PHYSICIANS AND SURGEONS INC                               </td><td>NA</td><td>NA</td><td>85</td><td>60</td><td>81</td><td>24</td></tr>\n",
              "\t<tr><td>2466351481</td><td>CHRISTIANA CARE HEALTH INITIATIVES                            </td><td>68</td><td>NA</td><td>86</td><td>74</td><td>NA</td><td>NA</td></tr>\n",
              "\t<tr><td>2466356209</td><td>HARBOR MEDICAL ASSOCIATES INC                                 </td><td>57</td><td>87</td><td>85</td><td>67</td><td>82</td><td>16</td></tr>\n",
              "\t<tr><td>2466633102</td><td>SCL HEALTH MEDICAL GROUP - BUTTE LLC                          </td><td>66</td><td>NA</td><td>NA</td><td>54</td><td>83</td><td>NA</td></tr>\n",
              "\t<tr><td>2860304334</td><td>BOARD OF REGENTS OF THE UNIVERSITY OF OKLAHOMA - OU PHYSICIANS</td><td>69</td><td>91</td><td>89</td><td>64</td><td>87</td><td>27</td></tr>\n",
              "\t<tr><td>2860392529</td><td>CAMPBELL COUNTY HOSPITAL DISTRICT                             </td><td>64</td><td>82</td><td>80</td><td>56</td><td>84</td><td>30</td></tr>\n",
              "\t<tr><td>2860396330</td><td>SUMMIT MEDICAL GROUP PLLC                                     </td><td>70</td><td>88</td><td>86</td><td>64</td><td>84</td><td>27</td></tr>\n",
              "\t<tr><td>3072422716</td><td>THE BOARD OF TRUSTEES OF THE UNIVERSITY OF ILLINOIS           </td><td>NA</td><td>NA</td><td>86</td><td>NA</td><td>NA</td><td>NA</td></tr>\n",
              "\t<tr><td>3173436490</td><td>THE VANCOUVER CLINIC INC PS                                   </td><td>60</td><td>85</td><td>82</td><td>57</td><td>83</td><td>21</td></tr>\n",
              "\t<tr><td>3173660776</td><td>WESTCHESTER MEDICAL CENTER ADVANCED PHYSICIAN SERVICES PC     </td><td>72</td><td>88</td><td>85</td><td>59</td><td>NA</td><td>21</td></tr>\n",
              "\t<tr><td>3375456734</td><td>UTMB FACULTY GROUP PRACTICE                                   </td><td>NA</td><td>NA</td><td>NA</td><td>59</td><td>NA</td><td>24</td></tr>\n",
              "\t<tr><td>3476725599</td><td>UNIVERSITY OF LOUISVILLE PHYSICIANS, INC                      </td><td>69</td><td>90</td><td>86</td><td>59</td><td>NA</td><td>29</td></tr>\n",
              "\t<tr><td>3779751656</td><td>CITY OF HOPE MEDICAL FOUNDATION                               </td><td>72</td><td>87</td><td>86</td><td>53</td><td>NA</td><td>19</td></tr>\n",
              "\t<tr><td>3870405988</td><td>BRIGHAM AND WOMENS PHYSICIANS ORGANIZATION INC                </td><td>65</td><td>88</td><td>80</td><td>67</td><td>NA</td><td>18</td></tr>\n",
              "\t<tr><td>⋮</td><td>⋮</td><td>⋮</td><td>⋮</td><td>⋮</td><td>⋮</td><td>⋮</td><td>⋮</td></tr>\n",
              "\t<tr><td>7214936533</td><td>BEND MEMORIAL CLINIC PC                                              </td><td>57</td><td>85</td><td>76</td><td>63</td><td>NA</td><td>25</td></tr>\n",
              "\t<tr><td>7618270729</td><td>RMH MEDICAL GROUP LLC                                                </td><td>61</td><td>84</td><td>81</td><td>57</td><td>NA</td><td>21</td></tr>\n",
              "\t<tr><td>7618861105</td><td>MERCY HOSPITAL AND MEDICAL CENTER                                    </td><td>61</td><td>85</td><td>76</td><td>63</td><td>NA</td><td>21</td></tr>\n",
              "\t<tr><td>7618871799</td><td>LEXINGTON COUNTY HEALTH SERVICES DISTRICT INC                        </td><td>73</td><td>88</td><td>87</td><td>53</td><td>NA</td><td>22</td></tr>\n",
              "\t<tr><td>7618880097</td><td>KING COUNTY PUBLIC HOSPITAL DISTRICT NO 2                            </td><td>57</td><td>89</td><td>83</td><td>59</td><td>NA</td><td>19</td></tr>\n",
              "\t<tr><td>7719876267</td><td>SIGNATURE HEALTHCARE MEDICAL GROUP INC                               </td><td>60</td><td>82</td><td>78</td><td>63</td><td>NA</td><td>17</td></tr>\n",
              "\t<tr><td>7911801410</td><td>PHYSICIANS REFERRAL SERVICE                                          </td><td>76</td><td>NA</td><td>96</td><td>NA</td><td>NA</td><td>NA</td></tr>\n",
              "\t<tr><td>7911816020</td><td>TRINITY HEALTH                                                       </td><td>58</td><td>83</td><td>75</td><td>59</td><td>NA</td><td>23</td></tr>\n",
              "\t<tr><td>8022904473</td><td>COMMUNITY CARE PHYSICIANS PC                                         </td><td>67</td><td>85</td><td>81</td><td>61</td><td>NA</td><td>18</td></tr>\n",
              "\t<tr><td>8123200540</td><td>STERN CARDIOVASCULAR FOUNDATION, INC                                 </td><td>69</td><td>87</td><td>85</td><td>54</td><td>NA</td><td>30</td></tr>\n",
              "\t<tr><td>8325952914</td><td>LAKELAND REGIONAL HEALTH SYSTEMS INC                                 </td><td>62</td><td>80</td><td>78</td><td>65</td><td>NA</td><td>21</td></tr>\n",
              "\t<tr><td>8426112350</td><td>PHOEBE PHYSICIAN GROUP INC                                           </td><td>64</td><td>NA</td><td>85</td><td>53</td><td>NA</td><td>16</td></tr>\n",
              "\t<tr><td>8426113663</td><td>CHESAPEAKE REGIONAL MEDICAL GROUP                                    </td><td>69</td><td>84</td><td>82</td><td>64</td><td>NA</td><td>23</td></tr>\n",
              "\t<tr><td>8426136797</td><td>MOUNT NITTANY MEDICAL CENTER HEALTH SERVICES INC                     </td><td>71</td><td>90</td><td>88</td><td>62</td><td>NA</td><td>26</td></tr>\n",
              "\t<tr><td>8426231119</td><td>VIRGINIA HOSPITAL CENTER PHYSICIAN GROUP LLC                         </td><td>56</td><td>85</td><td>80</td><td>61</td><td>NA</td><td>16</td></tr>\n",
              "\t<tr><td>8527044551</td><td>MICHIGAN PRIMARY CARE PARTNERS P C                                   </td><td>NA</td><td>NA</td><td>NA</td><td>NA</td><td>NA</td><td>NA</td></tr>\n",
              "\t<tr><td>8628073236</td><td>PHYSICIAN PRIMECARE, INC                                             </td><td>62</td><td>88</td><td>88</td><td>58</td><td>NA</td><td>22</td></tr>\n",
              "\t<tr><td>8729072418</td><td>SACRED HEART HOSPITAL OF THE HOSPITAL SISTERS-3RD ORDER OF ST FRANCIS</td><td>75</td><td>88</td><td>86</td><td>57</td><td>NA</td><td>NA</td></tr>\n",
              "\t<tr><td>8729139852</td><td>ALBEMARLE PHYSICIAN SERVICES- SENTARA INC                            </td><td>NA</td><td>NA</td><td>NA</td><td>NA</td><td>NA</td><td>NA</td></tr>\n",
              "\t<tr><td>8729351077</td><td>PENN STATE HEALTH COMMUNITY MEDICAL GROUP, LLC                       </td><td>70</td><td>90</td><td>87</td><td>64</td><td>NA</td><td>32</td></tr>\n",
              "\t<tr><td>9032125810</td><td>OPTUMCARE NEW MEXICO, LLC                                            </td><td>51</td><td>NA</td><td>79</td><td>47</td><td>NA</td><td>15</td></tr>\n",
              "\t<tr><td>9133024334</td><td>SOUTHEAST MISSOURI HOSPITAL PHYSICIANS LLC                           </td><td>77</td><td>88</td><td>84</td><td>53</td><td>NA</td><td>26</td></tr>\n",
              "\t<tr><td>9133378870</td><td>NORTH OAKS PHYSICIAN GROUP, LLC                                      </td><td>69</td><td>89</td><td>89</td><td>63</td><td>NA</td><td>22</td></tr>\n",
              "\t<tr><td>9234041708</td><td>PRESBYTERIAN HEALTHCARE SERVICES                                     </td><td>NA</td><td>NA</td><td>NA</td><td>60</td><td>NA</td><td>16</td></tr>\n",
              "\t<tr><td>9638491574</td><td>SCL HEALTH MEDICAL GROUP - BILLINGS LLC                              </td><td>61</td><td>84</td><td>82</td><td>67</td><td>NA</td><td>24</td></tr>\n",
              "\t<tr><td>9830002617</td><td>VIRGINIA MASON MEDICAL CENTER                                        </td><td>55</td><td>81</td><td>80</td><td>62</td><td>NA</td><td>20</td></tr>\n",
              "\t<tr><td>9830008770</td><td>WASHINGTON UNIVERSITY                                                </td><td>65</td><td>NA</td><td>NA</td><td>61</td><td>NA</td><td>28</td></tr>\n",
              "\t<tr><td>9830093640</td><td>COOPERATIVE HEALTHCARE SERVICES, INC.                                </td><td>65</td><td>87</td><td>78</td><td>52</td><td>NA</td><td>25</td></tr>\n",
              "\t<tr><td>9830094515</td><td>SUTTER VALLEY MEDICAL FOUNDATION                                     </td><td>60</td><td>NA</td><td>88</td><td>55</td><td>NA</td><td>24</td></tr>\n",
              "\t<tr><td>9931011434</td><td>PATIENT FIRST RICHMOND MEDICAL GROUP PLLC                            </td><td>80</td><td>NA</td><td>NA</td><td>45</td><td>NA</td><td>19</td></tr>\n",
              "</tbody>\n",
              "</table>\n"
            ],
            "text/markdown": "\nA tibble: 95 × 8\n\n| org_pac_id &lt;chr&gt; | org_nm &lt;chr&gt; | CAHPS_GRP_1 &lt;dbl&gt; | CAHPS_GRP_2 &lt;dbl&gt; | CAHPS_GRP_3 &lt;dbl&gt; | CAHPS_GRP_5 &lt;dbl&gt; | CAHPS_GRP_8 &lt;dbl&gt; | CAHPS_GRP_12 &lt;dbl&gt; |\n|---|---|---|---|---|---|---|---|\n| 0446157747 | USC CARE MEDICAL GROUP INC                                     | 63 | 87 | 86 | 57 | 85 | 24 |\n| 0446162697 | ASSOCIATION OF UNIVERSITY PHYSICIANS                           | 59 | 85 | 83 | 63 | 88 | 22 |\n| 0547164295 | BEAVER MEDICAL GROUP PC                                        | 49 | NA | 75 | 44 | 73 | 12 |\n| 0749333730 | CAPE PHYSICIANS ASSOCIATES PA                                  | 67 | 84 | 85 | 65 | 82 | 24 |\n| 0840104360 | ALLIANCE PHYSICIANS INC                                        | 66 | 87 | 87 | 64 | 87 | 28 |\n| 0840109864 | REX HOSPITAL INC                                               | 73 | 87 | 84 | 67 | 91 | 30 |\n| 0840513552 | SCL HEALTH MEDICAL GROUP DENVER LLC                            | 58 | 83 | 76 | 58 | 78 | 26 |\n| 0941545784 | GRITMAN MEDICAL CENTER INC                                     | 46 | 86 | 81 | 54 | NA | 25 |\n| 1052612785 | COMMUNITY MEDICAL GROUP LLC                                    | 65 | 84 | 80 | 58 | 87 | 29 |\n| 1254237779 | OUR LADY OF LOURDES MEMORIAL HOSPITAL, INC                     | 61 | NA | NA | 65 | NA | 17 |\n| 1557267069 | ST MARYS HOSPITAL AND MEDICAL CENTER INC                       | NA | NA | NA | NA | NA | NA |\n| 1759293111 | ALBANY MEDICAL COLLEGE                                         | 65 | 86 | 81 | 62 | 76 | 17 |\n| 1759293954 | GROUP HEALTH PLAN INC                                          | 60 | 89 | 86 | 58 | 88 | 13 |\n| 1759392079 | OHH PHYSICIANS LLC                                             | 75 | NA | 86 | 55 | 89 | 19 |\n| 2163417478 | UNITED REGIONAL PHYSICIAN GROUP                                | 63 | NA | 76 | 60 | 84 | 20 |\n| 2264345206 | MARSHFIELD CLINIC INC                                          | 56 | 83 | 80 | 65 | 81 | 17 |\n| 2365352820 | SIU PHYSICIANS AND SURGEONS INC                                | NA | NA | 85 | 60 | 81 | 24 |\n| 2466351481 | CHRISTIANA CARE HEALTH INITIATIVES                             | 68 | NA | 86 | 74 | NA | NA |\n| 2466356209 | HARBOR MEDICAL ASSOCIATES INC                                  | 57 | 87 | 85 | 67 | 82 | 16 |\n| 2466633102 | SCL HEALTH MEDICAL GROUP - BUTTE LLC                           | 66 | NA | NA | 54 | 83 | NA |\n| 2860304334 | BOARD OF REGENTS OF THE UNIVERSITY OF OKLAHOMA - OU PHYSICIANS | 69 | 91 | 89 | 64 | 87 | 27 |\n| 2860392529 | CAMPBELL COUNTY HOSPITAL DISTRICT                              | 64 | 82 | 80 | 56 | 84 | 30 |\n| 2860396330 | SUMMIT MEDICAL GROUP PLLC                                      | 70 | 88 | 86 | 64 | 84 | 27 |\n| 3072422716 | THE BOARD OF TRUSTEES OF THE UNIVERSITY OF ILLINOIS            | NA | NA | 86 | NA | NA | NA |\n| 3173436490 | THE VANCOUVER CLINIC INC PS                                    | 60 | 85 | 82 | 57 | 83 | 21 |\n| 3173660776 | WESTCHESTER MEDICAL CENTER ADVANCED PHYSICIAN SERVICES PC      | 72 | 88 | 85 | 59 | NA | 21 |\n| 3375456734 | UTMB FACULTY GROUP PRACTICE                                    | NA | NA | NA | 59 | NA | 24 |\n| 3476725599 | UNIVERSITY OF LOUISVILLE PHYSICIANS, INC                       | 69 | 90 | 86 | 59 | NA | 29 |\n| 3779751656 | CITY OF HOPE MEDICAL FOUNDATION                                | 72 | 87 | 86 | 53 | NA | 19 |\n| 3870405988 | BRIGHAM AND WOMENS PHYSICIANS ORGANIZATION INC                 | 65 | 88 | 80 | 67 | NA | 18 |\n| ⋮ | ⋮ | ⋮ | ⋮ | ⋮ | ⋮ | ⋮ | ⋮ |\n| 7214936533 | BEND MEMORIAL CLINIC PC                                               | 57 | 85 | 76 | 63 | NA | 25 |\n| 7618270729 | RMH MEDICAL GROUP LLC                                                 | 61 | 84 | 81 | 57 | NA | 21 |\n| 7618861105 | MERCY HOSPITAL AND MEDICAL CENTER                                     | 61 | 85 | 76 | 63 | NA | 21 |\n| 7618871799 | LEXINGTON COUNTY HEALTH SERVICES DISTRICT INC                         | 73 | 88 | 87 | 53 | NA | 22 |\n| 7618880097 | KING COUNTY PUBLIC HOSPITAL DISTRICT NO 2                             | 57 | 89 | 83 | 59 | NA | 19 |\n| 7719876267 | SIGNATURE HEALTHCARE MEDICAL GROUP INC                                | 60 | 82 | 78 | 63 | NA | 17 |\n| 7911801410 | PHYSICIANS REFERRAL SERVICE                                           | 76 | NA | 96 | NA | NA | NA |\n| 7911816020 | TRINITY HEALTH                                                        | 58 | 83 | 75 | 59 | NA | 23 |\n| 8022904473 | COMMUNITY CARE PHYSICIANS PC                                          | 67 | 85 | 81 | 61 | NA | 18 |\n| 8123200540 | STERN CARDIOVASCULAR FOUNDATION, INC                                  | 69 | 87 | 85 | 54 | NA | 30 |\n| 8325952914 | LAKELAND REGIONAL HEALTH SYSTEMS INC                                  | 62 | 80 | 78 | 65 | NA | 21 |\n| 8426112350 | PHOEBE PHYSICIAN GROUP INC                                            | 64 | NA | 85 | 53 | NA | 16 |\n| 8426113663 | CHESAPEAKE REGIONAL MEDICAL GROUP                                     | 69 | 84 | 82 | 64 | NA | 23 |\n| 8426136797 | MOUNT NITTANY MEDICAL CENTER HEALTH SERVICES INC                      | 71 | 90 | 88 | 62 | NA | 26 |\n| 8426231119 | VIRGINIA HOSPITAL CENTER PHYSICIAN GROUP LLC                          | 56 | 85 | 80 | 61 | NA | 16 |\n| 8527044551 | MICHIGAN PRIMARY CARE PARTNERS P C                                    | NA | NA | NA | NA | NA | NA |\n| 8628073236 | PHYSICIAN PRIMECARE, INC                                              | 62 | 88 | 88 | 58 | NA | 22 |\n| 8729072418 | SACRED HEART HOSPITAL OF THE HOSPITAL SISTERS-3RD ORDER OF ST FRANCIS | 75 | 88 | 86 | 57 | NA | NA |\n| 8729139852 | ALBEMARLE PHYSICIAN SERVICES- SENTARA INC                             | NA | NA | NA | NA | NA | NA |\n| 8729351077 | PENN STATE HEALTH COMMUNITY MEDICAL GROUP, LLC                        | 70 | 90 | 87 | 64 | NA | 32 |\n| 9032125810 | OPTUMCARE NEW MEXICO, LLC                                             | 51 | NA | 79 | 47 | NA | 15 |\n| 9133024334 | SOUTHEAST MISSOURI HOSPITAL PHYSICIANS LLC                            | 77 | 88 | 84 | 53 | NA | 26 |\n| 9133378870 | NORTH OAKS PHYSICIAN GROUP, LLC                                       | 69 | 89 | 89 | 63 | NA | 22 |\n| 9234041708 | PRESBYTERIAN HEALTHCARE SERVICES                                      | NA | NA | NA | 60 | NA | 16 |\n| 9638491574 | SCL HEALTH MEDICAL GROUP - BILLINGS LLC                               | 61 | 84 | 82 | 67 | NA | 24 |\n| 9830002617 | VIRGINIA MASON MEDICAL CENTER                                         | 55 | 81 | 80 | 62 | NA | 20 |\n| 9830008770 | WASHINGTON UNIVERSITY                                                 | 65 | NA | NA | 61 | NA | 28 |\n| 9830093640 | COOPERATIVE HEALTHCARE SERVICES, INC.                                 | 65 | 87 | 78 | 52 | NA | 25 |\n| 9830094515 | SUTTER VALLEY MEDICAL FOUNDATION                                      | 60 | NA | 88 | 55 | NA | 24 |\n| 9931011434 | PATIENT FIRST RICHMOND MEDICAL GROUP PLLC                             | 80 | NA | NA | 45 | NA | 19 |\n\n",
            "text/latex": "A tibble: 95 × 8\n\\begin{tabular}{llllllll}\n org\\_pac\\_id & org\\_nm & CAHPS\\_GRP\\_1 & CAHPS\\_GRP\\_2 & CAHPS\\_GRP\\_3 & CAHPS\\_GRP\\_5 & CAHPS\\_GRP\\_8 & CAHPS\\_GRP\\_12\\\\\n <chr> & <chr> & <dbl> & <dbl> & <dbl> & <dbl> & <dbl> & <dbl>\\\\\n\\hline\n\t 0446157747 & USC CARE MEDICAL GROUP INC                                     & 63 & 87 & 86 & 57 & 85 & 24\\\\\n\t 0446162697 & ASSOCIATION OF UNIVERSITY PHYSICIANS                           & 59 & 85 & 83 & 63 & 88 & 22\\\\\n\t 0547164295 & BEAVER MEDICAL GROUP PC                                        & 49 & NA & 75 & 44 & 73 & 12\\\\\n\t 0749333730 & CAPE PHYSICIANS ASSOCIATES PA                                  & 67 & 84 & 85 & 65 & 82 & 24\\\\\n\t 0840104360 & ALLIANCE PHYSICIANS INC                                        & 66 & 87 & 87 & 64 & 87 & 28\\\\\n\t 0840109864 & REX HOSPITAL INC                                               & 73 & 87 & 84 & 67 & 91 & 30\\\\\n\t 0840513552 & SCL HEALTH MEDICAL GROUP DENVER LLC                            & 58 & 83 & 76 & 58 & 78 & 26\\\\\n\t 0941545784 & GRITMAN MEDICAL CENTER INC                                     & 46 & 86 & 81 & 54 & NA & 25\\\\\n\t 1052612785 & COMMUNITY MEDICAL GROUP LLC                                    & 65 & 84 & 80 & 58 & 87 & 29\\\\\n\t 1254237779 & OUR LADY OF LOURDES MEMORIAL HOSPITAL, INC                     & 61 & NA & NA & 65 & NA & 17\\\\\n\t 1557267069 & ST MARYS HOSPITAL AND MEDICAL CENTER INC                       & NA & NA & NA & NA & NA & NA\\\\\n\t 1759293111 & ALBANY MEDICAL COLLEGE                                         & 65 & 86 & 81 & 62 & 76 & 17\\\\\n\t 1759293954 & GROUP HEALTH PLAN INC                                          & 60 & 89 & 86 & 58 & 88 & 13\\\\\n\t 1759392079 & OHH PHYSICIANS LLC                                             & 75 & NA & 86 & 55 & 89 & 19\\\\\n\t 2163417478 & UNITED REGIONAL PHYSICIAN GROUP                                & 63 & NA & 76 & 60 & 84 & 20\\\\\n\t 2264345206 & MARSHFIELD CLINIC INC                                          & 56 & 83 & 80 & 65 & 81 & 17\\\\\n\t 2365352820 & SIU PHYSICIANS AND SURGEONS INC                                & NA & NA & 85 & 60 & 81 & 24\\\\\n\t 2466351481 & CHRISTIANA CARE HEALTH INITIATIVES                             & 68 & NA & 86 & 74 & NA & NA\\\\\n\t 2466356209 & HARBOR MEDICAL ASSOCIATES INC                                  & 57 & 87 & 85 & 67 & 82 & 16\\\\\n\t 2466633102 & SCL HEALTH MEDICAL GROUP - BUTTE LLC                           & 66 & NA & NA & 54 & 83 & NA\\\\\n\t 2860304334 & BOARD OF REGENTS OF THE UNIVERSITY OF OKLAHOMA - OU PHYSICIANS & 69 & 91 & 89 & 64 & 87 & 27\\\\\n\t 2860392529 & CAMPBELL COUNTY HOSPITAL DISTRICT                              & 64 & 82 & 80 & 56 & 84 & 30\\\\\n\t 2860396330 & SUMMIT MEDICAL GROUP PLLC                                      & 70 & 88 & 86 & 64 & 84 & 27\\\\\n\t 3072422716 & THE BOARD OF TRUSTEES OF THE UNIVERSITY OF ILLINOIS            & NA & NA & 86 & NA & NA & NA\\\\\n\t 3173436490 & THE VANCOUVER CLINIC INC PS                                    & 60 & 85 & 82 & 57 & 83 & 21\\\\\n\t 3173660776 & WESTCHESTER MEDICAL CENTER ADVANCED PHYSICIAN SERVICES PC      & 72 & 88 & 85 & 59 & NA & 21\\\\\n\t 3375456734 & UTMB FACULTY GROUP PRACTICE                                    & NA & NA & NA & 59 & NA & 24\\\\\n\t 3476725599 & UNIVERSITY OF LOUISVILLE PHYSICIANS, INC                       & 69 & 90 & 86 & 59 & NA & 29\\\\\n\t 3779751656 & CITY OF HOPE MEDICAL FOUNDATION                                & 72 & 87 & 86 & 53 & NA & 19\\\\\n\t 3870405988 & BRIGHAM AND WOMENS PHYSICIANS ORGANIZATION INC                 & 65 & 88 & 80 & 67 & NA & 18\\\\\n\t ⋮ & ⋮ & ⋮ & ⋮ & ⋮ & ⋮ & ⋮ & ⋮\\\\\n\t 7214936533 & BEND MEMORIAL CLINIC PC                                               & 57 & 85 & 76 & 63 & NA & 25\\\\\n\t 7618270729 & RMH MEDICAL GROUP LLC                                                 & 61 & 84 & 81 & 57 & NA & 21\\\\\n\t 7618861105 & MERCY HOSPITAL AND MEDICAL CENTER                                     & 61 & 85 & 76 & 63 & NA & 21\\\\\n\t 7618871799 & LEXINGTON COUNTY HEALTH SERVICES DISTRICT INC                         & 73 & 88 & 87 & 53 & NA & 22\\\\\n\t 7618880097 & KING COUNTY PUBLIC HOSPITAL DISTRICT NO 2                             & 57 & 89 & 83 & 59 & NA & 19\\\\\n\t 7719876267 & SIGNATURE HEALTHCARE MEDICAL GROUP INC                                & 60 & 82 & 78 & 63 & NA & 17\\\\\n\t 7911801410 & PHYSICIANS REFERRAL SERVICE                                           & 76 & NA & 96 & NA & NA & NA\\\\\n\t 7911816020 & TRINITY HEALTH                                                        & 58 & 83 & 75 & 59 & NA & 23\\\\\n\t 8022904473 & COMMUNITY CARE PHYSICIANS PC                                          & 67 & 85 & 81 & 61 & NA & 18\\\\\n\t 8123200540 & STERN CARDIOVASCULAR FOUNDATION, INC                                  & 69 & 87 & 85 & 54 & NA & 30\\\\\n\t 8325952914 & LAKELAND REGIONAL HEALTH SYSTEMS INC                                  & 62 & 80 & 78 & 65 & NA & 21\\\\\n\t 8426112350 & PHOEBE PHYSICIAN GROUP INC                                            & 64 & NA & 85 & 53 & NA & 16\\\\\n\t 8426113663 & CHESAPEAKE REGIONAL MEDICAL GROUP                                     & 69 & 84 & 82 & 64 & NA & 23\\\\\n\t 8426136797 & MOUNT NITTANY MEDICAL CENTER HEALTH SERVICES INC                      & 71 & 90 & 88 & 62 & NA & 26\\\\\n\t 8426231119 & VIRGINIA HOSPITAL CENTER PHYSICIAN GROUP LLC                          & 56 & 85 & 80 & 61 & NA & 16\\\\\n\t 8527044551 & MICHIGAN PRIMARY CARE PARTNERS P C                                    & NA & NA & NA & NA & NA & NA\\\\\n\t 8628073236 & PHYSICIAN PRIMECARE, INC                                              & 62 & 88 & 88 & 58 & NA & 22\\\\\n\t 8729072418 & SACRED HEART HOSPITAL OF THE HOSPITAL SISTERS-3RD ORDER OF ST FRANCIS & 75 & 88 & 86 & 57 & NA & NA\\\\\n\t 8729139852 & ALBEMARLE PHYSICIAN SERVICES- SENTARA INC                             & NA & NA & NA & NA & NA & NA\\\\\n\t 8729351077 & PENN STATE HEALTH COMMUNITY MEDICAL GROUP, LLC                        & 70 & 90 & 87 & 64 & NA & 32\\\\\n\t 9032125810 & OPTUMCARE NEW MEXICO, LLC                                             & 51 & NA & 79 & 47 & NA & 15\\\\\n\t 9133024334 & SOUTHEAST MISSOURI HOSPITAL PHYSICIANS LLC                            & 77 & 88 & 84 & 53 & NA & 26\\\\\n\t 9133378870 & NORTH OAKS PHYSICIAN GROUP, LLC                                       & 69 & 89 & 89 & 63 & NA & 22\\\\\n\t 9234041708 & PRESBYTERIAN HEALTHCARE SERVICES                                      & NA & NA & NA & 60 & NA & 16\\\\\n\t 9638491574 & SCL HEALTH MEDICAL GROUP - BILLINGS LLC                               & 61 & 84 & 82 & 67 & NA & 24\\\\\n\t 9830002617 & VIRGINIA MASON MEDICAL CENTER                                         & 55 & 81 & 80 & 62 & NA & 20\\\\\n\t 9830008770 & WASHINGTON UNIVERSITY                                                 & 65 & NA & NA & 61 & NA & 28\\\\\n\t 9830093640 & COOPERATIVE HEALTHCARE SERVICES, INC.                                 & 65 & 87 & 78 & 52 & NA & 25\\\\\n\t 9830094515 & SUTTER VALLEY MEDICAL FOUNDATION                                      & 60 & NA & 88 & 55 & NA & 24\\\\\n\t 9931011434 & PATIENT FIRST RICHMOND MEDICAL GROUP PLLC                             & 80 & NA & NA & 45 & NA & 19\\\\\n\\end{tabular}\n",
            "text/plain": [
              "   org_pac_id\n",
              "1  0446157747\n",
              "2  0446162697\n",
              "3  0547164295\n",
              "4  0749333730\n",
              "5  0840104360\n",
              "6  0840109864\n",
              "7  0840513552\n",
              "8  0941545784\n",
              "9  1052612785\n",
              "10 1254237779\n",
              "11 1557267069\n",
              "12 1759293111\n",
              "13 1759293954\n",
              "14 1759392079\n",
              "15 2163417478\n",
              "16 2264345206\n",
              "17 2365352820\n",
              "18 2466351481\n",
              "19 2466356209\n",
              "20 2466633102\n",
              "21 2860304334\n",
              "22 2860392529\n",
              "23 2860396330\n",
              "24 3072422716\n",
              "25 3173436490\n",
              "26 3173660776\n",
              "27 3375456734\n",
              "28 3476725599\n",
              "29 3779751656\n",
              "30 3870405988\n",
              "⋮  ⋮         \n",
              "66 7214936533\n",
              "67 7618270729\n",
              "68 7618861105\n",
              "69 7618871799\n",
              "70 7618880097\n",
              "71 7719876267\n",
              "72 7911801410\n",
              "73 7911816020\n",
              "74 8022904473\n",
              "75 8123200540\n",
              "76 8325952914\n",
              "77 8426112350\n",
              "78 8426113663\n",
              "79 8426136797\n",
              "80 8426231119\n",
              "81 8527044551\n",
              "82 8628073236\n",
              "83 8729072418\n",
              "84 8729139852\n",
              "85 8729351077\n",
              "86 9032125810\n",
              "87 9133024334\n",
              "88 9133378870\n",
              "89 9234041708\n",
              "90 9638491574\n",
              "91 9830002617\n",
              "92 9830008770\n",
              "93 9830093640\n",
              "94 9830094515\n",
              "95 9931011434\n",
              "   org_nm                                                               \n",
              "1  USC CARE MEDICAL GROUP INC                                           \n",
              "2  ASSOCIATION OF UNIVERSITY PHYSICIANS                                 \n",
              "3  BEAVER MEDICAL GROUP PC                                              \n",
              "4  CAPE PHYSICIANS ASSOCIATES PA                                        \n",
              "5  ALLIANCE PHYSICIANS INC                                              \n",
              "6  REX HOSPITAL INC                                                     \n",
              "7  SCL HEALTH MEDICAL GROUP DENVER LLC                                  \n",
              "8  GRITMAN MEDICAL CENTER INC                                           \n",
              "9  COMMUNITY MEDICAL GROUP LLC                                          \n",
              "10 OUR LADY OF LOURDES MEMORIAL HOSPITAL, INC                           \n",
              "11 ST MARYS HOSPITAL AND MEDICAL CENTER INC                             \n",
              "12 ALBANY MEDICAL COLLEGE                                               \n",
              "13 GROUP HEALTH PLAN INC                                                \n",
              "14 OHH PHYSICIANS LLC                                                   \n",
              "15 UNITED REGIONAL PHYSICIAN GROUP                                      \n",
              "16 MARSHFIELD CLINIC INC                                                \n",
              "17 SIU PHYSICIANS AND SURGEONS INC                                      \n",
              "18 CHRISTIANA CARE HEALTH INITIATIVES                                   \n",
              "19 HARBOR MEDICAL ASSOCIATES INC                                        \n",
              "20 SCL HEALTH MEDICAL GROUP - BUTTE LLC                                 \n",
              "21 BOARD OF REGENTS OF THE UNIVERSITY OF OKLAHOMA - OU PHYSICIANS       \n",
              "22 CAMPBELL COUNTY HOSPITAL DISTRICT                                    \n",
              "23 SUMMIT MEDICAL GROUP PLLC                                            \n",
              "24 THE BOARD OF TRUSTEES OF THE UNIVERSITY OF ILLINOIS                  \n",
              "25 THE VANCOUVER CLINIC INC PS                                          \n",
              "26 WESTCHESTER MEDICAL CENTER ADVANCED PHYSICIAN SERVICES PC            \n",
              "27 UTMB FACULTY GROUP PRACTICE                                          \n",
              "28 UNIVERSITY OF LOUISVILLE PHYSICIANS, INC                             \n",
              "29 CITY OF HOPE MEDICAL FOUNDATION                                      \n",
              "30 BRIGHAM AND WOMENS PHYSICIANS ORGANIZATION INC                       \n",
              "⋮  ⋮                                                                    \n",
              "66 BEND MEMORIAL CLINIC PC                                              \n",
              "67 RMH MEDICAL GROUP LLC                                                \n",
              "68 MERCY HOSPITAL AND MEDICAL CENTER                                    \n",
              "69 LEXINGTON COUNTY HEALTH SERVICES DISTRICT INC                        \n",
              "70 KING COUNTY PUBLIC HOSPITAL DISTRICT NO 2                            \n",
              "71 SIGNATURE HEALTHCARE MEDICAL GROUP INC                               \n",
              "72 PHYSICIANS REFERRAL SERVICE                                          \n",
              "73 TRINITY HEALTH                                                       \n",
              "74 COMMUNITY CARE PHYSICIANS PC                                         \n",
              "75 STERN CARDIOVASCULAR FOUNDATION, INC                                 \n",
              "76 LAKELAND REGIONAL HEALTH SYSTEMS INC                                 \n",
              "77 PHOEBE PHYSICIAN GROUP INC                                           \n",
              "78 CHESAPEAKE REGIONAL MEDICAL GROUP                                    \n",
              "79 MOUNT NITTANY MEDICAL CENTER HEALTH SERVICES INC                     \n",
              "80 VIRGINIA HOSPITAL CENTER PHYSICIAN GROUP LLC                         \n",
              "81 MICHIGAN PRIMARY CARE PARTNERS P C                                   \n",
              "82 PHYSICIAN PRIMECARE, INC                                             \n",
              "83 SACRED HEART HOSPITAL OF THE HOSPITAL SISTERS-3RD ORDER OF ST FRANCIS\n",
              "84 ALBEMARLE PHYSICIAN SERVICES- SENTARA INC                            \n",
              "85 PENN STATE HEALTH COMMUNITY MEDICAL GROUP, LLC                       \n",
              "86 OPTUMCARE NEW MEXICO, LLC                                            \n",
              "87 SOUTHEAST MISSOURI HOSPITAL PHYSICIANS LLC                           \n",
              "88 NORTH OAKS PHYSICIAN GROUP, LLC                                      \n",
              "89 PRESBYTERIAN HEALTHCARE SERVICES                                     \n",
              "90 SCL HEALTH MEDICAL GROUP - BILLINGS LLC                              \n",
              "91 VIRGINIA MASON MEDICAL CENTER                                        \n",
              "92 WASHINGTON UNIVERSITY                                                \n",
              "93 COOPERATIVE HEALTHCARE SERVICES, INC.                                \n",
              "94 SUTTER VALLEY MEDICAL FOUNDATION                                     \n",
              "95 PATIENT FIRST RICHMOND MEDICAL GROUP PLLC                            \n",
              "   CAHPS_GRP_1 CAHPS_GRP_2 CAHPS_GRP_3 CAHPS_GRP_5 CAHPS_GRP_8 CAHPS_GRP_12\n",
              "1  63          87          86          57          85          24          \n",
              "2  59          85          83          63          88          22          \n",
              "3  49          NA          75          44          73          12          \n",
              "4  67          84          85          65          82          24          \n",
              "5  66          87          87          64          87          28          \n",
              "6  73          87          84          67          91          30          \n",
              "7  58          83          76          58          78          26          \n",
              "8  46          86          81          54          NA          25          \n",
              "9  65          84          80          58          87          29          \n",
              "10 61          NA          NA          65          NA          17          \n",
              "11 NA          NA          NA          NA          NA          NA          \n",
              "12 65          86          81          62          76          17          \n",
              "13 60          89          86          58          88          13          \n",
              "14 75          NA          86          55          89          19          \n",
              "15 63          NA          76          60          84          20          \n",
              "16 56          83          80          65          81          17          \n",
              "17 NA          NA          85          60          81          24          \n",
              "18 68          NA          86          74          NA          NA          \n",
              "19 57          87          85          67          82          16          \n",
              "20 66          NA          NA          54          83          NA          \n",
              "21 69          91          89          64          87          27          \n",
              "22 64          82          80          56          84          30          \n",
              "23 70          88          86          64          84          27          \n",
              "24 NA          NA          86          NA          NA          NA          \n",
              "25 60          85          82          57          83          21          \n",
              "26 72          88          85          59          NA          21          \n",
              "27 NA          NA          NA          59          NA          24          \n",
              "28 69          90          86          59          NA          29          \n",
              "29 72          87          86          53          NA          19          \n",
              "30 65          88          80          67          NA          18          \n",
              "⋮  ⋮           ⋮           ⋮           ⋮           ⋮           ⋮           \n",
              "66 57          85          76          63          NA          25          \n",
              "67 61          84          81          57          NA          21          \n",
              "68 61          85          76          63          NA          21          \n",
              "69 73          88          87          53          NA          22          \n",
              "70 57          89          83          59          NA          19          \n",
              "71 60          82          78          63          NA          17          \n",
              "72 76          NA          96          NA          NA          NA          \n",
              "73 58          83          75          59          NA          23          \n",
              "74 67          85          81          61          NA          18          \n",
              "75 69          87          85          54          NA          30          \n",
              "76 62          80          78          65          NA          21          \n",
              "77 64          NA          85          53          NA          16          \n",
              "78 69          84          82          64          NA          23          \n",
              "79 71          90          88          62          NA          26          \n",
              "80 56          85          80          61          NA          16          \n",
              "81 NA          NA          NA          NA          NA          NA          \n",
              "82 62          88          88          58          NA          22          \n",
              "83 75          88          86          57          NA          NA          \n",
              "84 NA          NA          NA          NA          NA          NA          \n",
              "85 70          90          87          64          NA          32          \n",
              "86 51          NA          79          47          NA          15          \n",
              "87 77          88          84          53          NA          26          \n",
              "88 69          89          89          63          NA          22          \n",
              "89 NA          NA          NA          60          NA          16          \n",
              "90 61          84          82          67          NA          24          \n",
              "91 55          81          80          62          NA          20          \n",
              "92 65          NA          NA          61          NA          28          \n",
              "93 65          87          78          52          NA          25          \n",
              "94 60          NA          88          55          NA          24          \n",
              "95 80          NA          NA          45          NA          19          "
            ]
          },
          "metadata": {}
        }
      ]
    },
    {
      "cell_type": "markdown",
      "source": [
        "### How does `pivot_wider()` work?"
      ],
      "metadata": {
        "id": "2FZF9IB7eKQF"
      }
    },
    {
      "cell_type": "code",
      "source": [
        "df <- tribble(\n",
        "  ~id, ~measurement, ~value,\n",
        "  \"A\",        \"bp1\",    100,\n",
        "  \"B\",        \"bp1\",    140,\n",
        "  \"B\",        \"bp2\",    115,\n",
        "  \"A\",        \"bp2\",    120,\n",
        "  \"A\",        \"bp3\",    105\n",
        ")"
      ],
      "metadata": {
        "id": "riEPQxsueNqU"
      },
      "execution_count": 6,
      "outputs": []
    },
    {
      "cell_type": "code",
      "source": [
        "df"
      ],
      "metadata": {
        "colab": {
          "base_uri": "https://localhost:8080/",
          "height": 255
        },
        "id": "i222Ml4QeWZt",
        "outputId": "09cfc389-76a6-43d5-e2ba-7abc3b9f248e"
      },
      "execution_count": 7,
      "outputs": [
        {
          "output_type": "display_data",
          "data": {
            "text/html": [
              "<table class=\"dataframe\">\n",
              "<caption>A tibble: 5 × 3</caption>\n",
              "<thead>\n",
              "\t<tr><th scope=col>id</th><th scope=col>measurement</th><th scope=col>value</th></tr>\n",
              "\t<tr><th scope=col>&lt;chr&gt;</th><th scope=col>&lt;chr&gt;</th><th scope=col>&lt;dbl&gt;</th></tr>\n",
              "</thead>\n",
              "<tbody>\n",
              "\t<tr><td>A</td><td>bp1</td><td>100</td></tr>\n",
              "\t<tr><td>B</td><td>bp1</td><td>140</td></tr>\n",
              "\t<tr><td>B</td><td>bp2</td><td>115</td></tr>\n",
              "\t<tr><td>A</td><td>bp2</td><td>120</td></tr>\n",
              "\t<tr><td>A</td><td>bp3</td><td>105</td></tr>\n",
              "</tbody>\n",
              "</table>\n"
            ],
            "text/markdown": "\nA tibble: 5 × 3\n\n| id &lt;chr&gt; | measurement &lt;chr&gt; | value &lt;dbl&gt; |\n|---|---|---|\n| A | bp1 | 100 |\n| B | bp1 | 140 |\n| B | bp2 | 115 |\n| A | bp2 | 120 |\n| A | bp3 | 105 |\n\n",
            "text/latex": "A tibble: 5 × 3\n\\begin{tabular}{lll}\n id & measurement & value\\\\\n <chr> & <chr> & <dbl>\\\\\n\\hline\n\t A & bp1 & 100\\\\\n\t B & bp1 & 140\\\\\n\t B & bp2 & 115\\\\\n\t A & bp2 & 120\\\\\n\t A & bp3 & 105\\\\\n\\end{tabular}\n",
            "text/plain": [
              "  id measurement value\n",
              "1 A  bp1         100  \n",
              "2 B  bp1         140  \n",
              "3 B  bp2         115  \n",
              "4 A  bp2         120  \n",
              "5 A  bp3         105  "
            ]
          },
          "metadata": {}
        }
      ]
    },
    {
      "cell_type": "code",
      "source": [
        "df |>\n",
        "  pivot_wider(\n",
        "    names_from = measurement,\n",
        "    values_from = value\n",
        "  )"
      ],
      "metadata": {
        "colab": {
          "base_uri": "https://localhost:8080/",
          "height": 161
        },
        "id": "35dP0RpJeXxV",
        "outputId": "bb4aea07-3783-4019-99aa-4f8fba653b4f"
      },
      "execution_count": 8,
      "outputs": [
        {
          "output_type": "display_data",
          "data": {
            "text/html": [
              "<table class=\"dataframe\">\n",
              "<caption>A tibble: 2 × 4</caption>\n",
              "<thead>\n",
              "\t<tr><th scope=col>id</th><th scope=col>bp1</th><th scope=col>bp2</th><th scope=col>bp3</th></tr>\n",
              "\t<tr><th scope=col>&lt;chr&gt;</th><th scope=col>&lt;dbl&gt;</th><th scope=col>&lt;dbl&gt;</th><th scope=col>&lt;dbl&gt;</th></tr>\n",
              "</thead>\n",
              "<tbody>\n",
              "\t<tr><td>A</td><td>100</td><td>120</td><td>105</td></tr>\n",
              "\t<tr><td>B</td><td>140</td><td>115</td><td> NA</td></tr>\n",
              "</tbody>\n",
              "</table>\n"
            ],
            "text/markdown": "\nA tibble: 2 × 4\n\n| id &lt;chr&gt; | bp1 &lt;dbl&gt; | bp2 &lt;dbl&gt; | bp3 &lt;dbl&gt; |\n|---|---|---|---|\n| A | 100 | 120 | 105 |\n| B | 140 | 115 |  NA |\n\n",
            "text/latex": "A tibble: 2 × 4\n\\begin{tabular}{llll}\n id & bp1 & bp2 & bp3\\\\\n <chr> & <dbl> & <dbl> & <dbl>\\\\\n\\hline\n\t A & 100 & 120 & 105\\\\\n\t B & 140 & 115 &  NA\\\\\n\\end{tabular}\n",
            "text/plain": [
              "  id bp1 bp2 bp3\n",
              "1 A  100 120 105\n",
              "2 B  140 115  NA"
            ]
          },
          "metadata": {}
        }
      ]
    },
    {
      "cell_type": "markdown",
      "source": [
        "To begin the process `pivot_wider()` needs to first figure out what will go in the rows and columns. The new column names will be the unique values of measurement."
      ],
      "metadata": {
        "id": "0pxD2juHekLr"
      }
    },
    {
      "cell_type": "code",
      "source": [
        "df |>\n",
        "  distinct(measurement) |>\n",
        "  pull()"
      ],
      "metadata": {
        "colab": {
          "base_uri": "https://localhost:8080/",
          "height": 34
        },
        "id": "u5N-rA87eydJ",
        "outputId": "572d0ef2-253f-4ae0-ad42-164f80d2d73d"
      },
      "execution_count": 9,
      "outputs": [
        {
          "output_type": "display_data",
          "data": {
            "text/html": [
              "<style>\n",
              ".list-inline {list-style: none; margin:0; padding: 0}\n",
              ".list-inline>li {display: inline-block}\n",
              ".list-inline>li:not(:last-child)::after {content: \"\\00b7\"; padding: 0 .5ex}\n",
              "</style>\n",
              "<ol class=list-inline><li>'bp1'</li><li>'bp2'</li><li>'bp3'</li></ol>\n"
            ],
            "text/markdown": "1. 'bp1'\n2. 'bp2'\n3. 'bp3'\n\n\n",
            "text/latex": "\\begin{enumerate*}\n\\item 'bp1'\n\\item 'bp2'\n\\item 'bp3'\n\\end{enumerate*}\n",
            "text/plain": [
              "[1] \"bp1\" \"bp2\" \"bp3\""
            ]
          },
          "metadata": {}
        }
      ]
    },
    {
      "cell_type": "markdown",
      "source": [
        "By default, the rows in the output are determined by all the variables that aren't going into the new names or values. These are called the `id_cols`."
      ],
      "metadata": {
        "id": "WEZP5ksue37B"
      }
    },
    {
      "cell_type": "code",
      "source": [
        "df |>\n",
        "  select(-measurement, -value) |>\n",
        "  distinct()"
      ],
      "metadata": {
        "colab": {
          "base_uri": "https://localhost:8080/",
          "height": 178
        },
        "id": "XRhm71mBfPPW",
        "outputId": "fb52ba7d-0e9b-4e0f-dc4d-b7f0c9ea4428"
      },
      "execution_count": 11,
      "outputs": [
        {
          "output_type": "display_data",
          "data": {
            "text/html": [
              "<table class=\"dataframe\">\n",
              "<caption>A tibble: 2 × 1</caption>\n",
              "<thead>\n",
              "\t<tr><th scope=col>id</th></tr>\n",
              "\t<tr><th scope=col>&lt;chr&gt;</th></tr>\n",
              "</thead>\n",
              "<tbody>\n",
              "\t<tr><td>A</td></tr>\n",
              "\t<tr><td>B</td></tr>\n",
              "</tbody>\n",
              "</table>\n"
            ],
            "text/markdown": "\nA tibble: 2 × 1\n\n| id &lt;chr&gt; |\n|---|\n| A |\n| B |\n\n",
            "text/latex": "A tibble: 2 × 1\n\\begin{tabular}{l}\n id\\\\\n <chr>\\\\\n\\hline\n\t A\\\\\n\t B\\\\\n\\end{tabular}\n",
            "text/plain": [
              "  id\n",
              "1 A \n",
              "2 B "
            ]
          },
          "metadata": {}
        }
      ]
    },
    {
      "cell_type": "markdown",
      "source": [
        "`pivot_wider()` then combines these results to generate an empty data frame"
      ],
      "metadata": {
        "id": "FoZU1hrxfYXO"
      }
    },
    {
      "cell_type": "code",
      "source": [
        "df |>\n",
        "  select(-measurement, -value) |>\n",
        "  distinct() |>\n",
        "  mutate (x = NA, y = NA, z = NA)"
      ],
      "metadata": {
        "colab": {
          "base_uri": "https://localhost:8080/",
          "height": 161
        },
        "id": "xVqFYWk3fd3D",
        "outputId": "89dc4f04-51ac-4590-fd08-31581d1e2297"
      },
      "execution_count": 12,
      "outputs": [
        {
          "output_type": "display_data",
          "data": {
            "text/html": [
              "<table class=\"dataframe\">\n",
              "<caption>A tibble: 2 × 4</caption>\n",
              "<thead>\n",
              "\t<tr><th scope=col>id</th><th scope=col>x</th><th scope=col>y</th><th scope=col>z</th></tr>\n",
              "\t<tr><th scope=col>&lt;chr&gt;</th><th scope=col>&lt;lgl&gt;</th><th scope=col>&lt;lgl&gt;</th><th scope=col>&lt;lgl&gt;</th></tr>\n",
              "</thead>\n",
              "<tbody>\n",
              "\t<tr><td>A</td><td>NA</td><td>NA</td><td>NA</td></tr>\n",
              "\t<tr><td>B</td><td>NA</td><td>NA</td><td>NA</td></tr>\n",
              "</tbody>\n",
              "</table>\n"
            ],
            "text/markdown": "\nA tibble: 2 × 4\n\n| id &lt;chr&gt; | x &lt;lgl&gt; | y &lt;lgl&gt; | z &lt;lgl&gt; |\n|---|---|---|---|\n| A | NA | NA | NA |\n| B | NA | NA | NA |\n\n",
            "text/latex": "A tibble: 2 × 4\n\\begin{tabular}{llll}\n id & x & y & z\\\\\n <chr> & <lgl> & <lgl> & <lgl>\\\\\n\\hline\n\t A & NA & NA & NA\\\\\n\t B & NA & NA & NA\\\\\n\\end{tabular}\n",
            "text/plain": [
              "  id x  y  z \n",
              "1 A  NA NA NA\n",
              "2 B  NA NA NA"
            ]
          },
          "metadata": {}
        }
      ]
    },
    {
      "cell_type": "code",
      "source": [
        "df <- tribble(\n",
        "  ~id, ~measurement, ~value,\n",
        "  \"A\",        \"bp1\",    100,\n",
        "  \"A\",        \"bp1\",    102,\n",
        "  \"A\",        \"bp2\",    120,\n",
        "  \"B\",        \"bp1\",    140,\n",
        "  \"B\",        \"bp2\",    115\n",
        ")"
      ],
      "metadata": {
        "id": "aFiotgeefkXM"
      },
      "execution_count": 13,
      "outputs": []
    },
    {
      "cell_type": "code",
      "source": [
        "df |>\n",
        "  pivot_wider(\n",
        "    names_from = measurement,\n",
        "    values_from = value\n",
        "  )"
      ],
      "metadata": {
        "colab": {
          "base_uri": "https://localhost:8080/",
          "height": 300
        },
        "id": "lrWbZHhxf4Tq",
        "outputId": "83126e11-6581-4593-ec23-1b7107a1bdb0"
      },
      "execution_count": 14,
      "outputs": [
        {
          "output_type": "stream",
          "name": "stderr",
          "text": [
            "Warning message:\n",
            "“\u001b[1m\u001b[22mValues from `value` are not uniquely identified; output will contain list-cols.\n",
            "\u001b[36m•\u001b[39m Use `values_fn = list` to suppress this warning.\n",
            "\u001b[36m•\u001b[39m Use `values_fn = {summary_fun}` to summarise duplicates.\n",
            "\u001b[36m•\u001b[39m Use the following dplyr code to identify duplicates.\n",
            "  {data} |>\n",
            "  dplyr::summarise(n = dplyr::n(), .by = c(id, measurement)) |>\n",
            "  dplyr::filter(n > 1L)”\n"
          ]
        },
        {
          "output_type": "display_data",
          "data": {
            "text/html": [
              "<table class=\"dataframe\">\n",
              "<caption>A tibble: 2 × 3</caption>\n",
              "<thead>\n",
              "\t<tr><th scope=col>id</th><th scope=col>bp1</th><th scope=col>NA</th><th scope=col>bp2</th><th scope=col>NA</th></tr>\n",
              "\t<tr><th scope=col>&lt;chr&gt;</th><th scope=col>&lt;list&gt;</th><th scope=col>&lt;list&gt;</th></tr>\n",
              "</thead>\n",
              "<tbody>\n",
              "\t<tr><td>A</td><td>100</td><td>140</td><td>120</td><td>115</td></tr>\n",
              "\t<tr><td>B</td><td>102</td><td>140</td><td>120</td><td>115</td></tr>\n",
              "</tbody>\n",
              "</table>\n"
            ],
            "text/markdown": "\nA tibble: 2 × 3\n\n| id &lt;chr&gt; | bp1 &lt;list&gt; | NA &lt;list&gt; | bp2 &lt;chr&gt; | NA &lt;list&gt; |\n|---|---|---|\n| A | 100 | 140 | 120 | 115 |\n| B | 102 | 140 | 120 | 115 |\n\n",
            "text/latex": "A tibble: 2 × 3\n\\begin{tabular}{lll}\n id & bp1 & NA & bp2 & NA\\\\\n <chr> & <list> & <list>\\\\\n\\hline\n\t A & 100 & 140 & 120 & 115\\\\\n\t B & 102 & 140 & 120 & 115\\\\\n\\end{tabular}\n",
            "text/plain": [
              "  id bp1 <NA> bp2 <NA>\n",
              "1 A  100 140  120 115 \n",
              "2 B  102 140  120 115 "
            ]
          },
          "metadata": {}
        }
      ]
    },
    {
      "cell_type": "code",
      "source": [
        "df |>\n",
        "  group_by(id, measurement) |>\n",
        "  summarize(n = n(), .groups = \"drop\") |>\n",
        "  filter(n > 1)"
      ],
      "metadata": {
        "colab": {
          "base_uri": "https://localhost:8080/",
          "height": 129
        },
        "id": "P2cuGOBTgERZ",
        "outputId": "58519b9d-ebb0-4c2b-f537-e52eb596b68b"
      },
      "execution_count": 15,
      "outputs": [
        {
          "output_type": "display_data",
          "data": {
            "text/html": [
              "<table class=\"dataframe\">\n",
              "<caption>A tibble: 1 × 3</caption>\n",
              "<thead>\n",
              "\t<tr><th scope=col>id</th><th scope=col>measurement</th><th scope=col>n</th></tr>\n",
              "\t<tr><th scope=col>&lt;chr&gt;</th><th scope=col>&lt;chr&gt;</th><th scope=col>&lt;int&gt;</th></tr>\n",
              "</thead>\n",
              "<tbody>\n",
              "\t<tr><td>A</td><td>bp1</td><td>2</td></tr>\n",
              "</tbody>\n",
              "</table>\n"
            ],
            "text/markdown": "\nA tibble: 1 × 3\n\n| id &lt;chr&gt; | measurement &lt;chr&gt; | n &lt;int&gt; |\n|---|---|---|\n| A | bp1 | 2 |\n\n",
            "text/latex": "A tibble: 1 × 3\n\\begin{tabular}{lll}\n id & measurement & n\\\\\n <chr> & <chr> & <int>\\\\\n\\hline\n\t A & bp1 & 2\\\\\n\\end{tabular}\n",
            "text/plain": [
              "  id measurement n\n",
              "1 A  bp1         2"
            ]
          },
          "metadata": {}
        }
      ]
    },
    {
      "cell_type": "code",
      "source": [],
      "metadata": {
        "id": "OuhzLehjgHm4"
      },
      "execution_count": null,
      "outputs": []
    }
  ]
}